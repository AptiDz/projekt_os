{
 "cells": [
  {
   "cell_type": "markdown",
   "metadata": {},
   "source": [
    "## Uppgift 1\n",
    "### Landstatistik\n",
    "\n",
    "Ni får ett land tilldelat till er grupp. Börja med att anonymisera kolumnen med idrottarnas namn med hashfunktionen SHA-256.\n",
    "\n",
    "Undersök därefter hur det gått för landet i OS genom tiderna."
   ]
  },
  {
   "cell_type": "markdown",
   "metadata": {},
   "source": [
    "Visualisera exempelvis:\n",
    "\n",
    "- de sporter landet fått flest medaljer i\n"
   ]
  },
  {
   "cell_type": "code",
   "execution_count": 95,
   "metadata": {},
   "outputs": [],
   "source": [
    "import pandas as pd\n",
    "import hashlib as hl\n",
    "import matplotlib.pyplot as plt\n",
    "import plotly_express as px\n"
   ]
  },
  {
   "cell_type": "code",
   "execution_count": 96,
   "metadata": {},
   "outputs": [
    {
     "data": {
      "text/html": [
       "<div>\n",
       "<style scoped>\n",
       "    .dataframe tbody tr th:only-of-type {\n",
       "        vertical-align: middle;\n",
       "    }\n",
       "\n",
       "    .dataframe tbody tr th {\n",
       "        vertical-align: top;\n",
       "    }\n",
       "\n",
       "    .dataframe thead th {\n",
       "        text-align: right;\n",
       "    }\n",
       "</style>\n",
       "<table border=\"1\" class=\"dataframe\">\n",
       "  <thead>\n",
       "    <tr style=\"text-align: right;\">\n",
       "      <th></th>\n",
       "      <th>ID</th>\n",
       "      <th>Name</th>\n",
       "      <th>Sex</th>\n",
       "      <th>Age</th>\n",
       "      <th>Height</th>\n",
       "      <th>Weight</th>\n",
       "      <th>Team</th>\n",
       "      <th>NOC</th>\n",
       "      <th>Games</th>\n",
       "      <th>Year</th>\n",
       "      <th>Season</th>\n",
       "      <th>City</th>\n",
       "      <th>Sport</th>\n",
       "      <th>Event</th>\n",
       "      <th>Medal</th>\n",
       "    </tr>\n",
       "  </thead>\n",
       "  <tbody>\n",
       "    <tr>\n",
       "      <th>0</th>\n",
       "      <td>1</td>\n",
       "      <td>3a4eef48434c66b3f14ab0221f6762d0ef7c6135ab2790...</td>\n",
       "      <td>M</td>\n",
       "      <td>24.0</td>\n",
       "      <td>180.0</td>\n",
       "      <td>80.0</td>\n",
       "      <td>China</td>\n",
       "      <td>CHN</td>\n",
       "      <td>1992 Summer</td>\n",
       "      <td>1992</td>\n",
       "      <td>Summer</td>\n",
       "      <td>Barcelona</td>\n",
       "      <td>Basketball</td>\n",
       "      <td>Basketball Men's Basketball</td>\n",
       "      <td>NaN</td>\n",
       "    </tr>\n",
       "    <tr>\n",
       "      <th>1</th>\n",
       "      <td>2</td>\n",
       "      <td>a6430cc6630934275dc6283f7e97e9625e6587cdddec7a...</td>\n",
       "      <td>M</td>\n",
       "      <td>23.0</td>\n",
       "      <td>170.0</td>\n",
       "      <td>60.0</td>\n",
       "      <td>China</td>\n",
       "      <td>CHN</td>\n",
       "      <td>2012 Summer</td>\n",
       "      <td>2012</td>\n",
       "      <td>Summer</td>\n",
       "      <td>London</td>\n",
       "      <td>Judo</td>\n",
       "      <td>Judo Men's Extra-Lightweight</td>\n",
       "      <td>NaN</td>\n",
       "    </tr>\n",
       "    <tr>\n",
       "      <th>2</th>\n",
       "      <td>3</td>\n",
       "      <td>9c198b205332c2c8e1542e0f9534b9e270780a41d978ec...</td>\n",
       "      <td>M</td>\n",
       "      <td>24.0</td>\n",
       "      <td>NaN</td>\n",
       "      <td>NaN</td>\n",
       "      <td>Denmark</td>\n",
       "      <td>DEN</td>\n",
       "      <td>1920 Summer</td>\n",
       "      <td>1920</td>\n",
       "      <td>Summer</td>\n",
       "      <td>Antwerpen</td>\n",
       "      <td>Football</td>\n",
       "      <td>Football Men's Football</td>\n",
       "      <td>NaN</td>\n",
       "    </tr>\n",
       "  </tbody>\n",
       "</table>\n",
       "</div>"
      ],
      "text/plain": [
       "   ID                                               Name Sex   Age  Height  \\\n",
       "0   1  3a4eef48434c66b3f14ab0221f6762d0ef7c6135ab2790...   M  24.0   180.0   \n",
       "1   2  a6430cc6630934275dc6283f7e97e9625e6587cdddec7a...   M  23.0   170.0   \n",
       "2   3  9c198b205332c2c8e1542e0f9534b9e270780a41d978ec...   M  24.0     NaN   \n",
       "\n",
       "   Weight     Team  NOC        Games  Year  Season       City       Sport  \\\n",
       "0    80.0    China  CHN  1992 Summer  1992  Summer  Barcelona  Basketball   \n",
       "1    60.0    China  CHN  2012 Summer  2012  Summer     London        Judo   \n",
       "2     NaN  Denmark  DEN  1920 Summer  1920  Summer  Antwerpen    Football   \n",
       "\n",
       "                          Event Medal  \n",
       "0   Basketball Men's Basketball   NaN  \n",
       "1  Judo Men's Extra-Lightweight   NaN  \n",
       "2       Football Men's Football   NaN  "
      ]
     },
     "execution_count": 96,
     "metadata": {},
     "output_type": "execute_result"
    }
   ],
   "source": [
    "anon_df = pd.read_csv(\"athlete_events.csv\")\n",
    "anon_df[\"Name\"] = anon_df[\"Name\"].apply(lambda name: hl.sha256(name.encode()).hexdigest())\n",
    "\n",
    "anon_df.head(3)"
   ]
  },
  {
   "cell_type": "code",
   "execution_count": 97,
   "metadata": {},
   "outputs": [
    {
     "data": {
      "text/html": [
       "<div>\n",
       "<style scoped>\n",
       "    .dataframe tbody tr th:only-of-type {\n",
       "        vertical-align: middle;\n",
       "    }\n",
       "\n",
       "    .dataframe tbody tr th {\n",
       "        vertical-align: top;\n",
       "    }\n",
       "\n",
       "    .dataframe thead th {\n",
       "        text-align: right;\n",
       "    }\n",
       "</style>\n",
       "<table border=\"1\" class=\"dataframe\">\n",
       "  <thead>\n",
       "    <tr style=\"text-align: right;\">\n",
       "      <th></th>\n",
       "      <th>ID</th>\n",
       "      <th>Name</th>\n",
       "      <th>Sex</th>\n",
       "      <th>Age</th>\n",
       "      <th>Height</th>\n",
       "      <th>Weight</th>\n",
       "      <th>Team</th>\n",
       "      <th>NOC</th>\n",
       "      <th>Games</th>\n",
       "      <th>Year</th>\n",
       "      <th>Season</th>\n",
       "      <th>City</th>\n",
       "      <th>Sport</th>\n",
       "      <th>Event</th>\n",
       "      <th>Medal</th>\n",
       "    </tr>\n",
       "  </thead>\n",
       "  <tbody>\n",
       "    <tr>\n",
       "      <th>785</th>\n",
       "      <td>453</td>\n",
       "      <td>068d40aa50057f323cccc9b76161d21e3014635a0bd3b4...</td>\n",
       "      <td>M</td>\n",
       "      <td>24.0</td>\n",
       "      <td>NaN</td>\n",
       "      <td>NaN</td>\n",
       "      <td>Great Britain</td>\n",
       "      <td>GBR</td>\n",
       "      <td>1928 Summer</td>\n",
       "      <td>1928</td>\n",
       "      <td>Summer</td>\n",
       "      <td>Amsterdam</td>\n",
       "      <td>Water Polo</td>\n",
       "      <td>Water Polo Men's Water Polo</td>\n",
       "      <td>NaN</td>\n",
       "    </tr>\n",
       "    <tr>\n",
       "      <th>786</th>\n",
       "      <td>453</td>\n",
       "      <td>068d40aa50057f323cccc9b76161d21e3014635a0bd3b4...</td>\n",
       "      <td>M</td>\n",
       "      <td>32.0</td>\n",
       "      <td>NaN</td>\n",
       "      <td>NaN</td>\n",
       "      <td>Great Britain</td>\n",
       "      <td>GBR</td>\n",
       "      <td>1936 Summer</td>\n",
       "      <td>1936</td>\n",
       "      <td>Summer</td>\n",
       "      <td>Berlin</td>\n",
       "      <td>Water Polo</td>\n",
       "      <td>Water Polo Men's Water Polo</td>\n",
       "      <td>NaN</td>\n",
       "    </tr>\n",
       "    <tr>\n",
       "      <th>888</th>\n",
       "      <td>509</td>\n",
       "      <td>ad4b525a32fc54f54d6221545f27ff31d81200fa3bc741...</td>\n",
       "      <td>M</td>\n",
       "      <td>17.0</td>\n",
       "      <td>175.0</td>\n",
       "      <td>64.0</td>\n",
       "      <td>Great Britain</td>\n",
       "      <td>GBR</td>\n",
       "      <td>1976 Summer</td>\n",
       "      <td>1976</td>\n",
       "      <td>Summer</td>\n",
       "      <td>Montreal</td>\n",
       "      <td>Swimming</td>\n",
       "      <td>Swimming Men's 100 metres Backstroke</td>\n",
       "      <td>NaN</td>\n",
       "    </tr>\n",
       "  </tbody>\n",
       "</table>\n",
       "</div>"
      ],
      "text/plain": [
       "      ID                                               Name Sex   Age  Height  \\\n",
       "785  453  068d40aa50057f323cccc9b76161d21e3014635a0bd3b4...   M  24.0     NaN   \n",
       "786  453  068d40aa50057f323cccc9b76161d21e3014635a0bd3b4...   M  32.0     NaN   \n",
       "888  509  ad4b525a32fc54f54d6221545f27ff31d81200fa3bc741...   M  17.0   175.0   \n",
       "\n",
       "     Weight           Team  NOC        Games  Year  Season       City  \\\n",
       "785     NaN  Great Britain  GBR  1928 Summer  1928  Summer  Amsterdam   \n",
       "786     NaN  Great Britain  GBR  1936 Summer  1936  Summer     Berlin   \n",
       "888    64.0  Great Britain  GBR  1976 Summer  1976  Summer   Montreal   \n",
       "\n",
       "          Sport                                 Event Medal  \n",
       "785  Water Polo           Water Polo Men's Water Polo   NaN  \n",
       "786  Water Polo           Water Polo Men's Water Polo   NaN  \n",
       "888    Swimming  Swimming Men's 100 metres Backstroke   NaN  "
      ]
     },
     "execution_count": 97,
     "metadata": {},
     "output_type": "execute_result"
    }
   ],
   "source": [
    "df_gbr = anon_df[anon_df[\"NOC\"] == \"GBR\"]\n",
    "\n",
    "df_gbr.head(3)"
   ]
  },
  {
   "cell_type": "code",
   "execution_count": 98,
   "metadata": {},
   "outputs": [
    {
     "data": {
      "text/html": [
       "<div>\n",
       "<style scoped>\n",
       "    .dataframe tbody tr th:only-of-type {\n",
       "        vertical-align: middle;\n",
       "    }\n",
       "\n",
       "    .dataframe tbody tr th {\n",
       "        vertical-align: top;\n",
       "    }\n",
       "\n",
       "    .dataframe thead th {\n",
       "        text-align: right;\n",
       "    }\n",
       "</style>\n",
       "<table border=\"1\" class=\"dataframe\">\n",
       "  <thead>\n",
       "    <tr style=\"text-align: right;\">\n",
       "      <th></th>\n",
       "      <th>Medal</th>\n",
       "    </tr>\n",
       "    <tr>\n",
       "      <th>Sport</th>\n",
       "      <th></th>\n",
       "    </tr>\n",
       "  </thead>\n",
       "  <tbody>\n",
       "    <tr>\n",
       "      <th>Athletics</th>\n",
       "      <td>338</td>\n",
       "    </tr>\n",
       "    <tr>\n",
       "      <th>Rowing</th>\n",
       "      <td>270</td>\n",
       "    </tr>\n",
       "    <tr>\n",
       "      <th>Cycling</th>\n",
       "      <td>182</td>\n",
       "    </tr>\n",
       "    <tr>\n",
       "      <th>Hockey</th>\n",
       "      <td>163</td>\n",
       "    </tr>\n",
       "    <tr>\n",
       "      <th>Sailing</th>\n",
       "      <td>143</td>\n",
       "    </tr>\n",
       "    <tr>\n",
       "      <th>Swimming</th>\n",
       "      <td>127</td>\n",
       "    </tr>\n",
       "    <tr>\n",
       "      <th>Shooting</th>\n",
       "      <td>99</td>\n",
       "    </tr>\n",
       "    <tr>\n",
       "      <th>Equestrianism</th>\n",
       "      <td>83</td>\n",
       "    </tr>\n",
       "    <tr>\n",
       "      <th>Tennis</th>\n",
       "      <td>67</td>\n",
       "    </tr>\n",
       "    <tr>\n",
       "      <th>Boxing</th>\n",
       "      <td>56</td>\n",
       "    </tr>\n",
       "  </tbody>\n",
       "</table>\n",
       "</div>"
      ],
      "text/plain": [
       "               Medal\n",
       "Sport               \n",
       "Athletics        338\n",
       "Rowing           270\n",
       "Cycling          182\n",
       "Hockey           163\n",
       "Sailing          143\n",
       "Swimming         127\n",
       "Shooting          99\n",
       "Equestrianism     83\n",
       "Tennis            67\n",
       "Boxing            56"
      ]
     },
     "execution_count": 98,
     "metadata": {},
     "output_type": "execute_result"
    }
   ],
   "source": [
    "sport_medals = df_gbr.groupby(\"Sport\", observed=True)[[\"Medal\"]].count() \n",
    "top_10_sports = sport_medals.sort_values(by=\"Medal\", ascending=False).head(10)\n",
    "\n",
    "top_10_sports "
   ]
  },
  {
   "cell_type": "code",
   "execution_count": 99,
   "metadata": {},
   "outputs": [
    {
     "data": {
      "application/vnd.plotly.v1+json": {
       "config": {
        "plotlyServerURL": "https://plot.ly"
       },
       "data": [
        {
         "alignmentgroup": "True",
         "hovertemplate": "Sport=%{x}<br>Number of Medals=%{y}<extra></extra>",
         "legendgroup": "",
         "marker": {
          "color": "#636efa",
          "pattern": {
           "shape": ""
          }
         },
         "name": "",
         "offsetgroup": "",
         "orientation": "v",
         "showlegend": false,
         "textposition": "auto",
         "type": "bar",
         "x": [
          "Athletics",
          "Rowing",
          "Cycling",
          "Hockey",
          "Sailing",
          "Swimming",
          "Shooting",
          "Equestrianism",
          "Tennis",
          "Boxing"
         ],
         "xaxis": "x",
         "y": [
          338,
          270,
          182,
          163,
          143,
          127,
          99,
          83,
          67,
          56
         ],
         "yaxis": "y"
        }
       ],
       "layout": {
        "barmode": "relative",
        "legend": {
         "tracegroupgap": 0
        },
        "template": {
         "data": {
          "bar": [
           {
            "error_x": {
             "color": "#2a3f5f"
            },
            "error_y": {
             "color": "#2a3f5f"
            },
            "marker": {
             "line": {
              "color": "#E5ECF6",
              "width": 0.5
             },
             "pattern": {
              "fillmode": "overlay",
              "size": 10,
              "solidity": 0.2
             }
            },
            "type": "bar"
           }
          ],
          "barpolar": [
           {
            "marker": {
             "line": {
              "color": "#E5ECF6",
              "width": 0.5
             },
             "pattern": {
              "fillmode": "overlay",
              "size": 10,
              "solidity": 0.2
             }
            },
            "type": "barpolar"
           }
          ],
          "carpet": [
           {
            "aaxis": {
             "endlinecolor": "#2a3f5f",
             "gridcolor": "white",
             "linecolor": "white",
             "minorgridcolor": "white",
             "startlinecolor": "#2a3f5f"
            },
            "baxis": {
             "endlinecolor": "#2a3f5f",
             "gridcolor": "white",
             "linecolor": "white",
             "minorgridcolor": "white",
             "startlinecolor": "#2a3f5f"
            },
            "type": "carpet"
           }
          ],
          "choropleth": [
           {
            "colorbar": {
             "outlinewidth": 0,
             "ticks": ""
            },
            "type": "choropleth"
           }
          ],
          "contour": [
           {
            "colorbar": {
             "outlinewidth": 0,
             "ticks": ""
            },
            "colorscale": [
             [
              0,
              "#0d0887"
             ],
             [
              0.1111111111111111,
              "#46039f"
             ],
             [
              0.2222222222222222,
              "#7201a8"
             ],
             [
              0.3333333333333333,
              "#9c179e"
             ],
             [
              0.4444444444444444,
              "#bd3786"
             ],
             [
              0.5555555555555556,
              "#d8576b"
             ],
             [
              0.6666666666666666,
              "#ed7953"
             ],
             [
              0.7777777777777778,
              "#fb9f3a"
             ],
             [
              0.8888888888888888,
              "#fdca26"
             ],
             [
              1,
              "#f0f921"
             ]
            ],
            "type": "contour"
           }
          ],
          "contourcarpet": [
           {
            "colorbar": {
             "outlinewidth": 0,
             "ticks": ""
            },
            "type": "contourcarpet"
           }
          ],
          "heatmap": [
           {
            "colorbar": {
             "outlinewidth": 0,
             "ticks": ""
            },
            "colorscale": [
             [
              0,
              "#0d0887"
             ],
             [
              0.1111111111111111,
              "#46039f"
             ],
             [
              0.2222222222222222,
              "#7201a8"
             ],
             [
              0.3333333333333333,
              "#9c179e"
             ],
             [
              0.4444444444444444,
              "#bd3786"
             ],
             [
              0.5555555555555556,
              "#d8576b"
             ],
             [
              0.6666666666666666,
              "#ed7953"
             ],
             [
              0.7777777777777778,
              "#fb9f3a"
             ],
             [
              0.8888888888888888,
              "#fdca26"
             ],
             [
              1,
              "#f0f921"
             ]
            ],
            "type": "heatmap"
           }
          ],
          "heatmapgl": [
           {
            "colorbar": {
             "outlinewidth": 0,
             "ticks": ""
            },
            "colorscale": [
             [
              0,
              "#0d0887"
             ],
             [
              0.1111111111111111,
              "#46039f"
             ],
             [
              0.2222222222222222,
              "#7201a8"
             ],
             [
              0.3333333333333333,
              "#9c179e"
             ],
             [
              0.4444444444444444,
              "#bd3786"
             ],
             [
              0.5555555555555556,
              "#d8576b"
             ],
             [
              0.6666666666666666,
              "#ed7953"
             ],
             [
              0.7777777777777778,
              "#fb9f3a"
             ],
             [
              0.8888888888888888,
              "#fdca26"
             ],
             [
              1,
              "#f0f921"
             ]
            ],
            "type": "heatmapgl"
           }
          ],
          "histogram": [
           {
            "marker": {
             "pattern": {
              "fillmode": "overlay",
              "size": 10,
              "solidity": 0.2
             }
            },
            "type": "histogram"
           }
          ],
          "histogram2d": [
           {
            "colorbar": {
             "outlinewidth": 0,
             "ticks": ""
            },
            "colorscale": [
             [
              0,
              "#0d0887"
             ],
             [
              0.1111111111111111,
              "#46039f"
             ],
             [
              0.2222222222222222,
              "#7201a8"
             ],
             [
              0.3333333333333333,
              "#9c179e"
             ],
             [
              0.4444444444444444,
              "#bd3786"
             ],
             [
              0.5555555555555556,
              "#d8576b"
             ],
             [
              0.6666666666666666,
              "#ed7953"
             ],
             [
              0.7777777777777778,
              "#fb9f3a"
             ],
             [
              0.8888888888888888,
              "#fdca26"
             ],
             [
              1,
              "#f0f921"
             ]
            ],
            "type": "histogram2d"
           }
          ],
          "histogram2dcontour": [
           {
            "colorbar": {
             "outlinewidth": 0,
             "ticks": ""
            },
            "colorscale": [
             [
              0,
              "#0d0887"
             ],
             [
              0.1111111111111111,
              "#46039f"
             ],
             [
              0.2222222222222222,
              "#7201a8"
             ],
             [
              0.3333333333333333,
              "#9c179e"
             ],
             [
              0.4444444444444444,
              "#bd3786"
             ],
             [
              0.5555555555555556,
              "#d8576b"
             ],
             [
              0.6666666666666666,
              "#ed7953"
             ],
             [
              0.7777777777777778,
              "#fb9f3a"
             ],
             [
              0.8888888888888888,
              "#fdca26"
             ],
             [
              1,
              "#f0f921"
             ]
            ],
            "type": "histogram2dcontour"
           }
          ],
          "mesh3d": [
           {
            "colorbar": {
             "outlinewidth": 0,
             "ticks": ""
            },
            "type": "mesh3d"
           }
          ],
          "parcoords": [
           {
            "line": {
             "colorbar": {
              "outlinewidth": 0,
              "ticks": ""
             }
            },
            "type": "parcoords"
           }
          ],
          "pie": [
           {
            "automargin": true,
            "type": "pie"
           }
          ],
          "scatter": [
           {
            "fillpattern": {
             "fillmode": "overlay",
             "size": 10,
             "solidity": 0.2
            },
            "type": "scatter"
           }
          ],
          "scatter3d": [
           {
            "line": {
             "colorbar": {
              "outlinewidth": 0,
              "ticks": ""
             }
            },
            "marker": {
             "colorbar": {
              "outlinewidth": 0,
              "ticks": ""
             }
            },
            "type": "scatter3d"
           }
          ],
          "scattercarpet": [
           {
            "marker": {
             "colorbar": {
              "outlinewidth": 0,
              "ticks": ""
             }
            },
            "type": "scattercarpet"
           }
          ],
          "scattergeo": [
           {
            "marker": {
             "colorbar": {
              "outlinewidth": 0,
              "ticks": ""
             }
            },
            "type": "scattergeo"
           }
          ],
          "scattergl": [
           {
            "marker": {
             "colorbar": {
              "outlinewidth": 0,
              "ticks": ""
             }
            },
            "type": "scattergl"
           }
          ],
          "scattermapbox": [
           {
            "marker": {
             "colorbar": {
              "outlinewidth": 0,
              "ticks": ""
             }
            },
            "type": "scattermapbox"
           }
          ],
          "scatterpolar": [
           {
            "marker": {
             "colorbar": {
              "outlinewidth": 0,
              "ticks": ""
             }
            },
            "type": "scatterpolar"
           }
          ],
          "scatterpolargl": [
           {
            "marker": {
             "colorbar": {
              "outlinewidth": 0,
              "ticks": ""
             }
            },
            "type": "scatterpolargl"
           }
          ],
          "scatterternary": [
           {
            "marker": {
             "colorbar": {
              "outlinewidth": 0,
              "ticks": ""
             }
            },
            "type": "scatterternary"
           }
          ],
          "surface": [
           {
            "colorbar": {
             "outlinewidth": 0,
             "ticks": ""
            },
            "colorscale": [
             [
              0,
              "#0d0887"
             ],
             [
              0.1111111111111111,
              "#46039f"
             ],
             [
              0.2222222222222222,
              "#7201a8"
             ],
             [
              0.3333333333333333,
              "#9c179e"
             ],
             [
              0.4444444444444444,
              "#bd3786"
             ],
             [
              0.5555555555555556,
              "#d8576b"
             ],
             [
              0.6666666666666666,
              "#ed7953"
             ],
             [
              0.7777777777777778,
              "#fb9f3a"
             ],
             [
              0.8888888888888888,
              "#fdca26"
             ],
             [
              1,
              "#f0f921"
             ]
            ],
            "type": "surface"
           }
          ],
          "table": [
           {
            "cells": {
             "fill": {
              "color": "#EBF0F8"
             },
             "line": {
              "color": "white"
             }
            },
            "header": {
             "fill": {
              "color": "#C8D4E3"
             },
             "line": {
              "color": "white"
             }
            },
            "type": "table"
           }
          ]
         },
         "layout": {
          "annotationdefaults": {
           "arrowcolor": "#2a3f5f",
           "arrowhead": 0,
           "arrowwidth": 1
          },
          "autotypenumbers": "strict",
          "coloraxis": {
           "colorbar": {
            "outlinewidth": 0,
            "ticks": ""
           }
          },
          "colorscale": {
           "diverging": [
            [
             0,
             "#8e0152"
            ],
            [
             0.1,
             "#c51b7d"
            ],
            [
             0.2,
             "#de77ae"
            ],
            [
             0.3,
             "#f1b6da"
            ],
            [
             0.4,
             "#fde0ef"
            ],
            [
             0.5,
             "#f7f7f7"
            ],
            [
             0.6,
             "#e6f5d0"
            ],
            [
             0.7,
             "#b8e186"
            ],
            [
             0.8,
             "#7fbc41"
            ],
            [
             0.9,
             "#4d9221"
            ],
            [
             1,
             "#276419"
            ]
           ],
           "sequential": [
            [
             0,
             "#0d0887"
            ],
            [
             0.1111111111111111,
             "#46039f"
            ],
            [
             0.2222222222222222,
             "#7201a8"
            ],
            [
             0.3333333333333333,
             "#9c179e"
            ],
            [
             0.4444444444444444,
             "#bd3786"
            ],
            [
             0.5555555555555556,
             "#d8576b"
            ],
            [
             0.6666666666666666,
             "#ed7953"
            ],
            [
             0.7777777777777778,
             "#fb9f3a"
            ],
            [
             0.8888888888888888,
             "#fdca26"
            ],
            [
             1,
             "#f0f921"
            ]
           ],
           "sequentialminus": [
            [
             0,
             "#0d0887"
            ],
            [
             0.1111111111111111,
             "#46039f"
            ],
            [
             0.2222222222222222,
             "#7201a8"
            ],
            [
             0.3333333333333333,
             "#9c179e"
            ],
            [
             0.4444444444444444,
             "#bd3786"
            ],
            [
             0.5555555555555556,
             "#d8576b"
            ],
            [
             0.6666666666666666,
             "#ed7953"
            ],
            [
             0.7777777777777778,
             "#fb9f3a"
            ],
            [
             0.8888888888888888,
             "#fdca26"
            ],
            [
             1,
             "#f0f921"
            ]
           ]
          },
          "colorway": [
           "#636efa",
           "#EF553B",
           "#00cc96",
           "#ab63fa",
           "#FFA15A",
           "#19d3f3",
           "#FF6692",
           "#B6E880",
           "#FF97FF",
           "#FECB52"
          ],
          "font": {
           "color": "#2a3f5f"
          },
          "geo": {
           "bgcolor": "white",
           "lakecolor": "white",
           "landcolor": "#E5ECF6",
           "showlakes": true,
           "showland": true,
           "subunitcolor": "white"
          },
          "hoverlabel": {
           "align": "left"
          },
          "hovermode": "closest",
          "mapbox": {
           "style": "light"
          },
          "paper_bgcolor": "white",
          "plot_bgcolor": "#E5ECF6",
          "polar": {
           "angularaxis": {
            "gridcolor": "white",
            "linecolor": "white",
            "ticks": ""
           },
           "bgcolor": "#E5ECF6",
           "radialaxis": {
            "gridcolor": "white",
            "linecolor": "white",
            "ticks": ""
           }
          },
          "scene": {
           "xaxis": {
            "backgroundcolor": "#E5ECF6",
            "gridcolor": "white",
            "gridwidth": 2,
            "linecolor": "white",
            "showbackground": true,
            "ticks": "",
            "zerolinecolor": "white"
           },
           "yaxis": {
            "backgroundcolor": "#E5ECF6",
            "gridcolor": "white",
            "gridwidth": 2,
            "linecolor": "white",
            "showbackground": true,
            "ticks": "",
            "zerolinecolor": "white"
           },
           "zaxis": {
            "backgroundcolor": "#E5ECF6",
            "gridcolor": "white",
            "gridwidth": 2,
            "linecolor": "white",
            "showbackground": true,
            "ticks": "",
            "zerolinecolor": "white"
           }
          },
          "shapedefaults": {
           "line": {
            "color": "#2a3f5f"
           }
          },
          "ternary": {
           "aaxis": {
            "gridcolor": "white",
            "linecolor": "white",
            "ticks": ""
           },
           "baxis": {
            "gridcolor": "white",
            "linecolor": "white",
            "ticks": ""
           },
           "bgcolor": "#E5ECF6",
           "caxis": {
            "gridcolor": "white",
            "linecolor": "white",
            "ticks": ""
           }
          },
          "title": {
           "x": 0.05
          },
          "xaxis": {
           "automargin": true,
           "gridcolor": "white",
           "linecolor": "white",
           "ticks": "",
           "title": {
            "standoff": 15
           },
           "zerolinecolor": "white",
           "zerolinewidth": 2
          },
          "yaxis": {
           "automargin": true,
           "gridcolor": "white",
           "linecolor": "white",
           "ticks": "",
           "title": {
            "standoff": 15
           },
           "zerolinecolor": "white",
           "zerolinewidth": 2
          }
         }
        },
        "title": {
         "text": "Number of Medals per Sport"
        },
        "xaxis": {
         "anchor": "y",
         "domain": [
          0,
          1
         ],
         "title": {
          "text": "Sport"
         }
        },
        "yaxis": {
         "anchor": "x",
         "domain": [
          0,
          1
         ],
         "title": {
          "text": "Number of Medals"
         }
        }
       }
      }
     },
     "metadata": {},
     "output_type": "display_data"
    }
   ],
   "source": [
    "sport_medals = df_gbr.groupby(\"Sport\")[\"Medal\"].count().sort_values(ascending=False)\n",
    "\n",
    "fig = px.bar(\n",
    "    top_10_sports,\n",
    "    x=top_10_sports.index,\n",
    "    y=\"Medal\",\n",
    "    labels={\"x\": \"Sport\", \"Medal\": \"Number of Medals\"},\n",
    "    title=\"Number of Medals per Sport\",\n",
    ")\n",
    "\n",
    "fig.show()"
   ]
  },
  {
   "cell_type": "markdown",
   "metadata": {},
   "source": [
    "- antal medaljer per OS\n"
   ]
  },
  {
   "cell_type": "code",
   "execution_count": null,
   "metadata": {},
   "outputs": [
    {
     "data": {
      "text/html": [
       "<div>\n",
       "<style scoped>\n",
       "    .dataframe tbody tr th:only-of-type {\n",
       "        vertical-align: middle;\n",
       "    }\n",
       "\n",
       "    .dataframe tbody tr th {\n",
       "        vertical-align: top;\n",
       "    }\n",
       "\n",
       "    .dataframe thead th {\n",
       "        text-align: right;\n",
       "    }\n",
       "</style>\n",
       "<table border=\"1\" class=\"dataframe\">\n",
       "  <thead>\n",
       "    <tr style=\"text-align: right;\">\n",
       "      <th></th>\n",
       "      <th>Medal</th>\n",
       "    </tr>\n",
       "    <tr>\n",
       "      <th>Games</th>\n",
       "      <th></th>\n",
       "    </tr>\n",
       "  </thead>\n",
       "  <tbody>\n",
       "    <tr>\n",
       "      <th>1896 Summer</th>\n",
       "      <td>9</td>\n",
       "    </tr>\n",
       "    <tr>\n",
       "      <th>1900 Summer</th>\n",
       "      <td>108</td>\n",
       "    </tr>\n",
       "    <tr>\n",
       "      <th>1904 Summer</th>\n",
       "      <td>2</td>\n",
       "    </tr>\n",
       "    <tr>\n",
       "      <th>1906 Summer</th>\n",
       "      <td>39</td>\n",
       "    </tr>\n",
       "    <tr>\n",
       "      <th>1908 Summer</th>\n",
       "      <td>368</td>\n",
       "    </tr>\n",
       "    <tr>\n",
       "      <th>1912 Summer</th>\n",
       "      <td>170</td>\n",
       "    </tr>\n",
       "    <tr>\n",
       "      <th>1920 Summer</th>\n",
       "      <td>111</td>\n",
       "    </tr>\n",
       "    <tr>\n",
       "      <th>1924 Summer</th>\n",
       "      <td>64</td>\n",
       "    </tr>\n",
       "    <tr>\n",
       "      <th>1924 Winter</th>\n",
       "      <td>31</td>\n",
       "    </tr>\n",
       "    <tr>\n",
       "      <th>1928 Summer</th>\n",
       "      <td>58</td>\n",
       "    </tr>\n",
       "  </tbody>\n",
       "</table>\n",
       "</div>"
      ],
      "text/plain": [
       "             Medal\n",
       "Games             \n",
       "1896 Summer      9\n",
       "1900 Summer    108\n",
       "1904 Summer      2\n",
       "1906 Summer     39\n",
       "1908 Summer    368\n",
       "1912 Summer    170\n",
       "1920 Summer    111\n",
       "1924 Summer     64\n",
       "1924 Winter     31\n",
       "1928 Summer     58"
      ]
     },
     "execution_count": 100,
     "metadata": {},
     "output_type": "execute_result"
    }
   ],
   "source": [
    "os_medals = df_gbr.groupby(\"Games\", observed=True)[[\"Medal\"]].count()\n",
    "\n",
    "os_medals.tail(10)"
   ]
  },
  {
   "cell_type": "code",
   "execution_count": null,
   "metadata": {},
   "outputs": [
    {
     "data": {
      "text/html": [
       "<div>\n",
       "<style scoped>\n",
       "    .dataframe tbody tr th:only-of-type {\n",
       "        vertical-align: middle;\n",
       "    }\n",
       "\n",
       "    .dataframe tbody tr th {\n",
       "        vertical-align: top;\n",
       "    }\n",
       "\n",
       "    .dataframe thead th {\n",
       "        text-align: right;\n",
       "    }\n",
       "</style>\n",
       "<table border=\"1\" class=\"dataframe\">\n",
       "  <thead>\n",
       "    <tr style=\"text-align: right;\">\n",
       "      <th>Medal</th>\n",
       "      <th>Bronze</th>\n",
       "      <th>Gold</th>\n",
       "      <th>Silver</th>\n",
       "    </tr>\n",
       "    <tr>\n",
       "      <th>Games</th>\n",
       "      <th></th>\n",
       "      <th></th>\n",
       "      <th></th>\n",
       "    </tr>\n",
       "  </thead>\n",
       "  <tbody>\n",
       "    <tr>\n",
       "      <th>1896 Summer</th>\n",
       "      <td>3</td>\n",
       "      <td>3</td>\n",
       "      <td>3</td>\n",
       "    </tr>\n",
       "    <tr>\n",
       "      <th>1900 Summer</th>\n",
       "      <td>15</td>\n",
       "      <td>59</td>\n",
       "      <td>34</td>\n",
       "    </tr>\n",
       "    <tr>\n",
       "      <th>1904 Summer</th>\n",
       "      <td>0</td>\n",
       "      <td>1</td>\n",
       "      <td>1</td>\n",
       "    </tr>\n",
       "    <tr>\n",
       "      <th>1906 Summer</th>\n",
       "      <td>8</td>\n",
       "      <td>9</td>\n",
       "      <td>22</td>\n",
       "    </tr>\n",
       "    <tr>\n",
       "      <th>1908 Summer</th>\n",
       "      <td>90</td>\n",
       "      <td>147</td>\n",
       "      <td>131</td>\n",
       "    </tr>\n",
       "    <tr>\n",
       "      <th>1912 Summer</th>\n",
       "      <td>59</td>\n",
       "      <td>47</td>\n",
       "      <td>64</td>\n",
       "    </tr>\n",
       "    <tr>\n",
       "      <th>1920 Summer</th>\n",
       "      <td>17</td>\n",
       "      <td>52</td>\n",
       "      <td>42</td>\n",
       "    </tr>\n",
       "    <tr>\n",
       "      <th>1924 Summer</th>\n",
       "      <td>19</td>\n",
       "      <td>15</td>\n",
       "      <td>30</td>\n",
       "    </tr>\n",
       "    <tr>\n",
       "      <th>1924 Winter</th>\n",
       "      <td>11</td>\n",
       "      <td>16</td>\n",
       "      <td>4</td>\n",
       "    </tr>\n",
       "    <tr>\n",
       "      <th>1928 Summer</th>\n",
       "      <td>24</td>\n",
       "      <td>7</td>\n",
       "      <td>27</td>\n",
       "    </tr>\n",
       "  </tbody>\n",
       "</table>\n",
       "</div>"
      ],
      "text/plain": [
       "Medal        Bronze  Gold  Silver\n",
       "Games                            \n",
       "1896 Summer       3     3       3\n",
       "1900 Summer      15    59      34\n",
       "1904 Summer       0     1       1\n",
       "1906 Summer       8     9      22\n",
       "1908 Summer      90   147     131\n",
       "1912 Summer      59    47      64\n",
       "1920 Summer      17    52      42\n",
       "1924 Summer      19    15      30\n",
       "1924 Winter      11    16       4\n",
       "1928 Summer      24     7      27"
      ]
     },
     "execution_count": 101,
     "metadata": {},
     "output_type": "execute_result"
    }
   ],
   "source": [
    "# https://pandas.pydata.org/docs/reference/api/pandas.DataFrame.groupby.html \n",
    "# https://stackoverflow.com/questions/72495322/faster-alternative-to-groupby-unstack-then-fillna \n",
    "# https://www.w3resource.com/pandas/dataframe/dataframe-unstack.php\n",
    "os_type_medals = df_gbr.groupby(['Games', 'Medal'], observed=True).size().unstack(fill_value=0) \n",
    "\n",
    "os_type_medals.tail(10)"
   ]
  },
  {
   "cell_type": "code",
   "execution_count": null,
   "metadata": {},
   "outputs": [
    {
     "data": {
      "application/vnd.plotly.v1+json": {
       "config": {
        "plotlyServerURL": "https://plot.ly"
       },
       "data": [
        {
         "alignmentgroup": "True",
         "hovertemplate": "Type of Medals=Bronze<br>Year=%{x}<br>Number of Medals=%{y}<extra></extra>",
         "legendgroup": "Bronze",
         "marker": {
          "color": "tan",
          "pattern": {
           "shape": ""
          }
         },
         "name": "Bronze",
         "offsetgroup": "Bronze",
         "orientation": "v",
         "showlegend": true,
         "textposition": "auto",
         "type": "bar",
         "x": [
          "1896 Summer",
          "1900 Summer",
          "1904 Summer",
          "1906 Summer",
          "1908 Summer",
          "1912 Summer",
          "1920 Summer",
          "1924 Summer",
          "1924 Winter",
          "1928 Summer",
          "1928 Winter",
          "1932 Summer",
          "1936 Summer",
          "1936 Winter",
          "1948 Summer",
          "1948 Winter",
          "1952 Summer",
          "1952 Winter",
          "1956 Summer",
          "1960 Summer",
          "1964 Summer",
          "1964 Winter",
          "1968 Summer",
          "1972 Summer",
          "1976 Summer",
          "1976 Winter",
          "1980 Summer",
          "1980 Winter",
          "1984 Summer",
          "1984 Winter",
          "1988 Summer",
          "1992 Summer",
          "1994 Winter",
          "1996 Summer",
          "1998 Winter",
          "2000 Summer",
          "2002 Winter",
          "2004 Summer",
          "2006 Winter",
          "2008 Summer",
          "2010 Winter",
          "2012 Summer",
          "2014 Winter",
          "2016 Summer"
         ],
         "xaxis": "x",
         "y": [
          3,
          15,
          0,
          8,
          90,
          59,
          17,
          19,
          11,
          24,
          1,
          14,
          8,
          4,
          12,
          2,
          26,
          0,
          22,
          15,
          5,
          0,
          5,
          12,
          11,
          0,
          24,
          0,
          42,
          0,
          15,
          39,
          3,
          9,
          4,
          12,
          1,
          15,
          0,
          25,
          0,
          48,
          5,
          26
         ],
         "yaxis": "y"
        },
        {
         "alignmentgroup": "True",
         "hovertemplate": "Type of Medals=Silver<br>Year=%{x}<br>Number of Medals=%{y}<extra></extra>",
         "legendgroup": "Silver",
         "marker": {
          "color": "silver",
          "pattern": {
           "shape": ""
          }
         },
         "name": "Silver",
         "offsetgroup": "Silver",
         "orientation": "v",
         "showlegend": true,
         "textposition": "auto",
         "type": "bar",
         "x": [
          "1896 Summer",
          "1900 Summer",
          "1904 Summer",
          "1906 Summer",
          "1908 Summer",
          "1912 Summer",
          "1920 Summer",
          "1924 Summer",
          "1924 Winter",
          "1928 Summer",
          "1928 Winter",
          "1932 Summer",
          "1936 Summer",
          "1936 Winter",
          "1948 Summer",
          "1948 Winter",
          "1952 Summer",
          "1952 Winter",
          "1956 Summer",
          "1960 Summer",
          "1964 Summer",
          "1964 Winter",
          "1968 Summer",
          "1972 Summer",
          "1976 Summer",
          "1976 Winter",
          "1980 Summer",
          "1980 Winter",
          "1984 Summer",
          "1984 Winter",
          "1988 Summer",
          "1992 Summer",
          "1994 Winter",
          "1996 Summer",
          "1998 Winter",
          "2000 Summer",
          "2002 Winter",
          "2004 Summer",
          "2006 Winter",
          "2008 Summer",
          "2010 Winter",
          "2012 Summer",
          "2014 Winter",
          "2016 Summer"
         ],
         "xaxis": "x",
         "y": [
          3,
          34,
          1,
          22,
          131,
          64,
          42,
          30,
          4,
          27,
          0,
          12,
          16,
          1,
          42,
          0,
          2,
          0,
          16,
          11,
          19,
          0,
          5,
          9,
          15,
          0,
          18,
          0,
          20,
          0,
          17,
          3,
          0,
          15,
          0,
          20,
          0,
          25,
          1,
          25,
          0,
          30,
          4,
          55
         ],
         "yaxis": "y"
        },
        {
         "alignmentgroup": "True",
         "hovertemplate": "Type of Medals=Gold<br>Year=%{x}<br>Number of Medals=%{y}<extra></extra>",
         "legendgroup": "Gold",
         "marker": {
          "color": "gold",
          "pattern": {
           "shape": ""
          }
         },
         "name": "Gold",
         "offsetgroup": "Gold",
         "orientation": "v",
         "showlegend": true,
         "textposition": "auto",
         "type": "bar",
         "x": [
          "1896 Summer",
          "1900 Summer",
          "1904 Summer",
          "1906 Summer",
          "1908 Summer",
          "1912 Summer",
          "1920 Summer",
          "1924 Summer",
          "1924 Winter",
          "1928 Summer",
          "1928 Winter",
          "1932 Summer",
          "1936 Summer",
          "1936 Winter",
          "1948 Summer",
          "1948 Winter",
          "1952 Summer",
          "1952 Winter",
          "1956 Summer",
          "1960 Summer",
          "1964 Summer",
          "1964 Winter",
          "1968 Summer",
          "1972 Summer",
          "1976 Summer",
          "1976 Winter",
          "1980 Summer",
          "1980 Winter",
          "1984 Summer",
          "1984 Winter",
          "1988 Summer",
          "1992 Summer",
          "1994 Winter",
          "1996 Summer",
          "1998 Winter",
          "2000 Summer",
          "2002 Winter",
          "2004 Summer",
          "2006 Winter",
          "2008 Summer",
          "2010 Winter",
          "2012 Summer",
          "2014 Winter",
          "2016 Summer"
         ],
         "xaxis": "x",
         "y": [
          3,
          59,
          1,
          9,
          147,
          47,
          52,
          15,
          16,
          7,
          0,
          9,
          12,
          12,
          7,
          0,
          3,
          1,
          8,
          2,
          4,
          2,
          9,
          8,
          6,
          1,
          5,
          1,
          9,
          2,
          22,
          8,
          0,
          2,
          0,
          22,
          5,
          17,
          0,
          31,
          1,
          48,
          1,
          64
         ],
         "yaxis": "y"
        }
       ],
       "layout": {
        "barmode": "stack",
        "legend": {
         "title": {
          "text": "Type of Medals"
         },
         "tracegroupgap": 0
        },
        "template": {
         "data": {
          "bar": [
           {
            "error_x": {
             "color": "#2a3f5f"
            },
            "error_y": {
             "color": "#2a3f5f"
            },
            "marker": {
             "line": {
              "color": "#E5ECF6",
              "width": 0.5
             },
             "pattern": {
              "fillmode": "overlay",
              "size": 10,
              "solidity": 0.2
             }
            },
            "type": "bar"
           }
          ],
          "barpolar": [
           {
            "marker": {
             "line": {
              "color": "#E5ECF6",
              "width": 0.5
             },
             "pattern": {
              "fillmode": "overlay",
              "size": 10,
              "solidity": 0.2
             }
            },
            "type": "barpolar"
           }
          ],
          "carpet": [
           {
            "aaxis": {
             "endlinecolor": "#2a3f5f",
             "gridcolor": "white",
             "linecolor": "white",
             "minorgridcolor": "white",
             "startlinecolor": "#2a3f5f"
            },
            "baxis": {
             "endlinecolor": "#2a3f5f",
             "gridcolor": "white",
             "linecolor": "white",
             "minorgridcolor": "white",
             "startlinecolor": "#2a3f5f"
            },
            "type": "carpet"
           }
          ],
          "choropleth": [
           {
            "colorbar": {
             "outlinewidth": 0,
             "ticks": ""
            },
            "type": "choropleth"
           }
          ],
          "contour": [
           {
            "colorbar": {
             "outlinewidth": 0,
             "ticks": ""
            },
            "colorscale": [
             [
              0,
              "#0d0887"
             ],
             [
              0.1111111111111111,
              "#46039f"
             ],
             [
              0.2222222222222222,
              "#7201a8"
             ],
             [
              0.3333333333333333,
              "#9c179e"
             ],
             [
              0.4444444444444444,
              "#bd3786"
             ],
             [
              0.5555555555555556,
              "#d8576b"
             ],
             [
              0.6666666666666666,
              "#ed7953"
             ],
             [
              0.7777777777777778,
              "#fb9f3a"
             ],
             [
              0.8888888888888888,
              "#fdca26"
             ],
             [
              1,
              "#f0f921"
             ]
            ],
            "type": "contour"
           }
          ],
          "contourcarpet": [
           {
            "colorbar": {
             "outlinewidth": 0,
             "ticks": ""
            },
            "type": "contourcarpet"
           }
          ],
          "heatmap": [
           {
            "colorbar": {
             "outlinewidth": 0,
             "ticks": ""
            },
            "colorscale": [
             [
              0,
              "#0d0887"
             ],
             [
              0.1111111111111111,
              "#46039f"
             ],
             [
              0.2222222222222222,
              "#7201a8"
             ],
             [
              0.3333333333333333,
              "#9c179e"
             ],
             [
              0.4444444444444444,
              "#bd3786"
             ],
             [
              0.5555555555555556,
              "#d8576b"
             ],
             [
              0.6666666666666666,
              "#ed7953"
             ],
             [
              0.7777777777777778,
              "#fb9f3a"
             ],
             [
              0.8888888888888888,
              "#fdca26"
             ],
             [
              1,
              "#f0f921"
             ]
            ],
            "type": "heatmap"
           }
          ],
          "heatmapgl": [
           {
            "colorbar": {
             "outlinewidth": 0,
             "ticks": ""
            },
            "colorscale": [
             [
              0,
              "#0d0887"
             ],
             [
              0.1111111111111111,
              "#46039f"
             ],
             [
              0.2222222222222222,
              "#7201a8"
             ],
             [
              0.3333333333333333,
              "#9c179e"
             ],
             [
              0.4444444444444444,
              "#bd3786"
             ],
             [
              0.5555555555555556,
              "#d8576b"
             ],
             [
              0.6666666666666666,
              "#ed7953"
             ],
             [
              0.7777777777777778,
              "#fb9f3a"
             ],
             [
              0.8888888888888888,
              "#fdca26"
             ],
             [
              1,
              "#f0f921"
             ]
            ],
            "type": "heatmapgl"
           }
          ],
          "histogram": [
           {
            "marker": {
             "pattern": {
              "fillmode": "overlay",
              "size": 10,
              "solidity": 0.2
             }
            },
            "type": "histogram"
           }
          ],
          "histogram2d": [
           {
            "colorbar": {
             "outlinewidth": 0,
             "ticks": ""
            },
            "colorscale": [
             [
              0,
              "#0d0887"
             ],
             [
              0.1111111111111111,
              "#46039f"
             ],
             [
              0.2222222222222222,
              "#7201a8"
             ],
             [
              0.3333333333333333,
              "#9c179e"
             ],
             [
              0.4444444444444444,
              "#bd3786"
             ],
             [
              0.5555555555555556,
              "#d8576b"
             ],
             [
              0.6666666666666666,
              "#ed7953"
             ],
             [
              0.7777777777777778,
              "#fb9f3a"
             ],
             [
              0.8888888888888888,
              "#fdca26"
             ],
             [
              1,
              "#f0f921"
             ]
            ],
            "type": "histogram2d"
           }
          ],
          "histogram2dcontour": [
           {
            "colorbar": {
             "outlinewidth": 0,
             "ticks": ""
            },
            "colorscale": [
             [
              0,
              "#0d0887"
             ],
             [
              0.1111111111111111,
              "#46039f"
             ],
             [
              0.2222222222222222,
              "#7201a8"
             ],
             [
              0.3333333333333333,
              "#9c179e"
             ],
             [
              0.4444444444444444,
              "#bd3786"
             ],
             [
              0.5555555555555556,
              "#d8576b"
             ],
             [
              0.6666666666666666,
              "#ed7953"
             ],
             [
              0.7777777777777778,
              "#fb9f3a"
             ],
             [
              0.8888888888888888,
              "#fdca26"
             ],
             [
              1,
              "#f0f921"
             ]
            ],
            "type": "histogram2dcontour"
           }
          ],
          "mesh3d": [
           {
            "colorbar": {
             "outlinewidth": 0,
             "ticks": ""
            },
            "type": "mesh3d"
           }
          ],
          "parcoords": [
           {
            "line": {
             "colorbar": {
              "outlinewidth": 0,
              "ticks": ""
             }
            },
            "type": "parcoords"
           }
          ],
          "pie": [
           {
            "automargin": true,
            "type": "pie"
           }
          ],
          "scatter": [
           {
            "fillpattern": {
             "fillmode": "overlay",
             "size": 10,
             "solidity": 0.2
            },
            "type": "scatter"
           }
          ],
          "scatter3d": [
           {
            "line": {
             "colorbar": {
              "outlinewidth": 0,
              "ticks": ""
             }
            },
            "marker": {
             "colorbar": {
              "outlinewidth": 0,
              "ticks": ""
             }
            },
            "type": "scatter3d"
           }
          ],
          "scattercarpet": [
           {
            "marker": {
             "colorbar": {
              "outlinewidth": 0,
              "ticks": ""
             }
            },
            "type": "scattercarpet"
           }
          ],
          "scattergeo": [
           {
            "marker": {
             "colorbar": {
              "outlinewidth": 0,
              "ticks": ""
             }
            },
            "type": "scattergeo"
           }
          ],
          "scattergl": [
           {
            "marker": {
             "colorbar": {
              "outlinewidth": 0,
              "ticks": ""
             }
            },
            "type": "scattergl"
           }
          ],
          "scattermapbox": [
           {
            "marker": {
             "colorbar": {
              "outlinewidth": 0,
              "ticks": ""
             }
            },
            "type": "scattermapbox"
           }
          ],
          "scatterpolar": [
           {
            "marker": {
             "colorbar": {
              "outlinewidth": 0,
              "ticks": ""
             }
            },
            "type": "scatterpolar"
           }
          ],
          "scatterpolargl": [
           {
            "marker": {
             "colorbar": {
              "outlinewidth": 0,
              "ticks": ""
             }
            },
            "type": "scatterpolargl"
           }
          ],
          "scatterternary": [
           {
            "marker": {
             "colorbar": {
              "outlinewidth": 0,
              "ticks": ""
             }
            },
            "type": "scatterternary"
           }
          ],
          "surface": [
           {
            "colorbar": {
             "outlinewidth": 0,
             "ticks": ""
            },
            "colorscale": [
             [
              0,
              "#0d0887"
             ],
             [
              0.1111111111111111,
              "#46039f"
             ],
             [
              0.2222222222222222,
              "#7201a8"
             ],
             [
              0.3333333333333333,
              "#9c179e"
             ],
             [
              0.4444444444444444,
              "#bd3786"
             ],
             [
              0.5555555555555556,
              "#d8576b"
             ],
             [
              0.6666666666666666,
              "#ed7953"
             ],
             [
              0.7777777777777778,
              "#fb9f3a"
             ],
             [
              0.8888888888888888,
              "#fdca26"
             ],
             [
              1,
              "#f0f921"
             ]
            ],
            "type": "surface"
           }
          ],
          "table": [
           {
            "cells": {
             "fill": {
              "color": "#EBF0F8"
             },
             "line": {
              "color": "white"
             }
            },
            "header": {
             "fill": {
              "color": "#C8D4E3"
             },
             "line": {
              "color": "white"
             }
            },
            "type": "table"
           }
          ]
         },
         "layout": {
          "annotationdefaults": {
           "arrowcolor": "#2a3f5f",
           "arrowhead": 0,
           "arrowwidth": 1
          },
          "autotypenumbers": "strict",
          "coloraxis": {
           "colorbar": {
            "outlinewidth": 0,
            "ticks": ""
           }
          },
          "colorscale": {
           "diverging": [
            [
             0,
             "#8e0152"
            ],
            [
             0.1,
             "#c51b7d"
            ],
            [
             0.2,
             "#de77ae"
            ],
            [
             0.3,
             "#f1b6da"
            ],
            [
             0.4,
             "#fde0ef"
            ],
            [
             0.5,
             "#f7f7f7"
            ],
            [
             0.6,
             "#e6f5d0"
            ],
            [
             0.7,
             "#b8e186"
            ],
            [
             0.8,
             "#7fbc41"
            ],
            [
             0.9,
             "#4d9221"
            ],
            [
             1,
             "#276419"
            ]
           ],
           "sequential": [
            [
             0,
             "#0d0887"
            ],
            [
             0.1111111111111111,
             "#46039f"
            ],
            [
             0.2222222222222222,
             "#7201a8"
            ],
            [
             0.3333333333333333,
             "#9c179e"
            ],
            [
             0.4444444444444444,
             "#bd3786"
            ],
            [
             0.5555555555555556,
             "#d8576b"
            ],
            [
             0.6666666666666666,
             "#ed7953"
            ],
            [
             0.7777777777777778,
             "#fb9f3a"
            ],
            [
             0.8888888888888888,
             "#fdca26"
            ],
            [
             1,
             "#f0f921"
            ]
           ],
           "sequentialminus": [
            [
             0,
             "#0d0887"
            ],
            [
             0.1111111111111111,
             "#46039f"
            ],
            [
             0.2222222222222222,
             "#7201a8"
            ],
            [
             0.3333333333333333,
             "#9c179e"
            ],
            [
             0.4444444444444444,
             "#bd3786"
            ],
            [
             0.5555555555555556,
             "#d8576b"
            ],
            [
             0.6666666666666666,
             "#ed7953"
            ],
            [
             0.7777777777777778,
             "#fb9f3a"
            ],
            [
             0.8888888888888888,
             "#fdca26"
            ],
            [
             1,
             "#f0f921"
            ]
           ]
          },
          "colorway": [
           "#636efa",
           "#EF553B",
           "#00cc96",
           "#ab63fa",
           "#FFA15A",
           "#19d3f3",
           "#FF6692",
           "#B6E880",
           "#FF97FF",
           "#FECB52"
          ],
          "font": {
           "color": "#2a3f5f"
          },
          "geo": {
           "bgcolor": "white",
           "lakecolor": "white",
           "landcolor": "#E5ECF6",
           "showlakes": true,
           "showland": true,
           "subunitcolor": "white"
          },
          "hoverlabel": {
           "align": "left"
          },
          "hovermode": "closest",
          "mapbox": {
           "style": "light"
          },
          "paper_bgcolor": "white",
          "plot_bgcolor": "#E5ECF6",
          "polar": {
           "angularaxis": {
            "gridcolor": "white",
            "linecolor": "white",
            "ticks": ""
           },
           "bgcolor": "#E5ECF6",
           "radialaxis": {
            "gridcolor": "white",
            "linecolor": "white",
            "ticks": ""
           }
          },
          "scene": {
           "xaxis": {
            "backgroundcolor": "#E5ECF6",
            "gridcolor": "white",
            "gridwidth": 2,
            "linecolor": "white",
            "showbackground": true,
            "ticks": "",
            "zerolinecolor": "white"
           },
           "yaxis": {
            "backgroundcolor": "#E5ECF6",
            "gridcolor": "white",
            "gridwidth": 2,
            "linecolor": "white",
            "showbackground": true,
            "ticks": "",
            "zerolinecolor": "white"
           },
           "zaxis": {
            "backgroundcolor": "#E5ECF6",
            "gridcolor": "white",
            "gridwidth": 2,
            "linecolor": "white",
            "showbackground": true,
            "ticks": "",
            "zerolinecolor": "white"
           }
          },
          "shapedefaults": {
           "line": {
            "color": "#2a3f5f"
           }
          },
          "ternary": {
           "aaxis": {
            "gridcolor": "white",
            "linecolor": "white",
            "ticks": ""
           },
           "baxis": {
            "gridcolor": "white",
            "linecolor": "white",
            "ticks": ""
           },
           "bgcolor": "#E5ECF6",
           "caxis": {
            "gridcolor": "white",
            "linecolor": "white",
            "ticks": ""
           }
          },
          "title": {
           "x": 0.05
          },
          "xaxis": {
           "automargin": true,
           "gridcolor": "white",
           "linecolor": "white",
           "ticks": "",
           "title": {
            "standoff": 15
           },
           "zerolinecolor": "white",
           "zerolinewidth": 2
          },
          "yaxis": {
           "automargin": true,
           "gridcolor": "white",
           "linecolor": "white",
           "ticks": "",
           "title": {
            "standoff": 15
           },
           "zerolinecolor": "white",
           "zerolinewidth": 2
          }
         }
        },
        "title": {
         "text": "Number of medals won by GBR on each OS"
        },
        "xaxis": {
         "anchor": "y",
         "domain": [
          0,
          1
         ],
         "tickangle": 90,
         "title": {
          "text": "Year"
         }
        },
        "yaxis": {
         "anchor": "x",
         "domain": [
          0,
          1
         ],
         "title": {
          "text": "Number of Medals"
         }
        }
       }
      }
     },
     "metadata": {},
     "output_type": "display_data"
    },
    {
     "data": {
      "text/html": [
       "<div>\n",
       "<style scoped>\n",
       "    .dataframe tbody tr th:only-of-type {\n",
       "        vertical-align: middle;\n",
       "    }\n",
       "\n",
       "    .dataframe tbody tr th {\n",
       "        vertical-align: top;\n",
       "    }\n",
       "\n",
       "    .dataframe thead th {\n",
       "        text-align: right;\n",
       "    }\n",
       "</style>\n",
       "<table border=\"1\" class=\"dataframe\">\n",
       "  <thead>\n",
       "    <tr style=\"text-align: right;\">\n",
       "      <th></th>\n",
       "      <th>Games</th>\n",
       "      <th>Type of Medals</th>\n",
       "      <th>Number of Type</th>\n",
       "    </tr>\n",
       "  </thead>\n",
       "  <tbody>\n",
       "    <tr>\n",
       "      <th>0</th>\n",
       "      <td>1896 Summer</td>\n",
       "      <td>Bronze</td>\n",
       "      <td>3</td>\n",
       "    </tr>\n",
       "    <tr>\n",
       "      <th>1</th>\n",
       "      <td>1900 Summer</td>\n",
       "      <td>Bronze</td>\n",
       "      <td>15</td>\n",
       "    </tr>\n",
       "    <tr>\n",
       "      <th>2</th>\n",
       "      <td>1904 Summer</td>\n",
       "      <td>Bronze</td>\n",
       "      <td>0</td>\n",
       "    </tr>\n",
       "    <tr>\n",
       "      <th>3</th>\n",
       "      <td>1906 Summer</td>\n",
       "      <td>Bronze</td>\n",
       "      <td>8</td>\n",
       "    </tr>\n",
       "    <tr>\n",
       "      <th>4</th>\n",
       "      <td>1908 Summer</td>\n",
       "      <td>Bronze</td>\n",
       "      <td>90</td>\n",
       "    </tr>\n",
       "    <tr>\n",
       "      <th>...</th>\n",
       "      <td>...</td>\n",
       "      <td>...</td>\n",
       "      <td>...</td>\n",
       "    </tr>\n",
       "    <tr>\n",
       "      <th>127</th>\n",
       "      <td>2008 Summer</td>\n",
       "      <td>Gold</td>\n",
       "      <td>31</td>\n",
       "    </tr>\n",
       "    <tr>\n",
       "      <th>128</th>\n",
       "      <td>2010 Winter</td>\n",
       "      <td>Gold</td>\n",
       "      <td>1</td>\n",
       "    </tr>\n",
       "    <tr>\n",
       "      <th>129</th>\n",
       "      <td>2012 Summer</td>\n",
       "      <td>Gold</td>\n",
       "      <td>48</td>\n",
       "    </tr>\n",
       "    <tr>\n",
       "      <th>130</th>\n",
       "      <td>2014 Winter</td>\n",
       "      <td>Gold</td>\n",
       "      <td>1</td>\n",
       "    </tr>\n",
       "    <tr>\n",
       "      <th>131</th>\n",
       "      <td>2016 Summer</td>\n",
       "      <td>Gold</td>\n",
       "      <td>64</td>\n",
       "    </tr>\n",
       "  </tbody>\n",
       "</table>\n",
       "<p>132 rows × 3 columns</p>\n",
       "</div>"
      ],
      "text/plain": [
       "           Games Type of Medals  Number of Type\n",
       "0    1896 Summer         Bronze               3\n",
       "1    1900 Summer         Bronze              15\n",
       "2    1904 Summer         Bronze               0\n",
       "3    1906 Summer         Bronze               8\n",
       "4    1908 Summer         Bronze              90\n",
       "..           ...            ...             ...\n",
       "127  2008 Summer           Gold              31\n",
       "128  2010 Winter           Gold               1\n",
       "129  2012 Summer           Gold              48\n",
       "130  2014 Winter           Gold               1\n",
       "131  2016 Summer           Gold              64\n",
       "\n",
       "[132 rows x 3 columns]"
      ]
     },
     "execution_count": 102,
     "metadata": {},
     "output_type": "execute_result"
    }
   ],
   "source": [
    "os_type_medals_index = os_type_medals.reset_index()\n",
    "\n",
    "# https://pandas.pydata.org/docs/reference/api/pandas.DataFrame.melt.html#pandas.DataFrame.melt\n",
    "os_type_medals_melted = os_type_medals_index.melt(\n",
    "    id_vars=[\"Games\"],\n",
    "    value_vars=[\"Bronze\", \"Silver\", \"Gold\"],\n",
    "    var_name=\"Type of Medals\",\n",
    "    value_name=\"Number of Type\"\n",
    ")\n",
    "\n",
    "# https://plotly.com/python/discrete-color/ # https://i.sstatic.net/lFZum.png\n",
    "fig = px.bar(\n",
    "    os_type_medals_melted,\n",
    "    x=\"Games\",\n",
    "    y=\"Number of Type\",\n",
    "    color=\"Type of Medals\",\n",
    "    title=\"Number of medals won by GBR on each OS\",\n",
    "    labels={\"Games\": \"Year\", \"Number of Type\": \"Number of Medals\"},\n",
    "    color_discrete_map={\"Bronze\": \"tan\", \"Silver\": \"silver\", \"Gold\": \"gold\"}\n",
    ")\n",
    "\n",
    "# https://plotly.com/python/bar-charts/\n",
    "fig.update_layout(\n",
    "    xaxis_tickangle=90,\n",
    "    barmode=\"stack\"\n",
    ")\n",
    "\n",
    "fig.show()\n"
   ]
  },
  {
   "cell_type": "markdown",
   "metadata": {},
   "source": [
    "- histogram över åldrar"
   ]
  },
  {
   "cell_type": "code",
   "execution_count": 103,
   "metadata": {},
   "outputs": [
    {
     "name": "stdout",
     "output_type": "stream",
     "text": [
      "Oldest participant = 84.0\n",
      "Youngest participant = 11.0\n",
      "Rounding the age difference to divide ages in group aka bins = 8.0\n",
      "Each histogram represent groups of 9.125 years, example 11-20, 21-30 and so on\n"
     ]
    },
    {
     "data": {
      "application/vnd.plotly.v1+json": {
       "config": {
        "plotlyServerURL": "https://plot.ly"
       },
       "data": [
        {
         "alignmentgroup": "True",
         "bingroup": "x",
         "hovertemplate": "Age Bracket=%{x}<br>count=%{y}<extra></extra>",
         "legendgroup": "",
         "marker": {
          "color": "#636efa",
          "pattern": {
           "shape": ""
          }
         },
         "name": "",
         "nbinsx": 8,
         "offsetgroup": "",
         "orientation": "v",
         "showlegend": false,
         "type": "histogram",
         "x": [
          24,
          32,
          17,
          17,
          21,
          21,
          21,
          20,
          20,
          20,
          20,
          24,
          24,
          24,
          21,
          21,
          27,
          21,
          25,
          29,
          25,
          33,
          26,
          24,
          24,
          24,
          33,
          16,
          16,
          27,
          19,
          null,
          null,
          21,
          25,
          29,
          29,
          33,
          24,
          null,
          23,
          27,
          25,
          26,
          21,
          23,
          25,
          25,
          27,
          32,
          19,
          19,
          23,
          23,
          21,
          25,
          27,
          27,
          23,
          23,
          27,
          27,
          31,
          23,
          27,
          22,
          22,
          22,
          22,
          30,
          27,
          19,
          23,
          27,
          31,
          35,
          24,
          27,
          25,
          25,
          22,
          45,
          50,
          26,
          30,
          34,
          30,
          30,
          29,
          25,
          25,
          29,
          29,
          33,
          33,
          21,
          21,
          21,
          22,
          29,
          23,
          19,
          19,
          19,
          19,
          19,
          23,
          23,
          23,
          23,
          27,
          27,
          27,
          27,
          27,
          31,
          31,
          31,
          39,
          null,
          null,
          null,
          null,
          28,
          25,
          29,
          26,
          28,
          28,
          32,
          26,
          24,
          null,
          null,
          26,
          17,
          17,
          24,
          26,
          20,
          22,
          27,
          27,
          30,
          30,
          25,
          25,
          32,
          24,
          32,
          40,
          40,
          44,
          44,
          48,
          48,
          31,
          30,
          22,
          26,
          15,
          15,
          15,
          15,
          25,
          29,
          29,
          22,
          17,
          21,
          22,
          31,
          33,
          20,
          26,
          30,
          54,
          54,
          18,
          22,
          22,
          26,
          21,
          29,
          24,
          18,
          18,
          18,
          18,
          18,
          18,
          21,
          21,
          25,
          25,
          29,
          25,
          25,
          17,
          21,
          25,
          34,
          34,
          27,
          31,
          25,
          31,
          31,
          31,
          31,
          28,
          18,
          40,
          40,
          44,
          44,
          25,
          25,
          29,
          29,
          22,
          null,
          23,
          33,
          24,
          25,
          25,
          26,
          40,
          22,
          null,
          null,
          28,
          23,
          27,
          27,
          null,
          26,
          23,
          24,
          null,
          33,
          28,
          25,
          25,
          24,
          24,
          24,
          24,
          28,
          28,
          28,
          28,
          24,
          40,
          28,
          39,
          43,
          29,
          21,
          21,
          21,
          43,
          24,
          24,
          20,
          30,
          42,
          28,
          26,
          25,
          23,
          23,
          27,
          27,
          22,
          32,
          22,
          22,
          22,
          34,
          19,
          19,
          23,
          23,
          23,
          23,
          23,
          27,
          64,
          64,
          64,
          64,
          68,
          68,
          84,
          23,
          23,
          27,
          26,
          30,
          20,
          22,
          22,
          22,
          22,
          22,
          22,
          22,
          19,
          19,
          22,
          25,
          24,
          29,
          29,
          29,
          33,
          null,
          21,
          27,
          21,
          20,
          28,
          20,
          20,
          22,
          23,
          29,
          21,
          20,
          20,
          16,
          16,
          23,
          30,
          25,
          21,
          25,
          26,
          30,
          21,
          25,
          36,
          null,
          19,
          19,
          19,
          23,
          23,
          23,
          27,
          27,
          21,
          21,
          31,
          17,
          17,
          25,
          29,
          33,
          19,
          null,
          null,
          17,
          17,
          22,
          22,
          26,
          25,
          28,
          32,
          23,
          27,
          34,
          27,
          72,
          72,
          72,
          36,
          46,
          46,
          29,
          null,
          17,
          17,
          17,
          23,
          23,
          18,
          20,
          24,
          28,
          32,
          24,
          24,
          27,
          null,
          null,
          24,
          28,
          36,
          40,
          30,
          54,
          54,
          23,
          27,
          31,
          35,
          34,
          20,
          20,
          24,
          32,
          36,
          30,
          22,
          22,
          26,
          34,
          25,
          29,
          26,
          30,
          null,
          29,
          null,
          null,
          20,
          20,
          20,
          40,
          26,
          26,
          null,
          26,
          29,
          27,
          31,
          31,
          31,
          24,
          24,
          23,
          28,
          28,
          23,
          null,
          21,
          26,
          null,
          33,
          26,
          30,
          26,
          24,
          24,
          21,
          28,
          28,
          18,
          18,
          23,
          23,
          25,
          30,
          20,
          20,
          28,
          28,
          21,
          29,
          20,
          28,
          null,
          22,
          22,
          30,
          30,
          20,
          30,
          23,
          27,
          24,
          22,
          20,
          20,
          24,
          24,
          26,
          21,
          21,
          21,
          28,
          28,
          null,
          null,
          null,
          null,
          null,
          null,
          null,
          18,
          24,
          34,
          38,
          28,
          52,
          52,
          25,
          29,
          23,
          19,
          19,
          24,
          27,
          22,
          18,
          22,
          29,
          33,
          27,
          23,
          27,
          24,
          21,
          21,
          21,
          null,
          null,
          22,
          null,
          34,
          19,
          23,
          46,
          50,
          22,
          null,
          23,
          15,
          15,
          23,
          18,
          24,
          null,
          24,
          24,
          26,
          31,
          22,
          44,
          26,
          26,
          19,
          16,
          16,
          29,
          23,
          44,
          48,
          28,
          32,
          28,
          28,
          30,
          30,
          30,
          30,
          30,
          30,
          34,
          34,
          38,
          38,
          38,
          null,
          23,
          23,
          27,
          20,
          20,
          33,
          23,
          23,
          17,
          17,
          17,
          21,
          21,
          21,
          25,
          25,
          25,
          32,
          32,
          33,
          33,
          23,
          24,
          24,
          20,
          24,
          20,
          20,
          20,
          20,
          20,
          20,
          20,
          20,
          24,
          24,
          24,
          24,
          24,
          24,
          24,
          28,
          28,
          28,
          28,
          28,
          28,
          28,
          28,
          33,
          36,
          35,
          47,
          47,
          28,
          32,
          20,
          23,
          23,
          23,
          27,
          27,
          20,
          24,
          null,
          null,
          null,
          null,
          18,
          22,
          26,
          22,
          23,
          27,
          31,
          21,
          41,
          41,
          26,
          26,
          26,
          30,
          null,
          null,
          null,
          28,
          32,
          27,
          31,
          35,
          19,
          20,
          20,
          24,
          24,
          24,
          23,
          27,
          27,
          57,
          57,
          57,
          61,
          61,
          61,
          61,
          61,
          61,
          25,
          25,
          27,
          24,
          24,
          28,
          32,
          25,
          29,
          37,
          20,
          24,
          24,
          56,
          22,
          23,
          25,
          25,
          31,
          28,
          21,
          21,
          null,
          29,
          33,
          27,
          31,
          30,
          32,
          32,
          40,
          40,
          40,
          36,
          36,
          36,
          22,
          13,
          13,
          13,
          17,
          28,
          28,
          23,
          27,
          26,
          20,
          23,
          22,
          36,
          36,
          36,
          23,
          21,
          24,
          24,
          null,
          25,
          29,
          23,
          23,
          27,
          27,
          35,
          35,
          19,
          23,
          23,
          null,
          22,
          23,
          24,
          28,
          32,
          22,
          34,
          46,
          38,
          38,
          22,
          22,
          20,
          27,
          21,
          30,
          24,
          24,
          24,
          24,
          26,
          26,
          26,
          23,
          52,
          52,
          52,
          27,
          23,
          23,
          23,
          28,
          32,
          18,
          22,
          22,
          22,
          22,
          26,
          26,
          26,
          28,
          28,
          28,
          32,
          32,
          27,
          23,
          23,
          23,
          23,
          23,
          24,
          19,
          19,
          23,
          23,
          23,
          23,
          27,
          27,
          27,
          29,
          25,
          33,
          33,
          23,
          33,
          20,
          20,
          19,
          27,
          25,
          25,
          16,
          20,
          23,
          23,
          22,
          22,
          21,
          35,
          21,
          21,
          20,
          20,
          29,
          29,
          29,
          26,
          34,
          27,
          23,
          23,
          23,
          27,
          27,
          26,
          22,
          22,
          26,
          26,
          29,
          18,
          18,
          22,
          22,
          32,
          23,
          23,
          25,
          31,
          31,
          38,
          20,
          20,
          20,
          20,
          20,
          20,
          20,
          20,
          21,
          25,
          29,
          33,
          37,
          33,
          43,
          26,
          22,
          17,
          23,
          null,
          19,
          19,
          23,
          23,
          24,
          28,
          20,
          24,
          34,
          23,
          27,
          22,
          17,
          25,
          27,
          24,
          32,
          21,
          21,
          19,
          19,
          19,
          19,
          19,
          19,
          19,
          20,
          24,
          20,
          24,
          24,
          28,
          28,
          32,
          32,
          28,
          32,
          25,
          26,
          30,
          24,
          30,
          21,
          20,
          20,
          20,
          24,
          24,
          24,
          22,
          40,
          40,
          41,
          41,
          45,
          45,
          22,
          31,
          29,
          22,
          22,
          43,
          22,
          44,
          28,
          23,
          27,
          null,
          19,
          18,
          22,
          15,
          24,
          23,
          22,
          18,
          null,
          23,
          23,
          29,
          48,
          48,
          52,
          52,
          24,
          28,
          32,
          28,
          null,
          21,
          24,
          41,
          29,
          41,
          25,
          55,
          26,
          30,
          23,
          27,
          22,
          19,
          19,
          19,
          21,
          26,
          26,
          30,
          30,
          36,
          24,
          25,
          29,
          33,
          27,
          31,
          35,
          39,
          18,
          18,
          18,
          20,
          15,
          19,
          28,
          32,
          23,
          24,
          22,
          24,
          33,
          37,
          45,
          45,
          21,
          21,
          21,
          17,
          25,
          22,
          19,
          19,
          21,
          21,
          30,
          30,
          20,
          24,
          28,
          22,
          27,
          24,
          24,
          32,
          22,
          26,
          26,
          26,
          26,
          26,
          30,
          24,
          24,
          35,
          35,
          38,
          38,
          38,
          38,
          28,
          null,
          19,
          24,
          26,
          26,
          26,
          17,
          18,
          18,
          18,
          19,
          19,
          19,
          20,
          23,
          23,
          27,
          32,
          33,
          23,
          26,
          47,
          28,
          36,
          48,
          52,
          20,
          20,
          25,
          25,
          27,
          49,
          49,
          26,
          22,
          22,
          30,
          21,
          21,
          54,
          26,
          46,
          null,
          18,
          26,
          19,
          23,
          23,
          23,
          22,
          22,
          22,
          22,
          22,
          22,
          22,
          26,
          26,
          21,
          25,
          30,
          25,
          22,
          30,
          26,
          34,
          34,
          31,
          null,
          26,
          17,
          17,
          25,
          25,
          29,
          47,
          25,
          25,
          25,
          25,
          27,
          23,
          27,
          28,
          43,
          null,
          null,
          null,
          null,
          null,
          23,
          20,
          23,
          23,
          27,
          27,
          23,
          27,
          25,
          21,
          null,
          22,
          33,
          33,
          33,
          33,
          25,
          26,
          22,
          24,
          34,
          24,
          24,
          24,
          24,
          24,
          24,
          24,
          24,
          22,
          null,
          17,
          25,
          29,
          25,
          25,
          26,
          30,
          34,
          23,
          27,
          31,
          20,
          24,
          24,
          24,
          23,
          23,
          21,
          22,
          22,
          22,
          22,
          26,
          25,
          null,
          25,
          19,
          23,
          27,
          31,
          31,
          35,
          31,
          35,
          null,
          28,
          28,
          25,
          29,
          29,
          27,
          27,
          22,
          19,
          19,
          19,
          null,
          null,
          22,
          26,
          27,
          null,
          28,
          39,
          43,
          27,
          27,
          26,
          30,
          30,
          21,
          32,
          36,
          null,
          21,
          21,
          21,
          21,
          25,
          29,
          26,
          26,
          23,
          28,
          27,
          35,
          26,
          23,
          20,
          30,
          22,
          22,
          26,
          26,
          37,
          37,
          49,
          49,
          25,
          29,
          23,
          25,
          29,
          21,
          22,
          22,
          25,
          null,
          33,
          24,
          24,
          56,
          31,
          28,
          36,
          29,
          24,
          56,
          56,
          20,
          29,
          20,
          20,
          20,
          24,
          24,
          20,
          20,
          20,
          20,
          20,
          20,
          20,
          18,
          18,
          18,
          18,
          18,
          18,
          22,
          22,
          22,
          22,
          27,
          27,
          22,
          25,
          25,
          24,
          34,
          29,
          null,
          27,
          19,
          23,
          28,
          38,
          28,
          19,
          25,
          29,
          33,
          37,
          41,
          28,
          28,
          40,
          40,
          39,
          39,
          28,
          29,
          27,
          31,
          31,
          43,
          47,
          47,
          26,
          26,
          30,
          30,
          null,
          null,
          null,
          18,
          46,
          20,
          20,
          24,
          24,
          28,
          28,
          32,
          32,
          48,
          48,
          34,
          26,
          25,
          19,
          19,
          20,
          19,
          23,
          23,
          23,
          23,
          23,
          null,
          20,
          null,
          null,
          30,
          34,
          21,
          25,
          21,
          null,
          23,
          21,
          21,
          null,
          null,
          null,
          null,
          null,
          null,
          null,
          null,
          null,
          null,
          26,
          15,
          15,
          19,
          32,
          25,
          29,
          33,
          25,
          29,
          33,
          22,
          26,
          23,
          23,
          27,
          19,
          40,
          22,
          22,
          26,
          34,
          24,
          28,
          20,
          24,
          22,
          22,
          25,
          25,
          31,
          null,
          20,
          24,
          28,
          22,
          26,
          27,
          14,
          18,
          22,
          22,
          22,
          22,
          26,
          26,
          26,
          57,
          27,
          null,
          20,
          25,
          25,
          19,
          19,
          23,
          23,
          23,
          27,
          25,
          25,
          37,
          37,
          25,
          21,
          25,
          29,
          33,
          27,
          32,
          23,
          22,
          24,
          24,
          27,
          24,
          23,
          31,
          23,
          25,
          20,
          24,
          24,
          50,
          25,
          null,
          24,
          27,
          35,
          22,
          26,
          30,
          29,
          25,
          29,
          18,
          25,
          24,
          24,
          24,
          24,
          24,
          24,
          24,
          24,
          28,
          28,
          28,
          28,
          28,
          28,
          28,
          28,
          36,
          36,
          36,
          36,
          36,
          36,
          36,
          36,
          24,
          32,
          36,
          30,
          25,
          22,
          25,
          19,
          null,
          20,
          20,
          23,
          23,
          27,
          27,
          32,
          32,
          32,
          23,
          29,
          29,
          30,
          21,
          21,
          33,
          26,
          26,
          20,
          21,
          25,
          49,
          53,
          53,
          27,
          27,
          27,
          27,
          21,
          21,
          19,
          23,
          20,
          28,
          21,
          25,
          19,
          23,
          23,
          27,
          27,
          27,
          19,
          19,
          21,
          20,
          24,
          28,
          34,
          23,
          23,
          25,
          32,
          31,
          23,
          56,
          60,
          60,
          27,
          21,
          21,
          25,
          25,
          29,
          21,
          20,
          24,
          28,
          25,
          27,
          31,
          20,
          20,
          19,
          19,
          40,
          40,
          25,
          25,
          16,
          16,
          16,
          19,
          25,
          29,
          24,
          36,
          36,
          35,
          35,
          31,
          29,
          33,
          24,
          24,
          22,
          25,
          27,
          23,
          26,
          24,
          22,
          26,
          19,
          20,
          20,
          24,
          24,
          28,
          20,
          null,
          null,
          30,
          29,
          null,
          null,
          22,
          22,
          36,
          57,
          57,
          61,
          61,
          null,
          null,
          null,
          null,
          20,
          31,
          35,
          32,
          23,
          27,
          30,
          30,
          34,
          38,
          21,
          21,
          25,
          23,
          27,
          23,
          23,
          19,
          19,
          19,
          19,
          19,
          23,
          23,
          17,
          25,
          null,
          24,
          24,
          26,
          21,
          21,
          44,
          null,
          26,
          21,
          25,
          29,
          33,
          26,
          32,
          22,
          22,
          26,
          29,
          22,
          27,
          27,
          30,
          30,
          30,
          19,
          19,
          19,
          22,
          22,
          19,
          19,
          22,
          21,
          24,
          27,
          27,
          31,
          31,
          31,
          31,
          31,
          31,
          31,
          31,
          23,
          23,
          41,
          41,
          41,
          21,
          35,
          35,
          34,
          19,
          19,
          19,
          20,
          24,
          null,
          21,
          18,
          18,
          30,
          19,
          null,
          23,
          26,
          30,
          null,
          44,
          22,
          22,
          26,
          23,
          23,
          21,
          39,
          22,
          21,
          39,
          39,
          39,
          43,
          43,
          25,
          25,
          23,
          24,
          25,
          46,
          25,
          24,
          26,
          30,
          34,
          22,
          38,
          38,
          35,
          35,
          23,
          26,
          30,
          20,
          24,
          16,
          16,
          16,
          18,
          18,
          22,
          26,
          19,
          29,
          23,
          23,
          31,
          33,
          37,
          28,
          32,
          22,
          26,
          26,
          30,
          30,
          21,
          23,
          25,
          21,
          25,
          null,
          25,
          22,
          15,
          19,
          19,
          19,
          19,
          23,
          19,
          34,
          21,
          30,
          34,
          18,
          21,
          24,
          24,
          28,
          28,
          17,
          null,
          23,
          27,
          26,
          20,
          23,
          27,
          31,
          20,
          23,
          23,
          27,
          27,
          33,
          24,
          28,
          38,
          42,
          19,
          31,
          38,
          42,
          25,
          null,
          22,
          51,
          17,
          22,
          22,
          34,
          34,
          21,
          25,
          25,
          29,
          22,
          26,
          23,
          27,
          31,
          21,
          22,
          24,
          25,
          24,
          24,
          20,
          28,
          24,
          19,
          21,
          20,
          32,
          27,
          30,
          52,
          52,
          19,
          null,
          51,
          27,
          31,
          35,
          21,
          25,
          23,
          23,
          23,
          16,
          16,
          16,
          16,
          16,
          20,
          20,
          20,
          20,
          20,
          19,
          23,
          23,
          37,
          26,
          36,
          22,
          21,
          21,
          24,
          25,
          36,
          25,
          25,
          29,
          29,
          22,
          26,
          21,
          33,
          33,
          41,
          null,
          24,
          27,
          26,
          21,
          23,
          30,
          32,
          19,
          19,
          19,
          23,
          23,
          23,
          28,
          28,
          28,
          32,
          32,
          32,
          36,
          36,
          23,
          27,
          21,
          24,
          24,
          18,
          34,
          37,
          23,
          23,
          33,
          21,
          23,
          27,
          27,
          31,
          27,
          27,
          26,
          30,
          23,
          null,
          51,
          51,
          51,
          51,
          23,
          25,
          33,
          37,
          26,
          30,
          22,
          26,
          30,
          18,
          22,
          26,
          30,
          23,
          24,
          24,
          33,
          26,
          26,
          30,
          34,
          28,
          32,
          36,
          36,
          40,
          44,
          48,
          34,
          31,
          25,
          null,
          null,
          null,
          44,
          23,
          33,
          23,
          27,
          31,
          22,
          26,
          22,
          22,
          36,
          18,
          23,
          33,
          24,
          28,
          21,
          25,
          37,
          37,
          null,
          23,
          23,
          27,
          22,
          17,
          27,
          30,
          30,
          24,
          24,
          22,
          20,
          26,
          26,
          24,
          22,
          24,
          24,
          24,
          32,
          19,
          25,
          29,
          29,
          27,
          19,
          27,
          27,
          22,
          26,
          46,
          19,
          26,
          29,
          26,
          19,
          24,
          20,
          21,
          23,
          22,
          null,
          27,
          31,
          26,
          21,
          21,
          22,
          22,
          51,
          23,
          20,
          17,
          17,
          17,
          53,
          16,
          34,
          34,
          34,
          34,
          24,
          26,
          28,
          28,
          31,
          31,
          19,
          19,
          19,
          23,
          23,
          23,
          54,
          24,
          28,
          22,
          26,
          27,
          23,
          23,
          27,
          27,
          null,
          22,
          22,
          26,
          26,
          22,
          25,
          25,
          29,
          29,
          37,
          37,
          null,
          20,
          20,
          35,
          40,
          36,
          37,
          37,
          32,
          34,
          34,
          11,
          15,
          26,
          22,
          23,
          39,
          39,
          21,
          21,
          27,
          28,
          24,
          29,
          null,
          21,
          21,
          21,
          29,
          21,
          21,
          21,
          35,
          26,
          35,
          25,
          19,
          null,
          40,
          24,
          25,
          25,
          25,
          19,
          22,
          26,
          null,
          23,
          27,
          null,
          16,
          20,
          32,
          25,
          29,
          25,
          29,
          17,
          22,
          25,
          29,
          29,
          26,
          23,
          26,
          27,
          34,
          28,
          53,
          37,
          37,
          41,
          41,
          22,
          22,
          26,
          23,
          28,
          28,
          27,
          null,
          41,
          45,
          25,
          33,
          37,
          45,
          21,
          21,
          25,
          25,
          29,
          17,
          21,
          21,
          28,
          22,
          20,
          24,
          24,
          31,
          29,
          29,
          65,
          65,
          65,
          65,
          65,
          46,
          46,
          19,
          18,
          23,
          23,
          27,
          19,
          19,
          19,
          23,
          23,
          23,
          23,
          24,
          24,
          28,
          36,
          36,
          40,
          40,
          20,
          24,
          20,
          35,
          35,
          39,
          39,
          null,
          null,
          null,
          17,
          21,
          25,
          29,
          29,
          29,
          32,
          32,
          32,
          32,
          36,
          36,
          36,
          21,
          25,
          73,
          73,
          27,
          28,
          28,
          40,
          40,
          44,
          24,
          32,
          24,
          23,
          27,
          29,
          25,
          22,
          26,
          30,
          34,
          38,
          38,
          28,
          28,
          26,
          26,
          null,
          null,
          18,
          18,
          28,
          24,
          23,
          23,
          23,
          23,
          null,
          19,
          19,
          23,
          27,
          27,
          23,
          15,
          15,
          22,
          32,
          29,
          21,
          19,
          23,
          23,
          23,
          27,
          18,
          22,
          19,
          21,
          25,
          null,
          32,
          28,
          28,
          28,
          47,
          26,
          26,
          51,
          51,
          28,
          22,
          27,
          21,
          25,
          25,
          33,
          22,
          22,
          22,
          22,
          22,
          22,
          22,
          22,
          22,
          22,
          null,
          27,
          27,
          22,
          30,
          30,
          33,
          null,
          30,
          19,
          24,
          28,
          20,
          22,
          22,
          24,
          28,
          32,
          17,
          37,
          61,
          31,
          31,
          23,
          23,
          27,
          19,
          23,
          27,
          27,
          41,
          17,
          27,
          21,
          null,
          18,
          18,
          22,
          22,
          22,
          26,
          33,
          32,
          28,
          28,
          31,
          31,
          31,
          30,
          28,
          20,
          null,
          null,
          24,
          22,
          32,
          31,
          35,
          39,
          35,
          16,
          16,
          16,
          20,
          20,
          20,
          20,
          23,
          44,
          27,
          27,
          27,
          31,
          17,
          17,
          17,
          17,
          21,
          21,
          21,
          21,
          21,
          25,
          25,
          25,
          25,
          27,
          34,
          22,
          28,
          null,
          null,
          null,
          null,
          null,
          null,
          null,
          24,
          21,
          21,
          21,
          29,
          29,
          29,
          29,
          23,
          27,
          22,
          26,
          18,
          23,
          27,
          31,
          35,
          26,
          30,
          23,
          23,
          21,
          29,
          null,
          30,
          22,
          24,
          23,
          30,
          26,
          26,
          23,
          23,
          23,
          23,
          25,
          29,
          23,
          23,
          23,
          31,
          22,
          22,
          26,
          30,
          null,
          24,
          28,
          24,
          26,
          30,
          35,
          42,
          24,
          18,
          29,
          23,
          27,
          27,
          35,
          null,
          null,
          null,
          37,
          41,
          57,
          17,
          17,
          17,
          17,
          20,
          24,
          24,
          23,
          23,
          27,
          24,
          36,
          29,
          29,
          29,
          28,
          30,
          22,
          26,
          27,
          22,
          26,
          18,
          20,
          23,
          31,
          36,
          17,
          22,
          30,
          28,
          null,
          24,
          24,
          24,
          32,
          32,
          32,
          41,
          39,
          47,
          26,
          24,
          25,
          23,
          23,
          25,
          22,
          25,
          14,
          14,
          18,
          18,
          22,
          22,
          39,
          39,
          39,
          43,
          43,
          17,
          21,
          25,
          32,
          25,
          37,
          24,
          26,
          26,
          25,
          29,
          26,
          19,
          19,
          19,
          19,
          19,
          32,
          32,
          null,
          null,
          null,
          null,
          24,
          23,
          23,
          27,
          31,
          22,
          22,
          30,
          24,
          null,
          18,
          22,
          22,
          26,
          24,
          28,
          22,
          34,
          20,
          24,
          24,
          24,
          28,
          25,
          25,
          21,
          33,
          27,
          23,
          23,
          23,
          27,
          22,
          27,
          30,
          null,
          null,
          21,
          null,
          23,
          23,
          23,
          null,
          26,
          15,
          19,
          19,
          19,
          19,
          19,
          19,
          19,
          19,
          23,
          23,
          27,
          21,
          25,
          25,
          43,
          21,
          25,
          25,
          34,
          24,
          24,
          28,
          25,
          28,
          25,
          22,
          22,
          22,
          26,
          30,
          29,
          19,
          17,
          17,
          17,
          17,
          17,
          17,
          26,
          35,
          35,
          33,
          20,
          20,
          13,
          17,
          17,
          17,
          29,
          29,
          35,
          20,
          20,
          20,
          22,
          30,
          null,
          30,
          24,
          27,
          32,
          null,
          21,
          21,
          25,
          25,
          22,
          22,
          22,
          22,
          22,
          22,
          22,
          27,
          31,
          31,
          27,
          26,
          26,
          20,
          34,
          40,
          40,
          44,
          44,
          48,
          48,
          56,
          17,
          17,
          30,
          34,
          34,
          34,
          43,
          43,
          16,
          25,
          29,
          56,
          23,
          33,
          20,
          22,
          21,
          21,
          null,
          24,
          35,
          23,
          23,
          34,
          34,
          46,
          46,
          50,
          23,
          27,
          31,
          31,
          28,
          28,
          25,
          27,
          31,
          31,
          23,
          63,
          54,
          22,
          22,
          24,
          20,
          20,
          29,
          18,
          18,
          18,
          20,
          20,
          24,
          29,
          29,
          29,
          27,
          19,
          19,
          19,
          23,
          24,
          33,
          21,
          25,
          35,
          27,
          20,
          20,
          24,
          24,
          26,
          37,
          20,
          30,
          34,
          32,
          32,
          33,
          null,
          22,
          26,
          21,
          28,
          32,
          20,
          23,
          27,
          31,
          35,
          null,
          33,
          27,
          35,
          20,
          23,
          31,
          24,
          24,
          28,
          26,
          null,
          null,
          null,
          28,
          25,
          25,
          27,
          27,
          27,
          29,
          29,
          33,
          27,
          50,
          23,
          23,
          29,
          22,
          24,
          20,
          28,
          24,
          24,
          28,
          32,
          32,
          21,
          49,
          49,
          17,
          17,
          22,
          25,
          25,
          29,
          22,
          22,
          36,
          36,
          23,
          27,
          49,
          22,
          26,
          30,
          null,
          null,
          null,
          null,
          null,
          null,
          null,
          22,
          21,
          31,
          24,
          56,
          31,
          35,
          27,
          31,
          24,
          28,
          17,
          27,
          26,
          21,
          null,
          30,
          23,
          28,
          19,
          null,
          null,
          null,
          null,
          null,
          13,
          29,
          37,
          35,
          35,
          39,
          39,
          39,
          21,
          21,
          25,
          25,
          25,
          29,
          29,
          29,
          31,
          31,
          35,
          35,
          39,
          39,
          39,
          42,
          28,
          28,
          32,
          32,
          29,
          32,
          24,
          28,
          30,
          26,
          null,
          21,
          36,
          40,
          21,
          19,
          29,
          25,
          29,
          26,
          24,
          24,
          24,
          27,
          27,
          27,
          35,
          null,
          null,
          22,
          26,
          30,
          19,
          29,
          30,
          null,
          31,
          24,
          18,
          29,
          22,
          26,
          29,
          24,
          24,
          24,
          33,
          33,
          25,
          29,
          41,
          25,
          23,
          27,
          22,
          22,
          21,
          25,
          19,
          23,
          25,
          25,
          23,
          27,
          23,
          22,
          18,
          28,
          19,
          29,
          33,
          25,
          37,
          16,
          16,
          16,
          16,
          16,
          24,
          24,
          24,
          17,
          17,
          17,
          17,
          17,
          17,
          21,
          21,
          21,
          null,
          null,
          25,
          30,
          30,
          24,
          24,
          29,
          22,
          33,
          33,
          37,
          37,
          19,
          27,
          24,
          24,
          24,
          24,
          24,
          36,
          26,
          24,
          17,
          22,
          22,
          26,
          26,
          26,
          30,
          25,
          null,
          25,
          29,
          28,
          32,
          22,
          32,
          32,
          23,
          29,
          24,
          29,
          43,
          19,
          30,
          52,
          52,
          68,
          25,
          27,
          27,
          31,
          31,
          32,
          20,
          27,
          22,
          22,
          19,
          23,
          24,
          25,
          25,
          29,
          29,
          29,
          20,
          20,
          24,
          24,
          27,
          48,
          28,
          null,
          18,
          23,
          23,
          23,
          28,
          23,
          20,
          23,
          26,
          30,
          35,
          35,
          35,
          35,
          28,
          30,
          26,
          null,
          26,
          20,
          24,
          31,
          null,
          32,
          25,
          20,
          19,
          19,
          16,
          16,
          16,
          26,
          26,
          29,
          null,
          null,
          21,
          21,
          21,
          21,
          24,
          27,
          40,
          40,
          40,
          34,
          20,
          24,
          23,
          27,
          31,
          21,
          18,
          21,
          21,
          25,
          21,
          26,
          26,
          null,
          25,
          28,
          26,
          21,
          16,
          16,
          16,
          16,
          20,
          20,
          20,
          20,
          21,
          22,
          22,
          24,
          36,
          36,
          24,
          24,
          20,
          25,
          25,
          22,
          26,
          30,
          34,
          21,
          49,
          49,
          49,
          53,
          53,
          69,
          69,
          69,
          17,
          28,
          16,
          23,
          29,
          33,
          23,
          39,
          39,
          22,
          22,
          22,
          null,
          18,
          22,
          26,
          30,
          34,
          29,
          29,
          33,
          35,
          24,
          28,
          25,
          76,
          29,
          21,
          21,
          21,
          25,
          25,
          25,
          29,
          29,
          21,
          25,
          21,
          null,
          null,
          null,
          null,
          null,
          null,
          26,
          30,
          30,
          21,
          21,
          21,
          21,
          21,
          25,
          25,
          21,
          21,
          22,
          22,
          19,
          35,
          22,
          18,
          22,
          21,
          25,
          25,
          23,
          27,
          20,
          24,
          24,
          27,
          26,
          23,
          34,
          27,
          25,
          33,
          22,
          26,
          23,
          27,
          27,
          31,
          31,
          17,
          22,
          22,
          25,
          23,
          25,
          25,
          26,
          30,
          22,
          38,
          null,
          22,
          null,
          null,
          31,
          39,
          55,
          27,
          21,
          26,
          27,
          19,
          19,
          23,
          23,
          22,
          32,
          24,
          null,
          31,
          35,
          18,
          null,
          29,
          32,
          32,
          22,
          26,
          39,
          39,
          20,
          20,
          34,
          34,
          34,
          26,
          27,
          31,
          27,
          21,
          19,
          31,
          19,
          28,
          23,
          23,
          24,
          22,
          22,
          26,
          22,
          24,
          43,
          21,
          25,
          30,
          30,
          25,
          29,
          29,
          33,
          33,
          18,
          48,
          48,
          48,
          17,
          21,
          21,
          25,
          25,
          26,
          20,
          24,
          27,
          27,
          29,
          23,
          27,
          24,
          27,
          25,
          33,
          30,
          25,
          18,
          18,
          18,
          22,
          19,
          23,
          27,
          31,
          35,
          18,
          22,
          26,
          19,
          19,
          23,
          null,
          null,
          18,
          19,
          52,
          52,
          28,
          28,
          36,
          36,
          18,
          53,
          null,
          25,
          null,
          25,
          29,
          17,
          17,
          17,
          17,
          17,
          22,
          22,
          40,
          40,
          21,
          25,
          23,
          23,
          27,
          27,
          31,
          22,
          22,
          26,
          22,
          22,
          22,
          22,
          19,
          23,
          27,
          31,
          17,
          17,
          17,
          21,
          21,
          20,
          20,
          24,
          24,
          24,
          28,
          20,
          20,
          20,
          20,
          21,
          21,
          21,
          24,
          26,
          26,
          29,
          29,
          26,
          26,
          33,
          28,
          22,
          26,
          null,
          null,
          null,
          null,
          null,
          null,
          null,
          null,
          null,
          null,
          null,
          null,
          null,
          null,
          null,
          null,
          null,
          23,
          23,
          27,
          27,
          39,
          null,
          20,
          20,
          20,
          24,
          27,
          27,
          32,
          58,
          20,
          24,
          28,
          24,
          21,
          null,
          19,
          19,
          19,
          21,
          21,
          21,
          null,
          null,
          null,
          null,
          null,
          null,
          null,
          null,
          28,
          28,
          28,
          28,
          27,
          31,
          26,
          26,
          22,
          24,
          30,
          30,
          25,
          25,
          22,
          22,
          30,
          39,
          39,
          39,
          26,
          28,
          20,
          24,
          24,
          28,
          32,
          29,
          25,
          29,
          29,
          33,
          33,
          null,
          null,
          null,
          null,
          26,
          25,
          24,
          24,
          17,
          17,
          20,
          20,
          24,
          24,
          28,
          28,
          32,
          25,
          23,
          23,
          31,
          31,
          23,
          null,
          33,
          23,
          27,
          22,
          24,
          25,
          29,
          47,
          31,
          29,
          29,
          23,
          22,
          22,
          23,
          26,
          null,
          null,
          20,
          24,
          28,
          28,
          32,
          28,
          30,
          20,
          24,
          18,
          18,
          18,
          22,
          22,
          26,
          30,
          38,
          null,
          22,
          26,
          30,
          17,
          17,
          17,
          21,
          21,
          21,
          18,
          18,
          22,
          22,
          22,
          20,
          33,
          25,
          37,
          26,
          26,
          25,
          25,
          29,
          29,
          33,
          20,
          23,
          23,
          27,
          27,
          30,
          30,
          34,
          34,
          32,
          23,
          28,
          23,
          23,
          27,
          27,
          35,
          35,
          39,
          39,
          43,
          43,
          47,
          47,
          18,
          18,
          18,
          18,
          18,
          16,
          22,
          22,
          17,
          21,
          29,
          17,
          22,
          30,
          null,
          20,
          20,
          24,
          24,
          23,
          23,
          27,
          27,
          31,
          31,
          30,
          22,
          26,
          21,
          26,
          30,
          25,
          29,
          null,
          null,
          24,
          32,
          31,
          25,
          29,
          27,
          27,
          32,
          19,
          30,
          30,
          34,
          26,
          30,
          26,
          26,
          26,
          46,
          24,
          24,
          26,
          25,
          22,
          24,
          24,
          24,
          25,
          30,
          27,
          27,
          31,
          31,
          26,
          20,
          25,
          25,
          25,
          23,
          20,
          20,
          20,
          22,
          22,
          33,
          null,
          24,
          24,
          24,
          20,
          24,
          24,
          24,
          29,
          17,
          31,
          35,
          35,
          47,
          47,
          23,
          28,
          23,
          65,
          30,
          19,
          19,
          29,
          33,
          30,
          24,
          19,
          19,
          19,
          23,
          23,
          23,
          27,
          27,
          27,
          23,
          27,
          27,
          31,
          31,
          48,
          21,
          25,
          16,
          20,
          20,
          20,
          27,
          18,
          22,
          26,
          33,
          24,
          24,
          28,
          28,
          23,
          null,
          24,
          53,
          53,
          36,
          21,
          19,
          19,
          22,
          22,
          29,
          30,
          22,
          20,
          13,
          17,
          24,
          24,
          27,
          21,
          25,
          29,
          30,
          30,
          30,
          23,
          23,
          27,
          31,
          26,
          33,
          30,
          30,
          24,
          24,
          26,
          26,
          26,
          20,
          24,
          null,
          21,
          25,
          25,
          29,
          29,
          29,
          19,
          27,
          27,
          21,
          18,
          18,
          22,
          22,
          27,
          30,
          30,
          24,
          22,
          26,
          26,
          27,
          25,
          26,
          30,
          36,
          36,
          36,
          36,
          40,
          40,
          40,
          40,
          23,
          23,
          27,
          27,
          34,
          null,
          null,
          26,
          25,
          40,
          21,
          21,
          21,
          27,
          17,
          17,
          17,
          24,
          24,
          22,
          22,
          26,
          19,
          38,
          36,
          36,
          21,
          16,
          43,
          25,
          20,
          22,
          24,
          24,
          23,
          27,
          22,
          21,
          25,
          20,
          20,
          21,
          21,
          22,
          25,
          29,
          24,
          26,
          26,
          26,
          26,
          null,
          30,
          34,
          34,
          28,
          22,
          26,
          19,
          53,
          53,
          17,
          21,
          20,
          21,
          25,
          25,
          25,
          29,
          20,
          24,
          28,
          23,
          23,
          null,
          22,
          24,
          28,
          38,
          24,
          24,
          24,
          20,
          20,
          31,
          21,
          21,
          25,
          29,
          24,
          31,
          29,
          30,
          34,
          38,
          42,
          42,
          26,
          21,
          21,
          21,
          21,
          26,
          30,
          23,
          23,
          null,
          19,
          19,
          19,
          19,
          19,
          21,
          25,
          29,
          19,
          23,
          23,
          27,
          26,
          30,
          30,
          39,
          39,
          28,
          32,
          32,
          36,
          36,
          null,
          27,
          27,
          48,
          34,
          23,
          22,
          32,
          20,
          24,
          24,
          28,
          15,
          19,
          19,
          21,
          21,
          25,
          25,
          25,
          29,
          29,
          22,
          20,
          32,
          27,
          19,
          null,
          25,
          19,
          19,
          23,
          23,
          23,
          21,
          26,
          30,
          34,
          37,
          24,
          25,
          29,
          28,
          53,
          29,
          20,
          20,
          26,
          30,
          null,
          21,
          53,
          29,
          20,
          26,
          30,
          34,
          27,
          31,
          35,
          15,
          19,
          23,
          24,
          24,
          40,
          40,
          44,
          44,
          17,
          54,
          26,
          20,
          26,
          23,
          23,
          27,
          27,
          31,
          31,
          17,
          20,
          30,
          27,
          25,
          23,
          46,
          20,
          28,
          22,
          23,
          23,
          28,
          20,
          24,
          28,
          24,
          36,
          25,
          28,
          28,
          28,
          28,
          28,
          28,
          28,
          28,
          34,
          22,
          26,
          23,
          null,
          25,
          25,
          35,
          22,
          24,
          28,
          32,
          36,
          40,
          60,
          22,
          26,
          30,
          23,
          17,
          17,
          27,
          55,
          28,
          18,
          18,
          null,
          null,
          64,
          21,
          21,
          21,
          22,
          23,
          27,
          26,
          23,
          31,
          31,
          31,
          21,
          29,
          29,
          25,
          24,
          20,
          20,
          24,
          22,
          22,
          22,
          22,
          13,
          13,
          24,
          24,
          27,
          24,
          24,
          18,
          18,
          22,
          22,
          26,
          38,
          28,
          28,
          26,
          26,
          44,
          28,
          24,
          25,
          35,
          33,
          25,
          24,
          21,
          25,
          28,
          32,
          25,
          29,
          26,
          32,
          32,
          32,
          25,
          29,
          33,
          22,
          22,
          27,
          23,
          null,
          24,
          30,
          30,
          26,
          19,
          20,
          38,
          38,
          null,
          27,
          27,
          null,
          25,
          25,
          19,
          19,
          17,
          17,
          25,
          29,
          27,
          27,
          22,
          23,
          24,
          29,
          33,
          28,
          43,
          43,
          43,
          25,
          42,
          42,
          50,
          54,
          30,
          22,
          27,
          24,
          24,
          30,
          30,
          38,
          38,
          31,
          26,
          48,
          16,
          34,
          21,
          25,
          34,
          34,
          37,
          22,
          22,
          22,
          25,
          25,
          29,
          46,
          19,
          27,
          null,
          null,
          20,
          20,
          20,
          20,
          20,
          39,
          26,
          29,
          29,
          36,
          20,
          19,
          19,
          19,
          19,
          19,
          22,
          26,
          31,
          20,
          22,
          26,
          26,
          24,
          46,
          46,
          23,
          30,
          34,
          41,
          26,
          26,
          26,
          27,
          27,
          44,
          44,
          44,
          21,
          25,
          29,
          26,
          30,
          30,
          27,
          24,
          27,
          26,
          30,
          26,
          30,
          34,
          34,
          57,
          20,
          20,
          26,
          44,
          19,
          19,
          23,
          23,
          27,
          27,
          29,
          33,
          19,
          23,
          23,
          27,
          27,
          31,
          19,
          null,
          25,
          25,
          30,
          34,
          30,
          30,
          21,
          29,
          21,
          21,
          29,
          33,
          18,
          18,
          18,
          18,
          18,
          18,
          22,
          22,
          22,
          22,
          22,
          26,
          26,
          21,
          28,
          32,
          32,
          25,
          25,
          25,
          23,
          23,
          23,
          25,
          20,
          23,
          30,
          27,
          25,
          27,
          22,
          27,
          27,
          33,
          45,
          45,
          25,
          25,
          38,
          38,
          27,
          27,
          27,
          31,
          31,
          30,
          34,
          29,
          null,
          null,
          24,
          24,
          24,
          24,
          24,
          24,
          17,
          26,
          23,
          28,
          25,
          30,
          23,
          25,
          null,
          22,
          21,
          25,
          26,
          30,
          33,
          33,
          25,
          37,
          23,
          24,
          28,
          25,
          20,
          24,
          24,
          27,
          24,
          28,
          26,
          18,
          18,
          18,
          18,
          18,
          18,
          18,
          18,
          24,
          15,
          15,
          15,
          27,
          27,
          27,
          23,
          19,
          null,
          20,
          16,
          20,
          24,
          28,
          30,
          27,
          31,
          35,
          26,
          26,
          30,
          26,
          30,
          24,
          22,
          27,
          31,
          15,
          15,
          15,
          15,
          15,
          23,
          29,
          26,
          null,
          40,
          23,
          24,
          39,
          24,
          21,
          21,
          21,
          25,
          34,
          19,
          19,
          19,
          23,
          23,
          23,
          23,
          27,
          27,
          31,
          31,
          25,
          29,
          22,
          35,
          30,
          null,
          24,
          18,
          20,
          20,
          24,
          null,
          null,
          21,
          22,
          23,
          23,
          27,
          27,
          23,
          29,
          28,
          28,
          27,
          27,
          16,
          19,
          19,
          19,
          19,
          19,
          19,
          28,
          20,
          20,
          18,
          18,
          18,
          22,
          22,
          31,
          23,
          18,
          18,
          18,
          21,
          21,
          null,
          null,
          22,
          31,
          20,
          20,
          20,
          21,
          33,
          33,
          41,
          41,
          31,
          null,
          20,
          24,
          null,
          67,
          24,
          24,
          24,
          22,
          40,
          18,
          24,
          24,
          null,
          null,
          null,
          37,
          null,
          21,
          25,
          29,
          null,
          31,
          39,
          26,
          19,
          18,
          18,
          18,
          26,
          26,
          30,
          30,
          34,
          34,
          17,
          17,
          17,
          21,
          21,
          21,
          25,
          25,
          25,
          21,
          21,
          null,
          null,
          28,
          32,
          25,
          24,
          28,
          31,
          27,
          33,
          null,
          null,
          24,
          27,
          null,
          null,
          null,
          null,
          null,
          null,
          null,
          null,
          null,
          24,
          21,
          21,
          21,
          21,
          26,
          null,
          27,
          23,
          23,
          22,
          25,
          66,
          24,
          27,
          31,
          null,
          33,
          21,
          23,
          27,
          27,
          27,
          31,
          31,
          31,
          24,
          22,
          null,
          26,
          23,
          23,
          21,
          21,
          25,
          26,
          30,
          27,
          17,
          27,
          27,
          31,
          20,
          20,
          26,
          26,
          28,
          20,
          27,
          27,
          27,
          27,
          27,
          27,
          27,
          20,
          30,
          23,
          22,
          22,
          22,
          26,
          26,
          26,
          26,
          19,
          23,
          27,
          31,
          31,
          30,
          61,
          61,
          30,
          24,
          24,
          28,
          28,
          25,
          28,
          null,
          28,
          28,
          19,
          27,
          27,
          19,
          33,
          33,
          27,
          30,
          32,
          21,
          24,
          24,
          28,
          28,
          34,
          37,
          23,
          31,
          22,
          21,
          34,
          27,
          27,
          27,
          27,
          27,
          31,
          23,
          23,
          23,
          24,
          24,
          27,
          27,
          21,
          21,
          26,
          29,
          27,
          20,
          20,
          40,
          40,
          40,
          46,
          null,
          29,
          22,
          26,
          22,
          26,
          31,
          22,
          31,
          29,
          25,
          29,
          25,
          25,
          25,
          25,
          25,
          25,
          33,
          33,
          37,
          37,
          45,
          45,
          49,
          49,
          27,
          18,
          27,
          27,
          23,
          27,
          null,
          null,
          22,
          22,
          22,
          22,
          20,
          20,
          20,
          24,
          24,
          24,
          28,
          28,
          31,
          19,
          19,
          29,
          30,
          30,
          28,
          28,
          51,
          51,
          51,
          51,
          24,
          24,
          32,
          29,
          29,
          24,
          28,
          32,
          31,
          31,
          31,
          18,
          24,
          25,
          25,
          29,
          29,
          33,
          33,
          25,
          25,
          16,
          16,
          20,
          23,
          20,
          20,
          24,
          23,
          27,
          31,
          35,
          33,
          37,
          25,
          26,
          26,
          30,
          33,
          23,
          23,
          23,
          40,
          27,
          44,
          44,
          42,
          27,
          23,
          28,
          36,
          19,
          23,
          29,
          29,
          33,
          33,
          25,
          29,
          38,
          38,
          23,
          23,
          12,
          17,
          21,
          36,
          18,
          22,
          22,
          22,
          22,
          22,
          22,
          22,
          26,
          26,
          30,
          30,
          29,
          33,
          33,
          33,
          33,
          33,
          33,
          33,
          38,
          38,
          38,
          38,
          38,
          27,
          22,
          22,
          26,
          26,
          21,
          27,
          31,
          21,
          25,
          19,
          28,
          30,
          25,
          null,
          null,
          null,
          20,
          22,
          17,
          17,
          17,
          17,
          17,
          17,
          21,
          null,
          null,
          null,
          29,
          29,
          22,
          26,
          null,
          null,
          15,
          22,
          26,
          30,
          34,
          34,
          42,
          19,
          23,
          31,
          35,
          17,
          35,
          21,
          19,
          19,
          22,
          23,
          31,
          41,
          25,
          29,
          29,
          33,
          33,
          53,
          23,
          23,
          23,
          27,
          27,
          23,
          26,
          30,
          16,
          30,
          19,
          25,
          30,
          31,
          25,
          36,
          36,
          36,
          null,
          24,
          28,
          28,
          22,
          20,
          20,
          24,
          24,
          21,
          28,
          33,
          29,
          30,
          null,
          26,
          26,
          30,
          30,
          34,
          34,
          26,
          26,
          26,
          30,
          30,
          30,
          22,
          22,
          21,
          22,
          23,
          26,
          21,
          25,
          28,
          24,
          26,
          27,
          27,
          31,
          31,
          39,
          39,
          43,
          43,
          47,
          47,
          24,
          22,
          26,
          23,
          23,
          23,
          23,
          26,
          21,
          37,
          null,
          19,
          23,
          27,
          null,
          20,
          28,
          19,
          19,
          19,
          19,
          19,
          19,
          19,
          19,
          34,
          18,
          18,
          18,
          18,
          18,
          18,
          16,
          20,
          20,
          null,
          null,
          null,
          null,
          null,
          null,
          null,
          null,
          null,
          34,
          34,
          null,
          22,
          49,
          50,
          50,
          36,
          28,
          19,
          19,
          23,
          23,
          23,
          28,
          28,
          19,
          null,
          20,
          null,
          28,
          28,
          20,
          20,
          20,
          30,
          19,
          27,
          23,
          26,
          20,
          26,
          25,
          25,
          25,
          25,
          25,
          29,
          29,
          29,
          29,
          33,
          33,
          33,
          33,
          33,
          37,
          37,
          37,
          37,
          41,
          45,
          45,
          19,
          23,
          27,
          31,
          35,
          23,
          27,
          24,
          30,
          30,
          34,
          18,
          18,
          25,
          33,
          20,
          27,
          27,
          31,
          35,
          35,
          25,
          27,
          22,
          25,
          27,
          45,
          30,
          30,
          19,
          20,
          31,
          20,
          19,
          19,
          23,
          23,
          27,
          27,
          27,
          27,
          25,
          22,
          24,
          24,
          24,
          31,
          19,
          19,
          19,
          19,
          19,
          23,
          27,
          31,
          23,
          24,
          40,
          24,
          24,
          28,
          28,
          32,
          32,
          32,
          36,
          36,
          null,
          18,
          25,
          25,
          29,
          20,
          20,
          20,
          24,
          21,
          21,
          21,
          24,
          28,
          null,
          35,
          26,
          20,
          20,
          21,
          21,
          20,
          null,
          15,
          15,
          20,
          19,
          42,
          29,
          27,
          22,
          31,
          29,
          29,
          20,
          29,
          29,
          29,
          33,
          33,
          41,
          20,
          45,
          30,
          30,
          30,
          34,
          42,
          25,
          null,
          null,
          null,
          null,
          null,
          null,
          null,
          null,
          null,
          null,
          null,
          null,
          null,
          null,
          21,
          21,
          21,
          26,
          26,
          39,
          32,
          37,
          23,
          27,
          27,
          31,
          null,
          38,
          42,
          26,
          24,
          36,
          27,
          30,
          30,
          20,
          24,
          28,
          20,
          20,
          24,
          24,
          22,
          22,
          null,
          21,
          25,
          26,
          30,
          34,
          29,
          29,
          27,
          27,
          27,
          25,
          32,
          32,
          32,
          28,
          null,
          23,
          20,
          15,
          15,
          25,
          27,
          18,
          18,
          18,
          18,
          18,
          18,
          27,
          29,
          17,
          35,
          22,
          22,
          null,
          null,
          47,
          47,
          41,
          22,
          19,
          19,
          19,
          19,
          23,
          23,
          23,
          27,
          29,
          24,
          37,
          21,
          25,
          29,
          33,
          20,
          16,
          15,
          15,
          15,
          19,
          19,
          19,
          23,
          23,
          23,
          23,
          27,
          20,
          30,
          24,
          24,
          18,
          22,
          33,
          25,
          22,
          26,
          26,
          26,
          34,
          38,
          19,
          19,
          29,
          28,
          28,
          27,
          31,
          25,
          29,
          25,
          25,
          null,
          null,
          26,
          26,
          23,
          27,
          21,
          21,
          null,
          29,
          27,
          18,
          25,
          29,
          23,
          23,
          null,
          16,
          16,
          16,
          16,
          32,
          21,
          20,
          24,
          28,
          19,
          21,
          25,
          29,
          33,
          23,
          27,
          17,
          17,
          21,
          21,
          21,
          25,
          25,
          23,
          27,
          26,
          26,
          32,
          32,
          36,
          27,
          22,
          22,
          22,
          23,
          29,
          29,
          29,
          33,
          33,
          16,
          23,
          27,
          18,
          23,
          52,
          46,
          24,
          24,
          24,
          26,
          26,
          30,
          17,
          22,
          22,
          22,
          25,
          29,
          29,
          29,
          18,
          20,
          15,
          22,
          24,
          24,
          21,
          41,
          53,
          53,
          40,
          15,
          15,
          24,
          null,
          27,
          20,
          24,
          28,
          24,
          19,
          23,
          23,
          19,
          19,
          23,
          23,
          23,
          23,
          16,
          16,
          16,
          22,
          23,
          28,
          28,
          31,
          21,
          21,
          23,
          23,
          23,
          26,
          29,
          22,
          31,
          35,
          23,
          35,
          39,
          20,
          23,
          23,
          27,
          27,
          32,
          22,
          22,
          26,
          26,
          24,
          28,
          null,
          null,
          28,
          28,
          28,
          34,
          34,
          34,
          36,
          23,
          23,
          23,
          23,
          19,
          19,
          25,
          25,
          25,
          25,
          21,
          21,
          21,
          25,
          25,
          25,
          25,
          25,
          29,
          29,
          29,
          29,
          33,
          33,
          33,
          33,
          37,
          18,
          27,
          20,
          20,
          20,
          24,
          24,
          24,
          16,
          16,
          16,
          25,
          25,
          33,
          26,
          51,
          23,
          23,
          16,
          16,
          30,
          37,
          23,
          51,
          21,
          21,
          20,
          20,
          24,
          24,
          28,
          27,
          31,
          31,
          59,
          21,
          23,
          61,
          28,
          23,
          18,
          16,
          16,
          24,
          18,
          22,
          22,
          12,
          22,
          null,
          20,
          26,
          30,
          19,
          19,
          25,
          29,
          18,
          null,
          23,
          23,
          19,
          23,
          23,
          20,
          23,
          27,
          24,
          28,
          null,
          25,
          29,
          33,
          23,
          23,
          36,
          48,
          21,
          24,
          19,
          16,
          21,
          33,
          33,
          20,
          20,
          24,
          24,
          28,
          28,
          36,
          27,
          21,
          33,
          33,
          33,
          24,
          24,
          22,
          19,
          23,
          22,
          26,
          25,
          22,
          26,
          25,
          29,
          29,
          33,
          33,
          27,
          25,
          20,
          53,
          66,
          66,
          69,
          69,
          18,
          22,
          null,
          null,
          28,
          25,
          23,
          30,
          26,
          26,
          26,
          26,
          26,
          31,
          31,
          35,
          35,
          23,
          28,
          28,
          28,
          25,
          30,
          35,
          17,
          20,
          20,
          20,
          17,
          17,
          17,
          17,
          17,
          null,
          null,
          null,
          21,
          null,
          22,
          28,
          null,
          27,
          31,
          19,
          23,
          null,
          33,
          22,
          26,
          26,
          25,
          29,
          28,
          25,
          20,
          20,
          26,
          28,
          32,
          16,
          23,
          30,
          34,
          34,
          23,
          33,
          24,
          24,
          28,
          22,
          17,
          21,
          41,
          null,
          24,
          24,
          35,
          28,
          null,
          22,
          24,
          20,
          30,
          38,
          18,
          28,
          28,
          28,
          22,
          22,
          25,
          29,
          null,
          29,
          20,
          23,
          33,
          33,
          22,
          27,
          31,
          19,
          18,
          18,
          18,
          18,
          18,
          18,
          22,
          26,
          17,
          17,
          null,
          null,
          null,
          28,
          28,
          null,
          39,
          20,
          29,
          19,
          19,
          22,
          22,
          26,
          30,
          30,
          28,
          28,
          26,
          22,
          29,
          19,
          19,
          19,
          23,
          23,
          23,
          31,
          21,
          34,
          20,
          20,
          null,
          null,
          null,
          21,
          25,
          25,
          33,
          33,
          37,
          37,
          37,
          21,
          24,
          null,
          49,
          49,
          49,
          23,
          21,
          21,
          21,
          21,
          21,
          27,
          20,
          26,
          30,
          20,
          20,
          24,
          24,
          28,
          28,
          28,
          24,
          28,
          28,
          24,
          24,
          24,
          28,
          32,
          30,
          23,
          22,
          25,
          29,
          27,
          31,
          null,
          21,
          25,
          25,
          25,
          25,
          29,
          29,
          14,
          21,
          25,
          28,
          27,
          48,
          48,
          17,
          null,
          24,
          24,
          null,
          34,
          22,
          26,
          22,
          26,
          30,
          24,
          28,
          21,
          25,
          18,
          26,
          29,
          24,
          23,
          27,
          46,
          25,
          21,
          25,
          29,
          29,
          29,
          33,
          15,
          19,
          19,
          15,
          15,
          19,
          19,
          23,
          25,
          33,
          33,
          17,
          17,
          17,
          17,
          17,
          23,
          23,
          27,
          27,
          27,
          25,
          25,
          25,
          25,
          25,
          36,
          36,
          24,
          22,
          20,
          20,
          23,
          19,
          24,
          31,
          23,
          26,
          26,
          21,
          21,
          23,
          23,
          25,
          24,
          27,
          25,
          29,
          31,
          26,
          23,
          23,
          21,
          22,
          36,
          21,
          18,
          33,
          null,
          24,
          32,
          21,
          null,
          54,
          50,
          50,
          54,
          70,
          70,
          70,
          70,
          70,
          70,
          70,
          70,
          70,
          70,
          26,
          null,
          null,
          null,
          32,
          25,
          23,
          25,
          34,
          26,
          30,
          18,
          26,
          26,
          30,
          30,
          33,
          37,
          25,
          29,
          25,
          25,
          25,
          20,
          17,
          17,
          21,
          18,
          12,
          16,
          24,
          32,
          21,
          25,
          28,
          28,
          33,
          33,
          19,
          29,
          25,
          25,
          22,
          39,
          null,
          21,
          25,
          25,
          24,
          24,
          23,
          24,
          24,
          24,
          22,
          39,
          19,
          27,
          29,
          21,
          23,
          26,
          47,
          29,
          29,
          29,
          23,
          28,
          28,
          26,
          20,
          33,
          53,
          53,
          53,
          53,
          28,
          23,
          27,
          17,
          25,
          33,
          24,
          31,
          25,
          25,
          25,
          34,
          20,
          19,
          19,
          19,
          19,
          19,
          19,
          19,
          23,
          23,
          23,
          23,
          23,
          23,
          23,
          23,
          19,
          19,
          24,
          24,
          24,
          31,
          21,
          25,
          29,
          33,
          16,
          24,
          24,
          24,
          24,
          27,
          27,
          33,
          33,
          15,
          15,
          15,
          15,
          15,
          15,
          51,
          30,
          31,
          23,
          27,
          23,
          23,
          21,
          17,
          21,
          21,
          21,
          21,
          33,
          23,
          23,
          25,
          29,
          33,
          null,
          null,
          null,
          null,
          72,
          72,
          76,
          76,
          23,
          23,
          23,
          23,
          null,
          32,
          35,
          39,
          39,
          21,
          21,
          25,
          29,
          29,
          18,
          23,
          23,
          23,
          27,
          31,
          22,
          38,
          38,
          22,
          43,
          43,
          47,
          47,
          25,
          27,
          37,
          16,
          16,
          16,
          16,
          16,
          null,
          23,
          27,
          38,
          34,
          27,
          25,
          24,
          25,
          23,
          26,
          29,
          30,
          40,
          null,
          null,
          40,
          19,
          25,
          25,
          40,
          45,
          45,
          18,
          29,
          29,
          32,
          22,
          22,
          22,
          30,
          37,
          41,
          29,
          29,
          29,
          19,
          22,
          22,
          26,
          26,
          26,
          26,
          30,
          30,
          19,
          20,
          25,
          25,
          25,
          19,
          22,
          22,
          22,
          22,
          null,
          null,
          22,
          26,
          null,
          null,
          21,
          19,
          19,
          17,
          19,
          24,
          24,
          24,
          24,
          27,
          27,
          29,
          30,
          24,
          28,
          28,
          28,
          28,
          28,
          28,
          26,
          30,
          29,
          null,
          22,
          null,
          19,
          19,
          null,
          null,
          null,
          null,
          null,
          null,
          null,
          null,
          null,
          18,
          22,
          22,
          22,
          22,
          22,
          22,
          22,
          22,
          22,
          21,
          21,
          31,
          30,
          22,
          22,
          31,
          17,
          17,
          21,
          21,
          21,
          25,
          29,
          27,
          25,
          19,
          19,
          19,
          19,
          19,
          19,
          16,
          16,
          16,
          16,
          16,
          16,
          20,
          20,
          20,
          20,
          20,
          31,
          46,
          25,
          25,
          19,
          21,
          25,
          23,
          31,
          31,
          31,
          29,
          13,
          27,
          55,
          null,
          32,
          23,
          23,
          23,
          27,
          28,
          32,
          26,
          25,
          23,
          23,
          27,
          null,
          23,
          23,
          28,
          31,
          25,
          29,
          33,
          30,
          23,
          23,
          27,
          27,
          23,
          23,
          23,
          22,
          26,
          18,
          18,
          22,
          null,
          21,
          21,
          17,
          17,
          17,
          17,
          17,
          17,
          17,
          25,
          25,
          25,
          25,
          25,
          25,
          22,
          22,
          28,
          null,
          27,
          27,
          25,
          25,
          19,
          19,
          23,
          22,
          22,
          26,
          26,
          23,
          22,
          23,
          18,
          26,
          22,
          21,
          21,
          25,
          30,
          30,
          34,
          21,
          21,
          21,
          25,
          25,
          25,
          29,
          32,
          32,
          25,
          21,
          19,
          19,
          19,
          21,
          29,
          33,
          23,
          22,
          30,
          21,
          22,
          26,
          26,
          36,
          40,
          44,
          58,
          30,
          23,
          24,
          30,
          29,
          29,
          null,
          null,
          19,
          23,
          23,
          27,
          27,
          31,
          35,
          35,
          24,
          22,
          22,
          37,
          37,
          40,
          40,
          22,
          22,
          22,
          26,
          26,
          31,
          21,
          25,
          22,
          22,
          25,
          26,
          30,
          30,
          42,
          42,
          42,
          46,
          24,
          28,
          28,
          32,
          36,
          36,
          33,
          19,
          19,
          23,
          17,
          21,
          null,
          38,
          19,
          24,
          27,
          31,
          39,
          32,
          40,
          44,
          23,
          20,
          26,
          28,
          null,
          25,
          25,
          29,
          29,
          23,
          23,
          25,
          16,
          16,
          20,
          20,
          24,
          24,
          null,
          27,
          31,
          27,
          18,
          18,
          18,
          13,
          17,
          33,
          26,
          30,
          29,
          49,
          20,
          19,
          19,
          23,
          29,
          19,
          19,
          19,
          19,
          29,
          33,
          29,
          29,
          33,
          33,
          41,
          41,
          45,
          45,
          29,
          33,
          35,
          23,
          20,
          24,
          16,
          26,
          29,
          26,
          26,
          20,
          20,
          24,
          24,
          24,
          21,
          21,
          25,
          25,
          27,
          27,
          35,
          35,
          35,
          18,
          18,
          18,
          22,
          22,
          25,
          28,
          null,
          23,
          27,
          null,
          29,
          20,
          24,
          31,
          65,
          23,
          21,
          25,
          22,
          28,
          32,
          22,
          26,
          22,
          27,
          20,
          17,
          17,
          20,
          20,
          21,
          21,
          21,
          21,
          29,
          29,
          21,
          28,
          20,
          21,
          20,
          24,
          27,
          15,
          32,
          21,
          21,
          21,
          null,
          19,
          19,
          23,
          23,
          34,
          34,
          23,
          22,
          26,
          29,
          27,
          22,
          25,
          29,
          21,
          null,
          null,
          26,
          30,
          34,
          27,
          16,
          16,
          23,
          31,
          20,
          24,
          19,
          31,
          22,
          26,
          33,
          21,
          25,
          23,
          null,
          19,
          19,
          19,
          41,
          17,
          23,
          27,
          27,
          27,
          19,
          19,
          23,
          31,
          35,
          39,
          31,
          29,
          33,
          null,
          21,
          20,
          20,
          24,
          24,
          20,
          24,
          19,
          19,
          19,
          23,
          23,
          23,
          22,
          22,
          23,
          29,
          32,
          32,
          32,
          32,
          32,
          32,
          60,
          28,
          29,
          29,
          33,
          33,
          27,
          28,
          32,
          22,
          26,
          25,
          38,
          30,
          21,
          21,
          22,
          24,
          22,
          null,
          27,
          31,
          35,
          39,
          43,
          26,
          28,
          23,
          23,
          26,
          26,
          26,
          30,
          17,
          null,
          null,
          null,
          19,
          24,
          30,
          25,
          25,
          29,
          29,
          33,
          33,
          18,
          18,
          22,
          21,
          25,
          24,
          24,
          28,
          28,
          33,
          33,
          33,
          null,
          24,
          24,
          21,
          25,
          29,
          33,
          33,
          24,
          24,
          24,
          24,
          28,
          28,
          28,
          28,
          22,
          22,
          22,
          26,
          26,
          27,
          31,
          37,
          20,
          21,
          46,
          28,
          27,
          21,
          21,
          32,
          36,
          29,
          23,
          26,
          26,
          32,
          25,
          29,
          33,
          null,
          null,
          26,
          24,
          32,
          20,
          20,
          20,
          26,
          null,
          31,
          31,
          23,
          32,
          27,
          30,
          25,
          21,
          31,
          36,
          22,
          26,
          28,
          null,
          25,
          25,
          29,
          29,
          26,
          21,
          24,
          31,
          31,
          35,
          35,
          43,
          47,
          23,
          23,
          27,
          27,
          null,
          null,
          null,
          21,
          null,
          null,
          22,
          22,
          22,
          22,
          26,
          26,
          19,
          19,
          21,
          25,
          23,
          24,
          28,
          null,
          null,
          29,
          29,
          25,
          29,
          29,
          33,
          19,
          23,
          39,
          34,
          26,
          26,
          30,
          30,
          34,
          34,
          23,
          27,
          31,
          22,
          20,
          24,
          20,
          35,
          39,
          25,
          29,
          33,
          20,
          24,
          24,
          24,
          25,
          33,
          23,
          45,
          49,
          49,
          49,
          31,
          27,
          43,
          43,
          55,
          55,
          56,
          null,
          null,
          25,
          21,
          18,
          18,
          18,
          18,
          18,
          18,
          23,
          23,
          27,
          31,
          22,
          25,
          29,
          23,
          31,
          22,
          26,
          null,
          22,
          22,
          null,
          23,
          27,
          31,
          46,
          21,
          29,
          20,
          21,
          21,
          21,
          21,
          21,
          23,
          23,
          26,
          30,
          27,
          27,
          27,
          27,
          45,
          26,
          30,
          22,
          27,
          27,
          27,
          47,
          47,
          51,
          51,
          28,
          28,
          28,
          21,
          27,
          30,
          21,
          25,
          23,
          24,
          29,
          29,
          29,
          29,
          29,
          18,
          22,
          24,
          24,
          24,
          24,
          24,
          24,
          24,
          24,
          null,
          null,
          null,
          null,
          null,
          null,
          null,
          null,
          22,
          26,
          24,
          28,
          23,
          23,
          31,
          22,
          25,
          29,
          33,
          61,
          61,
          null,
          23,
          33,
          27,
          33,
          28,
          23,
          24,
          25,
          null,
          31,
          21,
          19,
          19,
          19,
          19,
          18,
          22,
          22,
          26,
          26,
          26,
          25,
          20,
          28,
          28,
          28,
          20,
          21,
          25,
          24,
          28,
          32,
          null,
          23,
          27,
          28,
          25,
          25,
          29,
          33,
          33,
          24,
          29,
          23,
          27,
          27,
          21,
          21,
          30,
          22,
          22,
          22,
          24,
          26,
          26,
          24,
          22,
          35,
          20,
          23,
          22,
          22,
          22,
          22,
          22,
          22,
          22,
          45,
          25,
          21,
          25,
          19,
          null,
          16,
          28,
          28,
          20,
          20,
          24,
          24,
          28,
          null,
          31,
          29,
          37,
          37,
          24,
          25,
          25,
          25,
          27,
          24,
          28,
          34,
          27,
          20,
          20,
          20,
          20,
          24,
          24,
          24,
          24,
          27,
          35,
          35,
          39,
          39,
          39,
          31,
          25,
          27,
          23,
          25,
          24,
          24,
          28,
          28,
          32,
          32,
          36,
          21,
          21,
          25,
          25,
          25,
          29,
          28,
          32,
          null,
          23,
          23,
          23,
          27,
          27,
          27,
          23,
          27,
          24,
          28,
          17,
          17,
          28,
          27,
          35,
          27,
          31,
          35,
          24,
          23,
          27,
          20,
          28,
          28,
          32,
          32,
          29,
          29,
          29,
          19,
          16,
          16,
          16,
          20,
          29,
          20,
          null,
          23,
          23,
          23,
          32,
          36,
          40,
          24,
          23,
          27,
          31,
          19,
          null,
          23,
          24,
          24,
          29,
          30,
          31,
          39,
          30,
          28,
          32,
          36,
          24,
          24,
          37,
          23,
          23,
          23,
          23,
          19,
          41,
          29,
          38,
          23,
          27,
          42,
          42,
          42,
          38,
          26,
          23,
          16,
          16,
          16,
          20,
          20,
          31,
          23,
          null,
          27,
          27,
          24,
          28,
          21,
          24,
          28,
          25,
          28,
          null,
          25,
          25,
          29,
          29,
          33,
          33,
          37,
          37,
          26,
          27,
          26,
          18,
          21,
          19,
          19,
          23,
          23,
          23,
          24,
          22,
          22,
          27,
          34,
          23,
          19,
          null,
          19,
          26,
          43,
          28,
          31,
          31,
          26,
          23,
          23,
          23,
          27,
          17,
          17,
          17,
          17,
          17,
          null,
          26,
          26,
          26,
          26,
          30,
          30,
          38,
          38,
          25,
          25,
          21,
          21,
          21,
          21,
          21,
          21,
          21,
          21,
          21,
          21,
          23,
          39,
          39,
          39,
          39,
          44,
          49,
          49,
          49,
          49,
          49,
          49,
          49,
          49,
          49,
          49,
          49,
          25,
          33,
          null,
          34,
          24,
          21,
          21,
          25,
          25,
          24,
          21,
          21,
          26,
          22,
          22,
          20,
          20,
          24,
          21,
          27,
          28,
          28,
          20,
          24,
          28,
          32,
          19,
          21,
          21,
          28,
          24,
          27,
          27,
          31,
          39,
          21,
          18,
          18,
          18,
          22,
          22,
          22,
          26,
          26,
          26,
          22,
          22,
          23,
          35,
          27,
          39,
          29,
          24,
          28,
          23,
          40,
          20,
          24,
          31,
          31,
          23,
          20,
          23,
          null,
          null,
          25,
          29,
          20,
          24,
          26,
          60,
          60,
          60,
          26,
          30,
          29,
          33,
          41,
          23,
          24,
          28,
          19,
          19,
          19,
          19,
          19,
          23,
          23,
          24,
          27,
          32,
          null,
          null,
          null,
          23,
          22,
          22,
          22,
          56,
          56,
          56,
          60,
          60,
          60,
          29,
          22,
          21,
          21,
          47,
          30,
          26,
          30,
          34,
          29,
          22,
          26,
          22,
          48,
          22,
          25,
          47,
          21,
          17,
          17,
          34,
          27,
          22,
          19,
          19,
          22,
          null,
          null,
          22,
          26,
          26,
          26,
          26,
          33,
          33,
          19,
          23,
          23,
          24,
          28,
          28,
          32,
          32,
          32,
          40,
          40,
          40,
          40,
          44,
          44,
          44,
          44,
          48,
          48,
          23,
          32,
          22,
          23,
          27,
          31,
          22,
          22,
          20,
          67,
          null,
          null,
          41,
          17,
          17,
          21,
          22,
          22,
          26,
          26,
          26,
          26,
          30,
          30,
          30,
          22,
          22,
          22,
          22,
          23,
          27,
          31,
          25,
          22,
          22,
          25,
          20,
          20,
          20,
          24,
          24,
          24,
          28,
          25,
          17,
          25,
          21,
          21,
          21,
          25,
          25,
          29,
          24,
          17,
          21,
          21,
          25,
          25,
          29,
          29,
          19,
          23,
          27,
          26,
          28,
          21,
          21,
          25,
          29,
          22,
          22,
          22,
          22,
          22,
          22,
          22,
          37,
          23,
          33,
          24,
          24,
          29,
          24,
          22,
          24,
          24,
          22,
          22,
          22,
          22,
          22,
          22,
          22,
          22,
          26,
          26,
          26,
          26,
          26,
          26,
          26,
          null,
          24,
          33,
          null,
          null,
          18,
          27,
          26,
          28,
          39,
          27,
          36,
          null,
          null,
          22,
          29,
          33,
          24,
          23,
          41,
          null,
          36,
          19,
          29,
          29,
          29,
          30,
          34,
          26,
          34,
          null,
          30,
          30,
          23,
          25,
          19,
          19,
          23,
          29,
          33,
          24,
          28,
          34,
          38,
          38,
          42,
          26,
          23,
          27,
          27,
          27,
          null,
          19,
          19,
          19,
          19,
          19,
          19,
          21,
          25,
          23,
          19,
          23,
          22,
          22,
          22,
          22,
          22,
          22,
          22,
          22,
          26,
          26,
          26,
          26,
          26,
          26,
          26,
          24,
          27,
          23,
          23,
          29,
          27,
          22,
          17,
          17,
          17,
          17,
          17,
          17,
          17,
          28,
          28,
          60,
          49,
          49,
          49,
          49,
          49,
          53,
          69,
          69,
          69,
          69,
          69,
          69,
          69,
          69,
          69,
          69,
          69,
          69,
          69,
          69,
          69,
          69,
          69,
          69,
          69,
          69,
          69,
          69,
          69,
          69,
          69,
          37,
          41,
          24,
          26,
          null,
          27,
          31,
          35,
          48,
          22,
          28,
          25,
          28,
          21,
          21,
          25,
          25,
          25,
          29,
          29,
          29,
          null,
          null,
          42,
          42,
          42,
          23,
          27,
          null,
          null,
          22,
          28,
          null,
          null,
          22,
          26,
          30,
          30,
          21,
          24,
          21,
          22,
          26,
          19,
          19,
          19,
          19,
          19,
          46,
          null,
          23,
          27,
          17,
          21,
          21,
          25,
          29,
          46,
          46,
          19,
          19,
          19,
          19,
          23,
          23,
          23,
          23,
          15,
          27,
          27,
          23,
          34,
          28,
          32,
          20,
          24,
          null,
          17,
          21,
          23,
          27,
          34,
          23,
          23,
          23,
          22,
          26,
          27,
          27,
          31,
          31,
          22,
          null,
          22,
          26,
          null,
          21,
          21,
          21,
          21,
          21,
          21,
          21,
          null,
          26,
          35,
          25,
          40,
          27,
          18,
          18,
          22,
          22,
          21,
          26,
          30,
          34,
          23,
          19,
          19,
          28,
          32,
          34,
          30,
          30,
          null,
          30,
          23,
          27,
          27,
          27,
          31,
          28,
          32,
          25,
          53,
          35,
          39,
          null,
          null,
          25,
          42,
          42,
          30,
          24,
          19,
          27,
          18,
          21,
          31,
          27,
          21,
          22,
          26,
          30,
          30,
          34,
          28,
          36,
          23,
          null,
          46,
          52,
          22,
          22,
          22,
          26,
          20,
          20,
          22,
          20,
          25,
          29,
          29,
          29,
          24,
          28,
          32,
          26,
          23,
          19,
          19,
          22,
          56,
          56,
          76,
          41,
          21,
          29,
          32,
          19,
          15,
          19,
          18,
          22,
          23,
          23,
          21,
          25,
          25,
          27,
          29,
          40,
          40,
          28,
          28,
          40,
          24,
          28,
          32,
          25,
          18,
          18,
          18,
          22,
          22,
          26,
          26,
          25,
          29,
          32,
          32,
          36,
          22,
          27,
          34,
          34,
          34,
          null,
          null,
          18,
          23,
          27,
          25,
          25,
          21,
          29,
          29,
          29,
          33,
          26,
          30,
          null,
          17,
          17,
          25,
          25,
          25,
          25,
          25,
          25,
          25,
          29,
          29,
          null,
          null,
          31,
          null,
          null,
          37,
          23,
          30,
          35,
          25,
          20,
          19,
          28,
          30,
          25,
          28,
          39,
          23,
          27,
          27,
          31,
          31,
          28,
          40,
          40,
          44,
          48,
          48,
          47,
          19,
          19,
          25,
          25,
          29,
          33,
          39,
          21,
          27,
          27,
          26,
          30,
          38,
          42,
          29,
          33,
          23,
          21,
          21,
          null,
          19,
          37,
          20,
          22,
          26,
          30,
          20,
          17,
          17,
          25,
          29,
          21,
          33,
          33,
          33,
          16,
          16,
          20,
          20,
          20,
          18,
          24,
          28,
          16,
          28,
          32,
          36,
          25,
          23,
          23,
          26,
          21,
          34,
          21,
          32,
          20,
          23,
          27,
          23,
          null,
          25,
          20,
          20,
          24,
          24,
          28,
          28,
          32,
          32,
          null,
          21,
          22,
          23,
          23,
          23,
          20,
          43,
          43,
          43,
          29,
          null,
          26,
          26,
          30,
          30,
          34,
          34,
          19,
          19,
          19,
          19,
          19,
          24,
          17,
          17,
          25,
          25,
          25,
          21,
          25,
          29,
          29,
          33,
          24,
          24,
          24,
          28,
          32,
          32,
          32,
          20,
          24,
          27,
          26,
          25,
          26,
          26,
          30,
          30,
          30,
          24,
          29,
          33,
          33,
          27,
          27,
          31,
          21,
          19,
          19,
          19,
          37,
          27,
          27,
          29,
          29,
          null,
          43,
          24,
          18,
          null,
          49,
          49,
          19,
          24,
          30,
          17,
          null,
          25,
          17,
          17,
          17,
          21,
          21,
          17,
          17,
          26,
          17,
          24,
          28,
          33,
          20,
          18,
          22,
          25,
          25,
          29,
          29,
          21,
          21,
          25,
          20,
          20,
          24,
          24,
          28,
          28,
          21,
          25,
          25,
          null,
          31,
          21,
          25,
          24,
          24,
          32,
          32,
          21,
          22,
          22,
          20,
          21,
          null,
          null,
          27,
          32,
          25,
          23,
          21,
          21,
          null,
          null,
          null,
          null,
          29,
          23,
          27,
          17,
          21,
          25,
          26,
          null,
          25,
          23,
          34,
          38,
          23,
          23,
          23,
          21,
          24,
          26,
          26,
          30,
          38,
          38,
          42,
          42,
          50,
          16,
          18,
          18,
          19,
          31,
          29,
          29,
          26,
          24,
          17,
          17,
          17,
          21,
          21,
          21,
          21,
          25,
          25,
          25,
          25,
          23,
          23,
          20,
          32,
          32,
          24,
          24,
          24,
          28,
          28,
          32,
          32,
          36,
          36,
          27,
          27,
          27,
          27,
          27,
          27,
          27,
          27,
          31,
          31,
          31,
          31,
          31,
          31,
          31,
          29,
          null,
          null,
          null,
          24,
          28,
          22,
          30,
          21,
          35,
          35,
          39,
          39,
          24,
          19,
          19,
          26,
          26,
          25,
          25,
          24,
          25,
          29,
          29,
          33,
          33,
          17,
          24,
          null,
          24,
          29,
          28,
          25,
          25,
          25,
          26,
          30,
          32,
          24,
          23,
          26,
          32,
          36,
          18,
          22,
          26,
          18,
          26,
          26,
          null,
          null,
          null,
          null,
          null,
          null,
          null,
          33,
          23,
          36,
          36,
          36,
          27,
          31,
          21,
          21,
          24,
          24,
          28,
          28,
          23,
          21,
          null,
          29,
          23,
          27,
          27,
          33,
          21,
          36,
          36,
          26,
          null,
          19,
          24,
          23,
          24,
          30,
          30,
          27,
          31,
          22,
          null,
          21,
          24,
          24,
          28,
          28,
          21,
          21,
          23,
          20,
          24,
          26,
          25,
          29,
          27,
          21,
          21,
          22,
          26,
          26,
          16,
          26,
          34,
          25,
          29,
          32,
          24,
          24,
          28,
          28,
          21,
          21,
          25,
          25,
          25,
          25,
          29,
          29,
          37,
          29,
          33,
          33,
          35,
          35,
          39,
          23,
          23,
          28,
          28,
          28,
          28,
          27,
          27,
          31,
          31,
          31,
          31,
          35,
          35,
          35,
          39,
          25,
          25,
          25,
          29,
          29,
          37,
          18,
          26,
          30,
          30,
          34,
          38,
          38,
          42,
          21,
          25,
          21,
          21,
          48,
          23,
          23,
          23,
          23,
          35,
          33,
          37,
          41,
          30,
          19,
          20,
          20,
          20,
          24,
          28,
          39,
          47,
          16,
          28,
          32,
          28,
          22,
          25,
          21,
          23,
          null,
          null,
          32,
          32,
          40,
          40,
          24,
          26,
          23,
          27,
          31,
          23,
          27,
          54,
          54,
          58,
          26,
          19,
          21,
          21,
          21,
          53,
          20,
          20,
          20,
          20,
          24,
          30,
          42,
          46,
          22,
          32,
          44,
          44,
          24,
          24,
          28,
          23,
          23,
          27,
          31,
          31,
          31,
          28,
          32,
          25,
          31,
          31,
          31,
          25,
          33,
          20,
          20,
          20,
          57,
          31,
          31,
          31,
          31,
          32,
          30,
          23,
          23,
          21,
          24,
          28,
          32,
          36,
          23,
          23,
          36,
          27,
          31,
          49,
          26,
          20,
          20,
          20,
          20,
          20,
          20,
          19,
          23,
          23,
          20,
          20,
          21,
          24,
          null,
          30,
          30,
          43,
          47,
          24,
          22,
          22,
          18,
          18,
          18,
          22,
          22,
          26,
          26,
          29,
          33,
          25,
          25,
          29,
          33,
          28,
          24,
          37,
          32,
          32,
          34,
          21,
          20,
          25,
          16,
          20,
          23,
          23,
          27,
          27,
          31,
          31,
          35,
          26,
          21,
          25,
          25,
          29,
          29,
          33,
          33,
          34,
          33,
          25,
          25,
          null,
          24,
          19,
          19,
          23,
          27,
          23,
          23,
          39,
          39,
          24,
          28,
          29,
          29,
          31,
          31,
          26,
          27,
          39,
          39,
          21,
          21,
          20,
          20,
          20,
          20,
          24,
          24,
          24,
          24,
          24,
          28,
          28,
          28,
          28,
          28,
          32,
          32,
          34,
          null,
          null,
          29,
          25,
          25,
          30,
          30,
          null,
          null,
          28,
          34,
          46,
          46,
          24,
          null,
          null,
          25,
          29,
          25,
          29,
          43,
          43,
          43,
          43,
          47,
          47,
          47,
          47,
          40,
          18,
          18,
          18,
          18,
          18,
          20,
          37,
          29,
          36,
          null,
          29,
          26,
          21,
          25,
          29,
          33,
          23,
          25,
          29,
          null,
          25,
          21,
          21,
          25,
          25,
          29,
          29,
          27,
          23,
          23,
          23,
          19,
          23,
          23,
          19,
          28,
          21,
          41,
          41,
          41,
          45,
          45,
          42,
          42,
          42,
          62,
          62,
          62,
          62,
          19,
          24,
          28,
          61,
          17,
          null,
          25,
          24,
          null,
          25,
          25,
          25,
          25,
          25,
          25,
          28,
          23,
          26,
          30,
          30,
          42,
          25,
          25,
          29,
          29,
          33,
          33,
          26,
          30,
          21,
          29,
          29,
          34,
          34,
          29,
          22,
          22,
          30,
          30,
          24,
          24,
          24,
          28,
          20,
          28,
          null,
          null,
          25,
          29,
          24,
          20,
          24,
          28,
          null,
          null,
          34,
          38,
          42,
          26,
          30,
          29,
          20,
          20,
          19,
          34,
          34,
          34,
          29,
          19,
          19,
          23,
          21,
          21,
          25,
          23,
          23,
          23,
          27,
          25,
          22,
          22,
          26,
          31,
          29,
          27,
          24,
          null,
          null,
          20,
          24,
          22,
          22,
          22,
          21,
          21,
          24,
          24,
          28,
          27,
          20,
          20,
          24,
          24,
          24,
          24,
          30,
          29,
          29,
          null,
          19,
          19,
          19,
          19,
          19,
          34,
          23,
          35,
          51,
          21,
          21,
          24,
          25,
          18,
          18,
          18,
          18,
          18,
          18,
          null,
          21,
          25,
          25,
          29,
          31,
          35,
          21,
          21,
          25,
          25,
          21,
          18,
          22,
          29,
          33,
          33,
          37,
          37,
          32,
          25,
          18,
          18,
          28,
          29,
          22,
          22,
          30,
          30,
          33,
          22,
          26,
          19,
          20,
          20,
          24,
          24,
          37,
          23,
          27,
          21,
          21,
          21,
          23,
          31,
          32,
          18,
          22,
          26,
          26,
          26,
          null,
          null,
          null,
          null,
          null,
          null,
          22,
          22,
          null,
          26,
          30,
          24,
          28,
          22,
          26,
          30,
          22,
          21,
          21,
          21,
          21,
          21,
          21,
          21,
          30,
          34,
          17,
          25,
          25,
          39,
          39,
          39,
          39,
          39,
          44,
          44,
          44,
          44,
          44,
          null,
          35,
          47,
          47,
          31,
          30,
          30,
          34,
          27,
          null,
          26,
          26,
          25,
          20,
          24,
          24,
          24,
          23,
          27,
          25,
          29,
          16,
          16,
          22,
          26,
          30,
          30,
          34,
          31,
          20,
          20,
          20,
          25,
          25,
          25,
          20,
          20,
          20,
          22,
          22,
          22,
          22,
          22,
          26,
          26,
          34,
          38,
          42,
          20,
          16,
          35,
          29,
          21,
          21,
          18,
          18,
          18,
          18,
          18,
          18,
          18,
          26,
          26,
          26,
          26,
          26,
          26,
          26,
          23,
          23,
          27,
          27,
          29,
          33,
          24,
          21,
          33,
          25,
          33,
          20,
          22,
          26,
          22,
          36,
          21,
          25,
          19,
          23,
          23,
          null,
          20,
          20,
          24,
          24,
          24,
          32,
          32,
          32,
          32,
          32,
          48,
          48,
          30,
          26,
          22,
          26,
          30,
          26,
          25,
          29,
          22,
          26,
          16,
          16,
          16,
          20,
          20,
          26,
          26,
          32,
          26,
          30,
          62,
          23,
          23,
          25,
          21,
          28,
          32,
          33,
          22,
          27,
          25,
          24,
          24,
          24,
          24,
          24,
          24,
          24,
          30,
          30,
          30,
          29,
          15,
          19,
          19,
          19,
          23,
          23,
          27,
          25,
          19,
          23,
          21,
          21,
          33,
          22,
          26,
          26,
          30,
          34,
          38,
          26,
          21,
          33,
          33,
          25,
          24,
          24,
          27,
          30,
          35,
          25,
          27,
          27,
          16,
          16,
          16,
          16,
          16,
          20,
          20,
          20,
          20,
          20,
          20,
          23,
          23,
          67,
          24,
          24,
          24,
          24,
          28,
          53,
          23,
          24,
          21,
          21,
          21,
          25,
          25,
          25,
          29,
          28,
          32,
          32,
          29,
          29,
          28,
          20,
          20,
          23,
          23,
          20,
          37,
          37,
          null,
          null,
          28,
          21,
          19,
          19,
          38,
          20,
          24,
          24,
          28,
          28,
          26,
          30,
          15,
          20,
          20,
          21,
          22,
          22,
          27,
          31,
          20,
          20,
          24,
          24,
          24,
          28,
          32,
          21,
          null,
          25,
          29,
          52,
          52,
          30,
          21,
          21,
          20,
          23,
          23,
          22,
          27,
          31,
          24,
          28,
          38,
          22,
          22,
          24,
          32,
          36,
          26,
          26,
          27,
          28,
          null,
          32,
          32,
          28,
          32,
          30,
          27,
          24,
          21,
          38,
          36,
          29,
          null,
          26,
          16,
          20,
          24,
          24,
          28,
          28,
          19,
          23,
          30,
          22,
          43,
          47,
          47,
          17,
          17,
          21,
          21,
          37,
          18,
          26,
          30,
          34,
          20,
          28,
          32,
          36,
          22,
          26,
          30,
          34,
          23,
          27,
          26,
          24,
          21,
          29,
          23,
          30,
          30,
          38,
          38,
          19,
          23,
          21,
          21,
          21,
          32,
          20,
          24,
          47,
          24,
          22,
          22,
          22,
          22,
          26,
          30,
          null,
          23,
          23,
          22,
          37,
          37,
          37,
          37,
          28,
          32,
          55,
          null,
          16,
          20,
          20,
          20,
          24,
          26,
          26,
          24,
          24,
          36,
          36,
          26,
          26,
          23,
          20,
          20,
          20,
          29,
          33,
          33,
          15,
          15,
          15,
          15,
          15,
          16,
          16,
          null,
          29,
          29,
          29,
          null,
          null,
          31,
          30,
          27,
          29,
          null,
          null,
          null,
          23,
          23,
          23,
          null,
          26,
          26,
          30,
          21,
          25,
          29,
          31,
          24,
          28,
          null,
          23,
          27,
          27,
          31,
          24,
          28,
          32,
          36,
          27,
          31,
          26,
          26,
          34,
          34,
          46,
          46,
          25,
          26,
          31,
          28,
          21,
          21,
          29,
          33,
          29,
          24,
          24,
          35,
          33,
          null,
          36,
          23,
          60,
          60,
          60,
          22,
          35,
          18,
          22,
          23,
          23,
          23,
          42,
          37,
          21,
          25,
          18,
          18,
          18,
          22,
          22,
          null,
          null,
          21,
          21,
          21,
          25,
          25,
          21,
          25,
          29,
          25,
          31,
          null,
          31,
          31,
          31,
          27,
          27,
          27,
          null,
          null,
          41,
          41,
          41,
          57,
          57,
          23,
          27,
          17,
          20,
          32,
          23,
          27,
          31,
          26,
          30,
          22,
          22,
          21,
          18,
          18,
          18,
          18,
          22,
          22,
          22,
          22,
          22,
          29,
          24,
          28,
          28,
          23,
          27,
          20,
          28,
          31,
          31,
          35,
          35,
          21,
          21,
          25,
          25,
          29,
          29,
          17,
          22,
          22,
          26,
          26,
          null,
          20,
          20,
          22,
          25,
          29,
          36,
          28,
          32,
          21,
          25,
          21,
          21,
          30,
          34,
          20,
          20,
          20,
          23,
          31,
          27,
          26,
          26,
          30,
          24,
          19,
          24,
          28,
          20,
          23,
          21,
          25,
          25,
          20,
          19,
          23,
          27,
          25,
          25,
          17,
          17,
          21,
          26,
          26,
          16,
          20,
          23,
          23,
          23,
          25,
          25,
          24,
          28,
          32,
          25,
          29,
          23,
          23,
          23,
          26,
          28,
          22,
          27,
          27,
          null,
          null,
          null,
          null,
          null,
          null,
          24,
          35,
          24,
          null,
          21,
          22,
          23,
          25,
          29,
          null,
          21,
          25,
          29,
          20,
          20,
          20,
          20,
          20,
          42,
          23,
          26,
          26,
          21,
          21,
          25,
          21,
          21,
          23,
          23,
          27,
          22,
          21,
          21,
          30,
          22,
          24,
          22,
          22,
          20,
          24,
          24,
          24,
          25,
          21,
          63,
          17,
          17,
          37,
          23,
          17,
          26,
          29,
          26,
          26,
          23,
          23,
          22,
          31,
          20,
          24,
          28,
          32,
          36,
          40,
          null,
          null,
          null,
          null,
          29,
          29,
          21,
          25,
          21,
          25,
          25,
          25,
          31,
          24,
          24,
          24,
          28,
          28,
          23,
          24,
          20,
          null,
          null,
          35,
          23,
          27,
          38,
          18,
          22,
          24,
          24,
          null,
          20,
          31,
          26,
          32,
          23,
          23,
          27,
          27,
          37,
          31,
          24,
          24,
          28,
          22,
          21,
          26,
          22,
          26,
          30,
          29,
          29,
          24,
          28,
          null,
          31,
          31,
          25,
          26,
          26,
          26,
          34,
          28,
          33,
          27,
          31,
          null,
          27,
          24,
          21,
          29,
          33,
          29,
          29,
          27,
          27,
          25,
          24,
          24,
          null,
          20,
          19,
          19,
          19,
          24,
          24,
          22,
          26,
          29,
          25,
          25,
          25,
          25,
          26,
          26,
          26,
          33,
          33,
          33,
          33,
          20,
          25,
          25,
          26,
          23,
          31,
          30,
          24,
          24,
          24,
          26,
          26,
          26,
          17,
          24,
          28,
          21,
          21,
          16,
          21,
          21,
          25,
          20,
          24,
          28,
          40,
          23,
          27,
          27,
          38,
          38,
          19,
          20,
          20,
          20,
          23,
          19,
          19,
          19,
          23,
          23,
          20,
          19,
          33,
          23,
          39,
          39,
          39,
          41,
          41,
          45,
          45,
          45,
          53,
          53,
          53,
          57,
          57,
          57,
          61,
          61,
          65,
          42,
          23,
          27,
          21,
          17,
          25,
          16,
          20,
          20,
          25,
          30,
          38,
          31,
          35,
          62,
          18,
          18,
          22,
          22,
          22,
          26,
          null,
          21,
          21,
          21,
          29,
          22,
          26,
          30,
          20,
          20,
          23,
          23,
          31,
          null,
          22,
          22,
          22,
          18,
          30,
          22,
          26,
          35,
          31,
          27,
          22,
          23,
          26,
          23,
          25,
          29,
          33,
          21,
          30,
          34,
          21,
          25,
          32,
          36,
          27,
          21,
          21,
          23,
          28,
          32,
          32,
          26,
          25,
          25,
          29,
          29,
          48,
          21,
          23,
          27,
          35,
          24,
          null,
          26,
          26,
          15,
          19,
          19,
          23,
          27,
          27,
          31,
          31,
          28,
          28,
          27,
          27,
          31,
          47,
          47,
          47,
          27,
          35,
          35,
          39,
          28,
          26,
          23,
          23,
          27,
          40,
          27,
          27,
          31,
          31,
          21,
          29,
          27,
          31,
          27,
          28,
          20,
          29,
          30,
          26,
          38,
          26,
          30,
          30,
          19,
          33,
          41,
          24,
          30,
          15,
          15,
          24,
          22,
          33,
          22,
          17,
          17,
          21,
          26,
          26,
          17,
          36,
          29,
          27,
          20,
          27,
          41,
          27,
          24,
          31,
          35,
          38,
          38,
          38,
          38,
          43,
          43,
          43,
          43,
          47,
          47,
          47,
          63,
          20,
          null,
          20,
          20,
          24,
          24,
          27,
          27,
          24,
          21,
          25,
          24,
          28,
          17,
          18,
          25,
          30,
          19,
          23,
          27,
          23,
          23,
          25,
          30,
          21,
          25,
          29,
          27,
          19,
          25,
          26,
          30,
          18,
          21,
          24,
          28,
          33,
          47,
          47,
          47,
          47,
          null,
          21,
          25,
          24,
          30,
          30,
          34,
          34,
          38,
          38,
          46,
          50,
          50,
          54,
          54,
          58,
          58,
          21,
          21,
          21,
          48,
          48,
          41,
          23,
          23,
          23,
          null,
          null,
          21,
          21,
          31,
          31,
          31,
          25,
          19,
          23,
          27,
          27,
          15,
          21,
          25,
          25,
          30,
          34,
          28,
          17,
          17,
          17,
          17,
          17,
          25,
          21,
          25,
          18,
          22,
          22,
          22,
          26,
          26,
          19,
          23,
          23,
          19,
          null,
          23,
          22,
          28,
          24,
          28,
          24,
          28,
          20,
          20,
          20,
          24,
          24,
          24,
          17,
          17,
          17,
          20,
          24,
          24,
          25,
          25,
          25,
          25,
          24,
          23,
          null,
          null,
          27,
          22,
          29,
          null,
          21,
          21,
          21,
          29,
          33,
          41,
          45,
          24,
          26,
          21,
          null,
          22,
          null,
          23,
          26,
          30,
          null,
          24,
          28,
          20,
          28,
          28,
          21,
          29,
          29,
          33,
          30,
          18,
          27,
          null,
          31,
          24,
          28,
          28,
          19,
          null,
          34,
          46,
          24,
          33,
          23,
          27,
          24,
          32,
          36,
          19,
          19,
          19,
          19,
          19,
          19,
          23,
          23,
          23,
          27,
          27,
          18,
          22,
          22,
          22,
          22,
          30,
          34,
          24,
          24,
          45,
          26,
          26,
          30,
          30,
          19,
          24,
          43,
          19,
          20,
          20,
          19,
          23,
          21,
          23,
          27,
          22,
          24,
          null,
          30,
          34,
          33,
          18,
          22,
          26,
          26,
          26,
          18,
          16,
          18,
          27,
          27,
          31,
          31,
          23,
          26,
          17,
          21,
          21,
          25,
          25,
          25,
          30,
          27,
          31,
          25,
          23,
          37,
          37,
          43,
          20,
          33,
          26,
          21,
          21,
          27,
          31,
          31,
          23,
          23,
          28,
          28,
          28,
          20,
          29,
          29,
          16,
          26,
          30,
          27,
          27,
          27,
          29,
          29,
          null,
          21,
          29,
          29,
          15,
          22,
          22,
          24,
          32,
          36,
          21,
          56,
          null,
          22,
          22,
          32,
          26,
          null,
          null,
          null,
          null,
          null,
          null,
          null,
          null,
          null,
          37,
          23,
          18,
          26,
          19,
          19,
          24,
          20,
          23,
          18,
          20,
          20,
          20,
          24,
          24,
          22,
          23,
          23,
          23,
          23,
          27,
          27,
          27,
          25,
          49,
          49,
          24,
          18,
          26,
          19,
          24,
          24,
          28,
          31,
          31,
          35,
          21,
          21,
          29,
          35,
          25,
          28,
          23,
          23,
          25,
          29,
          52,
          52,
          22,
          25,
          33,
          33,
          27,
          23,
          27,
          31,
          35,
          62,
          18,
          18,
          18,
          22,
          22,
          25,
          29,
          27,
          31,
          19,
          18,
          22,
          30,
          23,
          23,
          23,
          24,
          27,
          30,
          30,
          30,
          34,
          34,
          38,
          38,
          42,
          46,
          46,
          23,
          23,
          24,
          17,
          26,
          26,
          26,
          26,
          26,
          26,
          26,
          26,
          35,
          35,
          35,
          35,
          35,
          35,
          35,
          35,
          21,
          25,
          null,
          22,
          26,
          25,
          29,
          29,
          34,
          21,
          23,
          27,
          31,
          35,
          23,
          23,
          36,
          40,
          45,
          45,
          43,
          59,
          22,
          22,
          25,
          null,
          30,
          37,
          37,
          22,
          26,
          22,
          26,
          31,
          26,
          26,
          30,
          30,
          21,
          21,
          25,
          28,
          32,
          22,
          30,
          30,
          35,
          35,
          32,
          null,
          17,
          21,
          25,
          29,
          17,
          17,
          17,
          17,
          20,
          20,
          20,
          24,
          24,
          24,
          23,
          30,
          30,
          30,
          16,
          16,
          28,
          35,
          35,
          39,
          39,
          31,
          35,
          23,
          27,
          36,
          36,
          36,
          40,
          29,
          20,
          20,
          20,
          20,
          38,
          21,
          26,
          38,
          23,
          35,
          24,
          24,
          22,
          27,
          23,
          23,
          43,
          43,
          33,
          36,
          36,
          35,
          21,
          21,
          30,
          21,
          25,
          null,
          null,
          16,
          26,
          30,
          34,
          21,
          33,
          null,
          23,
          23,
          27,
          27,
          18,
          26,
          30,
          30,
          32,
          24,
          24,
          27,
          27,
          31,
          35,
          27,
          22,
          29,
          27,
          32,
          19,
          31,
          22,
          31,
          25,
          21,
          25,
          25,
          49,
          28,
          null,
          null,
          23,
          21,
          29,
          29,
          29,
          29,
          29,
          29,
          29,
          33,
          33,
          33,
          33,
          33,
          33,
          33,
          33,
          28,
          29,
          19,
          22,
          21,
          26,
          33,
          33,
          37,
          37,
          37,
          16,
          21,
          21,
          32,
          null,
          41,
          23,
          18,
          18,
          18,
          18,
          18,
          18,
          18,
          null,
          null,
          24,
          22,
          23,
          17,
          17,
          17,
          17,
          17,
          41,
          41,
          39,
          36,
          19,
          19,
          23,
          23,
          27,
          27,
          31,
          31,
          25,
          22,
          22,
          23,
          28,
          21,
          29,
          28,
          26,
          27,
          27,
          20,
          23,
          36,
          24,
          24,
          28,
          28,
          27,
          22,
          20,
          33,
          26,
          47,
          51,
          20,
          24,
          31,
          24,
          21,
          29,
          45,
          26,
          26,
          30,
          19,
          23,
          23,
          41,
          21,
          19,
          21,
          30,
          34,
          19,
          29,
          32,
          23,
          21,
          null,
          41,
          25,
          25,
          25,
          29,
          29,
          39,
          35,
          30,
          21,
          25,
          22,
          29,
          29,
          null,
          37,
          23,
          23,
          23,
          27,
          27,
          27,
          27,
          26,
          30,
          26,
          28,
          32,
          17,
          17,
          17,
          21,
          21,
          21,
          32,
          20,
          23,
          19,
          19,
          26,
          43,
          25,
          29,
          31,
          31,
          18,
          22,
          19,
          null,
          23,
          25,
          19,
          30,
          18,
          23,
          17,
          23,
          23,
          23,
          31,
          31,
          null,
          23,
          23,
          23,
          21,
          21,
          21,
          23,
          23,
          23,
          27,
          27,
          27,
          35,
          35,
          35,
          null,
          22,
          29,
          33,
          24,
          31,
          24,
          20,
          24,
          20,
          20,
          24,
          21,
          20,
          18,
          22,
          22,
          26,
          26,
          19,
          19,
          19,
          11,
          23,
          null,
          null,
          22,
          26,
          28,
          28,
          52,
          52,
          23,
          31,
          26,
          30,
          28,
          28,
          15,
          15,
          15,
          31,
          18,
          18,
          34,
          34,
          38,
          38,
          26,
          44,
          21,
          22,
          29,
          22,
          26,
          30,
          30,
          19,
          28,
          28,
          22,
          22,
          26,
          29,
          20,
          24,
          23,
          23,
          23,
          23,
          23,
          23,
          23,
          23,
          27,
          27,
          27,
          27,
          34,
          34,
          25,
          24,
          24,
          24,
          24,
          24,
          24,
          24,
          24,
          20,
          19,
          19,
          19,
          19,
          23,
          21,
          25,
          27,
          31,
          21,
          26,
          26,
          24,
          20,
          20,
          20,
          20,
          20,
          20,
          20,
          29,
          29,
          29,
          29,
          29,
          29,
          24,
          27,
          31,
          17,
          21,
          25,
          25,
          30,
          23,
          27,
          31,
          29,
          33,
          30,
          19,
          27,
          31,
          30,
          26,
          30,
          27,
          27,
          22,
          25,
          25,
          53,
          24,
          24,
          21,
          31,
          31,
          35,
          39,
          43,
          43,
          47,
          47,
          51,
          51,
          25,
          32,
          null,
          24,
          28,
          17,
          25,
          26,
          26,
          31,
          31,
          35,
          23,
          23,
          22,
          18,
          23,
          16,
          16,
          16,
          20,
          20,
          20,
          25,
          25,
          29,
          29,
          17,
          17,
          51,
          24,
          29,
          17,
          52,
          21,
          20,
          28,
          25,
          29,
          16,
          16,
          16,
          23,
          23,
          23,
          23,
          21,
          21,
          27,
          31,
          27,
          24,
          18,
          22,
          26,
          26,
          20,
          20,
          20,
          29,
          21,
          null,
          23,
          24,
          16,
          22,
          26,
          30,
          26,
          24,
          24,
          27,
          27,
          26,
          30,
          40,
          28,
          33,
          21,
          22,
          26,
          36,
          23,
          16,
          23,
          27,
          27,
          31,
          31,
          33,
          33,
          20,
          29,
          20,
          24,
          32,
          26,
          30,
          27,
          24,
          22,
          31,
          20,
          20,
          24,
          24,
          28,
          28,
          32,
          32,
          36,
          36,
          22,
          22,
          22,
          26,
          26,
          30,
          34,
          34,
          38,
          38,
          21,
          21,
          25,
          23,
          26,
          21,
          30,
          22,
          22,
          24,
          24,
          36,
          36,
          40,
          16,
          16,
          24,
          33,
          33,
          21,
          null,
          25,
          25,
          29,
          33,
          37,
          28,
          28,
          27,
          25,
          25,
          27,
          26,
          20,
          20,
          24,
          24,
          30,
          30,
          30,
          29,
          29,
          29,
          27,
          22,
          26,
          24,
          28,
          32,
          24,
          27,
          31,
          29,
          24,
          31,
          15,
          15,
          15,
          15,
          15,
          31,
          31,
          21,
          29,
          29,
          29,
          29,
          27,
          27,
          23,
          27,
          31,
          25,
          25,
          25,
          25,
          25,
          25,
          25,
          25,
          29,
          29,
          29,
          29,
          29,
          29,
          29,
          29,
          34,
          34,
          34,
          34,
          34,
          34,
          34,
          21,
          23,
          25,
          20,
          20,
          19,
          19,
          19,
          18,
          25,
          29,
          24,
          27,
          19,
          19,
          20,
          20,
          24,
          34,
          23,
          27,
          20,
          20,
          20,
          null,
          19,
          19,
          19,
          19,
          19,
          19,
          23,
          23,
          23,
          23,
          27,
          27,
          27,
          18,
          26,
          21,
          25,
          23,
          null,
          null,
          28,
          26,
          26,
          25,
          24,
          22,
          22,
          24,
          28,
          24,
          null,
          22,
          25,
          31,
          32,
          18,
          18,
          21,
          58,
          58,
          38,
          38,
          21,
          25,
          27,
          27,
          27,
          27,
          27,
          27,
          27,
          27,
          31,
          53,
          29,
          25,
          45,
          49,
          49,
          24,
          20,
          20,
          20,
          21,
          17,
          17,
          20,
          22,
          26,
          25,
          22,
          30,
          25,
          29,
          26,
          26,
          31,
          21,
          29,
          19,
          19,
          19,
          19,
          19,
          19,
          19,
          19,
          24,
          28,
          19,
          23,
          30,
          22,
          23,
          40,
          29,
          21,
          21,
          23,
          25,
          27,
          19,
          33,
          33,
          26,
          26,
          29,
          23,
          27,
          27,
          22,
          null,
          17,
          18,
          22,
          22,
          22,
          34,
          20,
          20,
          30,
          47,
          24,
          24,
          null,
          null,
          null,
          null,
          null,
          null,
          null,
          null,
          32,
          24,
          18,
          22,
          22,
          null,
          25,
          29,
          16,
          16,
          16,
          21,
          25,
          29,
          20,
          26,
          30,
          null,
          18,
          22,
          22,
          26,
          26,
          23,
          27,
          23,
          23,
          21,
          null,
          null,
          23,
          23,
          26,
          26,
          21,
          23,
          27,
          29,
          41,
          41,
          28,
          21,
          28,
          22,
          22,
          26,
          26,
          25,
          23,
          23,
          null,
          19,
          25,
          22,
          22,
          34,
          29,
          22,
          22,
          36,
          36,
          36,
          36,
          31,
          35,
          null,
          26,
          30,
          26,
          18,
          18,
          20,
          24,
          null,
          null,
          26,
          30,
          24,
          24,
          20,
          20,
          26,
          28,
          30,
          56,
          null,
          null,
          null,
          null,
          null,
          null,
          null,
          null,
          25,
          31,
          22,
          22,
          30,
          30,
          29,
          30,
          34,
          38,
          27,
          22,
          26,
          30,
          23,
          14,
          25,
          29,
          30,
          26,
          31,
          31,
          31,
          23,
          20,
          16,
          20,
          20,
          20,
          24,
          24,
          23,
          23,
          27,
          22,
          18,
          null,
          null,
          32,
          36,
          40,
          24,
          null,
          null,
          null,
          null,
          null,
          null,
          null,
          26,
          19,
          null,
          null,
          44,
          19,
          19,
          23,
          23,
          27,
          31,
          31,
          31,
          null,
          17,
          25,
          null,
          22,
          26,
          26,
          26,
          26,
          29,
          27,
          32,
          26,
          20,
          59,
          61,
          61,
          null,
          20,
          20,
          24,
          24,
          24,
          27,
          27,
          21,
          23,
          23,
          25,
          null,
          19,
          19,
          null,
          null,
          null,
          null,
          26,
          30,
          33,
          27,
          27,
          27,
          23,
          27,
          27,
          30,
          34,
          26,
          30,
          22,
          33,
          37,
          34,
          34,
          38,
          20,
          25,
          31,
          24,
          27,
          31,
          22,
          17,
          17,
          21,
          null,
          25,
          null,
          28,
          20,
          27,
          22,
          22,
          21,
          33,
          21,
          21,
          21,
          19,
          26,
          34,
          null,
          22,
          27,
          26,
          28,
          28,
          28,
          28,
          28,
          28,
          28,
          28,
          32,
          32,
          32,
          32,
          32,
          32,
          32,
          32,
          54,
          26,
          21,
          25,
          23,
          23,
          35,
          39,
          26,
          39,
          23,
          27,
          42,
          42,
          47,
          47,
          21,
          21,
          21,
          21,
          26,
          26,
          28,
          28,
          28,
          32,
          32,
          32,
          23,
          21,
          21,
          20,
          24,
          28,
          32,
          22,
          23,
          27,
          23,
          15,
          19,
          19,
          23,
          54,
          19,
          19,
          22,
          26,
          26,
          26,
          21,
          null,
          23,
          23,
          27,
          27,
          31,
          22,
          26,
          24,
          34,
          23,
          25,
          null,
          null,
          27,
          29,
          null,
          25,
          null,
          28,
          19,
          19,
          27,
          28,
          23,
          38,
          41,
          46,
          56,
          25,
          25,
          21,
          21,
          16,
          16,
          16,
          16,
          20,
          20,
          20,
          20,
          20,
          18,
          18,
          22,
          22,
          22,
          23,
          23,
          27,
          43,
          43,
          47,
          47,
          55,
          55,
          28,
          28,
          36,
          36,
          40,
          40,
          45,
          45,
          53,
          60,
          60,
          22,
          26,
          26,
          24,
          24,
          32,
          32,
          36,
          36,
          40,
          40,
          56,
          56,
          19,
          23,
          27,
          null,
          18,
          29,
          30,
          30,
          17,
          25,
          29,
          33,
          29,
          19,
          19,
          22,
          26,
          30,
          23,
          null,
          28,
          24,
          28,
          40,
          28,
          32,
          null,
          30,
          34,
          20,
          48,
          48,
          52,
          52,
          39,
          20,
          20,
          null,
          22,
          29,
          27,
          null,
          31,
          23,
          25,
          25,
          24,
          28,
          21,
          25,
          25,
          28,
          28,
          20,
          19,
          19,
          19,
          19,
          19,
          19,
          19,
          28,
          28,
          28,
          28,
          28,
          28,
          28,
          28,
          null,
          22,
          26,
          24,
          32,
          48,
          27,
          19,
          19,
          19,
          19,
          19,
          23,
          23,
          23,
          23,
          23,
          23,
          23,
          37,
          41,
          44,
          44,
          21,
          26,
          25,
          25,
          17,
          23,
          null,
          null,
          null,
          null,
          24,
          24,
          26,
          26,
          30,
          31,
          56,
          56,
          22,
          26,
          30,
          21,
          21,
          26,
          30,
          21,
          25,
          30,
          20,
          20,
          20,
          24,
          24,
          24,
          28,
          28,
          28,
          32,
          32,
          36,
          22,
          26,
          25,
          24,
          24,
          24,
          24,
          24,
          24,
          24,
          28,
          28,
          28,
          28,
          28,
          28,
          28,
          null,
          null,
          null,
          28,
          20,
          18,
          18,
          18,
          18,
          22,
          22,
          22,
          22,
          22,
          35,
          20,
          16,
          20,
          20,
          29,
          33,
          15,
          49,
          69,
          69,
          69,
          null,
          null,
          72,
          null,
          30,
          28,
          16,
          16,
          16,
          16,
          16,
          16,
          22,
          26,
          19,
          19,
          24,
          22,
          26,
          27,
          26,
          25,
          33,
          25,
          29,
          29,
          15,
          41,
          20,
          28,
          28,
          24,
          30,
          30,
          23,
          25,
          29,
          22,
          25,
          19,
          17,
          17,
          17,
          17,
          17,
          17,
          28,
          null,
          24,
          24,
          25,
          29,
          33,
          21,
          20,
          20,
          20,
          24,
          22,
          null,
          null,
          20,
          20,
          20,
          20,
          20,
          20,
          19,
          19,
          61,
          65,
          26,
          20,
          24,
          29,
          28,
          27,
          24,
          24,
          21,
          23,
          28,
          32,
          16,
          16,
          16,
          16,
          24,
          20,
          20,
          24,
          28,
          32,
          32,
          36,
          36,
          40,
          40,
          21,
          22,
          22,
          16,
          16,
          21,
          25,
          30,
          19,
          19,
          19,
          19,
          19,
          19,
          null,
          20,
          19,
          23,
          23,
          21,
          15,
          15,
          15,
          15,
          15,
          20,
          20,
          43,
          22,
          49,
          49,
          49,
          53,
          27,
          27,
          30,
          30,
          29,
          33,
          25,
          25,
          18,
          24,
          28,
          25,
          25,
          29,
          null,
          null,
          19,
          19,
          19,
          22,
          22,
          21,
          22,
          25,
          25,
          null,
          null,
          32,
          20,
          28,
          null,
          23,
          23,
          23,
          33,
          21,
          33,
          28,
          28,
          28,
          null,
          35,
          35,
          26,
          43,
          19,
          28,
          32,
          23,
          23,
          35,
          35,
          20,
          20,
          20,
          20,
          20,
          20,
          20,
          25,
          26,
          36,
          32,
          22,
          23,
          21,
          22,
          22,
          22,
          22,
          22,
          22,
          22,
          26,
          26,
          26,
          26,
          26,
          26,
          26,
          23,
          null,
          null,
          43,
          24,
          43,
          43,
          21,
          21,
          22,
          22,
          22,
          22,
          22,
          22,
          22,
          26,
          26,
          26,
          26,
          26,
          26,
          26,
          26,
          37,
          26,
          30,
          34,
          20,
          20,
          26,
          28,
          16,
          16,
          16,
          16,
          31,
          24,
          26,
          22,
          29,
          33,
          null,
          26,
          26,
          32,
          21,
          29,
          39,
          null,
          23,
          24,
          36,
          24,
          25,
          17,
          33,
          20,
          20,
          24,
          28,
          28,
          43,
          19,
          null,
          null,
          25,
          23,
          null,
          27,
          27,
          27,
          31,
          31,
          31,
          24,
          28,
          26,
          null,
          null,
          18,
          26,
          26,
          34,
          34,
          22,
          26,
          21,
          33,
          20,
          19,
          28,
          33,
          24,
          18,
          18,
          18,
          18,
          18,
          null,
          25,
          25,
          27,
          27,
          27,
          24,
          32,
          36,
          21,
          28,
          32,
          27,
          35,
          27,
          27,
          27,
          31,
          31,
          23,
          21,
          22,
          26,
          24,
          24,
          22,
          20,
          21,
          28,
          17,
          21,
          21,
          25,
          25,
          29,
          34,
          27,
          30,
          27,
          31,
          35,
          27,
          26,
          19,
          20,
          28,
          31,
          23,
          21,
          25,
          null,
          31,
          23,
          23,
          27,
          27,
          27,
          27,
          16,
          21,
          21,
          25,
          23,
          27,
          null,
          28,
          32,
          23,
          27,
          22,
          20,
          24,
          26,
          26,
          26,
          30,
          30,
          23,
          19,
          26,
          34,
          38,
          28,
          32,
          19,
          19,
          25,
          22,
          27,
          23,
          21,
          17,
          23,
          20,
          20,
          31,
          29,
          33,
          31,
          31,
          31,
          40,
          22,
          22,
          26,
          26,
          25,
          29,
          17,
          17,
          17,
          21,
          21,
          21,
          22,
          null,
          18,
          18,
          18,
          18,
          18,
          18,
          27,
          24,
          25,
          25,
          21,
          33,
          33,
          24,
          24,
          null,
          46,
          46,
          46,
          46,
          46,
          46,
          49,
          49,
          25
         ],
         "xaxis": "x",
         "yaxis": "y"
        }
       ],
       "layout": {
        "barmode": "relative",
        "legend": {
         "tracegroupgap": 0
        },
        "template": {
         "data": {
          "bar": [
           {
            "error_x": {
             "color": "#2a3f5f"
            },
            "error_y": {
             "color": "#2a3f5f"
            },
            "marker": {
             "line": {
              "color": "#E5ECF6",
              "width": 0.5
             },
             "pattern": {
              "fillmode": "overlay",
              "size": 10,
              "solidity": 0.2
             }
            },
            "type": "bar"
           }
          ],
          "barpolar": [
           {
            "marker": {
             "line": {
              "color": "#E5ECF6",
              "width": 0.5
             },
             "pattern": {
              "fillmode": "overlay",
              "size": 10,
              "solidity": 0.2
             }
            },
            "type": "barpolar"
           }
          ],
          "carpet": [
           {
            "aaxis": {
             "endlinecolor": "#2a3f5f",
             "gridcolor": "white",
             "linecolor": "white",
             "minorgridcolor": "white",
             "startlinecolor": "#2a3f5f"
            },
            "baxis": {
             "endlinecolor": "#2a3f5f",
             "gridcolor": "white",
             "linecolor": "white",
             "minorgridcolor": "white",
             "startlinecolor": "#2a3f5f"
            },
            "type": "carpet"
           }
          ],
          "choropleth": [
           {
            "colorbar": {
             "outlinewidth": 0,
             "ticks": ""
            },
            "type": "choropleth"
           }
          ],
          "contour": [
           {
            "colorbar": {
             "outlinewidth": 0,
             "ticks": ""
            },
            "colorscale": [
             [
              0,
              "#0d0887"
             ],
             [
              0.1111111111111111,
              "#46039f"
             ],
             [
              0.2222222222222222,
              "#7201a8"
             ],
             [
              0.3333333333333333,
              "#9c179e"
             ],
             [
              0.4444444444444444,
              "#bd3786"
             ],
             [
              0.5555555555555556,
              "#d8576b"
             ],
             [
              0.6666666666666666,
              "#ed7953"
             ],
             [
              0.7777777777777778,
              "#fb9f3a"
             ],
             [
              0.8888888888888888,
              "#fdca26"
             ],
             [
              1,
              "#f0f921"
             ]
            ],
            "type": "contour"
           }
          ],
          "contourcarpet": [
           {
            "colorbar": {
             "outlinewidth": 0,
             "ticks": ""
            },
            "type": "contourcarpet"
           }
          ],
          "heatmap": [
           {
            "colorbar": {
             "outlinewidth": 0,
             "ticks": ""
            },
            "colorscale": [
             [
              0,
              "#0d0887"
             ],
             [
              0.1111111111111111,
              "#46039f"
             ],
             [
              0.2222222222222222,
              "#7201a8"
             ],
             [
              0.3333333333333333,
              "#9c179e"
             ],
             [
              0.4444444444444444,
              "#bd3786"
             ],
             [
              0.5555555555555556,
              "#d8576b"
             ],
             [
              0.6666666666666666,
              "#ed7953"
             ],
             [
              0.7777777777777778,
              "#fb9f3a"
             ],
             [
              0.8888888888888888,
              "#fdca26"
             ],
             [
              1,
              "#f0f921"
             ]
            ],
            "type": "heatmap"
           }
          ],
          "heatmapgl": [
           {
            "colorbar": {
             "outlinewidth": 0,
             "ticks": ""
            },
            "colorscale": [
             [
              0,
              "#0d0887"
             ],
             [
              0.1111111111111111,
              "#46039f"
             ],
             [
              0.2222222222222222,
              "#7201a8"
             ],
             [
              0.3333333333333333,
              "#9c179e"
             ],
             [
              0.4444444444444444,
              "#bd3786"
             ],
             [
              0.5555555555555556,
              "#d8576b"
             ],
             [
              0.6666666666666666,
              "#ed7953"
             ],
             [
              0.7777777777777778,
              "#fb9f3a"
             ],
             [
              0.8888888888888888,
              "#fdca26"
             ],
             [
              1,
              "#f0f921"
             ]
            ],
            "type": "heatmapgl"
           }
          ],
          "histogram": [
           {
            "marker": {
             "pattern": {
              "fillmode": "overlay",
              "size": 10,
              "solidity": 0.2
             }
            },
            "type": "histogram"
           }
          ],
          "histogram2d": [
           {
            "colorbar": {
             "outlinewidth": 0,
             "ticks": ""
            },
            "colorscale": [
             [
              0,
              "#0d0887"
             ],
             [
              0.1111111111111111,
              "#46039f"
             ],
             [
              0.2222222222222222,
              "#7201a8"
             ],
             [
              0.3333333333333333,
              "#9c179e"
             ],
             [
              0.4444444444444444,
              "#bd3786"
             ],
             [
              0.5555555555555556,
              "#d8576b"
             ],
             [
              0.6666666666666666,
              "#ed7953"
             ],
             [
              0.7777777777777778,
              "#fb9f3a"
             ],
             [
              0.8888888888888888,
              "#fdca26"
             ],
             [
              1,
              "#f0f921"
             ]
            ],
            "type": "histogram2d"
           }
          ],
          "histogram2dcontour": [
           {
            "colorbar": {
             "outlinewidth": 0,
             "ticks": ""
            },
            "colorscale": [
             [
              0,
              "#0d0887"
             ],
             [
              0.1111111111111111,
              "#46039f"
             ],
             [
              0.2222222222222222,
              "#7201a8"
             ],
             [
              0.3333333333333333,
              "#9c179e"
             ],
             [
              0.4444444444444444,
              "#bd3786"
             ],
             [
              0.5555555555555556,
              "#d8576b"
             ],
             [
              0.6666666666666666,
              "#ed7953"
             ],
             [
              0.7777777777777778,
              "#fb9f3a"
             ],
             [
              0.8888888888888888,
              "#fdca26"
             ],
             [
              1,
              "#f0f921"
             ]
            ],
            "type": "histogram2dcontour"
           }
          ],
          "mesh3d": [
           {
            "colorbar": {
             "outlinewidth": 0,
             "ticks": ""
            },
            "type": "mesh3d"
           }
          ],
          "parcoords": [
           {
            "line": {
             "colorbar": {
              "outlinewidth": 0,
              "ticks": ""
             }
            },
            "type": "parcoords"
           }
          ],
          "pie": [
           {
            "automargin": true,
            "type": "pie"
           }
          ],
          "scatter": [
           {
            "fillpattern": {
             "fillmode": "overlay",
             "size": 10,
             "solidity": 0.2
            },
            "type": "scatter"
           }
          ],
          "scatter3d": [
           {
            "line": {
             "colorbar": {
              "outlinewidth": 0,
              "ticks": ""
             }
            },
            "marker": {
             "colorbar": {
              "outlinewidth": 0,
              "ticks": ""
             }
            },
            "type": "scatter3d"
           }
          ],
          "scattercarpet": [
           {
            "marker": {
             "colorbar": {
              "outlinewidth": 0,
              "ticks": ""
             }
            },
            "type": "scattercarpet"
           }
          ],
          "scattergeo": [
           {
            "marker": {
             "colorbar": {
              "outlinewidth": 0,
              "ticks": ""
             }
            },
            "type": "scattergeo"
           }
          ],
          "scattergl": [
           {
            "marker": {
             "colorbar": {
              "outlinewidth": 0,
              "ticks": ""
             }
            },
            "type": "scattergl"
           }
          ],
          "scattermapbox": [
           {
            "marker": {
             "colorbar": {
              "outlinewidth": 0,
              "ticks": ""
             }
            },
            "type": "scattermapbox"
           }
          ],
          "scatterpolar": [
           {
            "marker": {
             "colorbar": {
              "outlinewidth": 0,
              "ticks": ""
             }
            },
            "type": "scatterpolar"
           }
          ],
          "scatterpolargl": [
           {
            "marker": {
             "colorbar": {
              "outlinewidth": 0,
              "ticks": ""
             }
            },
            "type": "scatterpolargl"
           }
          ],
          "scatterternary": [
           {
            "marker": {
             "colorbar": {
              "outlinewidth": 0,
              "ticks": ""
             }
            },
            "type": "scatterternary"
           }
          ],
          "surface": [
           {
            "colorbar": {
             "outlinewidth": 0,
             "ticks": ""
            },
            "colorscale": [
             [
              0,
              "#0d0887"
             ],
             [
              0.1111111111111111,
              "#46039f"
             ],
             [
              0.2222222222222222,
              "#7201a8"
             ],
             [
              0.3333333333333333,
              "#9c179e"
             ],
             [
              0.4444444444444444,
              "#bd3786"
             ],
             [
              0.5555555555555556,
              "#d8576b"
             ],
             [
              0.6666666666666666,
              "#ed7953"
             ],
             [
              0.7777777777777778,
              "#fb9f3a"
             ],
             [
              0.8888888888888888,
              "#fdca26"
             ],
             [
              1,
              "#f0f921"
             ]
            ],
            "type": "surface"
           }
          ],
          "table": [
           {
            "cells": {
             "fill": {
              "color": "#EBF0F8"
             },
             "line": {
              "color": "white"
             }
            },
            "header": {
             "fill": {
              "color": "#C8D4E3"
             },
             "line": {
              "color": "white"
             }
            },
            "type": "table"
           }
          ]
         },
         "layout": {
          "annotationdefaults": {
           "arrowcolor": "#2a3f5f",
           "arrowhead": 0,
           "arrowwidth": 1
          },
          "autotypenumbers": "strict",
          "coloraxis": {
           "colorbar": {
            "outlinewidth": 0,
            "ticks": ""
           }
          },
          "colorscale": {
           "diverging": [
            [
             0,
             "#8e0152"
            ],
            [
             0.1,
             "#c51b7d"
            ],
            [
             0.2,
             "#de77ae"
            ],
            [
             0.3,
             "#f1b6da"
            ],
            [
             0.4,
             "#fde0ef"
            ],
            [
             0.5,
             "#f7f7f7"
            ],
            [
             0.6,
             "#e6f5d0"
            ],
            [
             0.7,
             "#b8e186"
            ],
            [
             0.8,
             "#7fbc41"
            ],
            [
             0.9,
             "#4d9221"
            ],
            [
             1,
             "#276419"
            ]
           ],
           "sequential": [
            [
             0,
             "#0d0887"
            ],
            [
             0.1111111111111111,
             "#46039f"
            ],
            [
             0.2222222222222222,
             "#7201a8"
            ],
            [
             0.3333333333333333,
             "#9c179e"
            ],
            [
             0.4444444444444444,
             "#bd3786"
            ],
            [
             0.5555555555555556,
             "#d8576b"
            ],
            [
             0.6666666666666666,
             "#ed7953"
            ],
            [
             0.7777777777777778,
             "#fb9f3a"
            ],
            [
             0.8888888888888888,
             "#fdca26"
            ],
            [
             1,
             "#f0f921"
            ]
           ],
           "sequentialminus": [
            [
             0,
             "#0d0887"
            ],
            [
             0.1111111111111111,
             "#46039f"
            ],
            [
             0.2222222222222222,
             "#7201a8"
            ],
            [
             0.3333333333333333,
             "#9c179e"
            ],
            [
             0.4444444444444444,
             "#bd3786"
            ],
            [
             0.5555555555555556,
             "#d8576b"
            ],
            [
             0.6666666666666666,
             "#ed7953"
            ],
            [
             0.7777777777777778,
             "#fb9f3a"
            ],
            [
             0.8888888888888888,
             "#fdca26"
            ],
            [
             1,
             "#f0f921"
            ]
           ]
          },
          "colorway": [
           "#636efa",
           "#EF553B",
           "#00cc96",
           "#ab63fa",
           "#FFA15A",
           "#19d3f3",
           "#FF6692",
           "#B6E880",
           "#FF97FF",
           "#FECB52"
          ],
          "font": {
           "color": "#2a3f5f"
          },
          "geo": {
           "bgcolor": "white",
           "lakecolor": "white",
           "landcolor": "#E5ECF6",
           "showlakes": true,
           "showland": true,
           "subunitcolor": "white"
          },
          "hoverlabel": {
           "align": "left"
          },
          "hovermode": "closest",
          "mapbox": {
           "style": "light"
          },
          "paper_bgcolor": "white",
          "plot_bgcolor": "#E5ECF6",
          "polar": {
           "angularaxis": {
            "gridcolor": "white",
            "linecolor": "white",
            "ticks": ""
           },
           "bgcolor": "#E5ECF6",
           "radialaxis": {
            "gridcolor": "white",
            "linecolor": "white",
            "ticks": ""
           }
          },
          "scene": {
           "xaxis": {
            "backgroundcolor": "#E5ECF6",
            "gridcolor": "white",
            "gridwidth": 2,
            "linecolor": "white",
            "showbackground": true,
            "ticks": "",
            "zerolinecolor": "white"
           },
           "yaxis": {
            "backgroundcolor": "#E5ECF6",
            "gridcolor": "white",
            "gridwidth": 2,
            "linecolor": "white",
            "showbackground": true,
            "ticks": "",
            "zerolinecolor": "white"
           },
           "zaxis": {
            "backgroundcolor": "#E5ECF6",
            "gridcolor": "white",
            "gridwidth": 2,
            "linecolor": "white",
            "showbackground": true,
            "ticks": "",
            "zerolinecolor": "white"
           }
          },
          "shapedefaults": {
           "line": {
            "color": "#2a3f5f"
           }
          },
          "ternary": {
           "aaxis": {
            "gridcolor": "white",
            "linecolor": "white",
            "ticks": ""
           },
           "baxis": {
            "gridcolor": "white",
            "linecolor": "white",
            "ticks": ""
           },
           "bgcolor": "#E5ECF6",
           "caxis": {
            "gridcolor": "white",
            "linecolor": "white",
            "ticks": ""
           }
          },
          "title": {
           "x": 0.05
          },
          "xaxis": {
           "automargin": true,
           "gridcolor": "white",
           "linecolor": "white",
           "ticks": "",
           "title": {
            "standoff": 15
           },
           "zerolinecolor": "white",
           "zerolinewidth": 2
          },
          "yaxis": {
           "automargin": true,
           "gridcolor": "white",
           "linecolor": "white",
           "ticks": "",
           "title": {
            "standoff": 15
           },
           "zerolinecolor": "white",
           "zerolinewidth": 2
          }
         }
        },
        "title": {
         "text": "OS-GBR: Participants Ages"
        },
        "xaxis": {
         "anchor": "y",
         "domain": [
          0,
          1
         ],
         "title": {
          "text": "Age Bracket"
         }
        },
        "yaxis": {
         "anchor": "x",
         "domain": [
          0,
          1
         ],
         "title": {
          "text": "Number of Individuals"
         }
        }
       }
      }
     },
     "metadata": {},
     "output_type": "display_data"
    }
   ],
   "source": [
    "print(f\"Oldest participant =\", df_gbr[\"Age\"].max())\n",
    "print(f\"Youngest participant =\", df_gbr[\"Age\"].min())\n",
    "print(f\"Rounding the age difference to divide ages in group aka bins =\", round(84/11,0))\n",
    "print(\"Each histogram represent groups of 9.125 years, example 11-20, 21-30 and so on\")\n",
    "\n",
    "# https://plotly.com/python/histograms/\n",
    "fig = px.histogram(\n",
    "    df_gbr,\n",
    "    x=\"Age\",\n",
    "    nbins=8,\n",
    "    title=\"OS-GBR: Participants Ages\",\n",
    "    labels={\"Age\": \"Age Bracket\", \"Count\" : \"Number of Individuals\"}\n",
    ")\n",
    "\n",
    "fig.update_layout(\n",
    "    yaxis_title=\"Number of Individuals\",\n",
    ")\n",
    "\n",
    "fig.show()"
   ]
  },
  {
   "cell_type": "markdown",
   "metadata": {},
   "source": [
    "## Uppgift 2 \n",
    "### Sportstatistik\n",
    "\n",
    "Välj 2-4 sporter och skapa lämpliga grafer/diagram för att visualisera exempelvis:\n",
    "- medaljfördelning mellan länder i sporterna"
   ]
  },
  {
   "cell_type": "code",
   "execution_count": null,
   "metadata": {},
   "outputs": [
    {
     "data": {
      "application/vnd.plotly.v1+json": {
       "config": {
        "plotlyServerURL": "https://plot.ly"
       },
       "data": [
        {
         "alignmentgroup": "True",
         "hovertemplate": "Medal=Gold<br>Country=%{x}<br>Number of Medals=%{y}<extra></extra>",
         "legendgroup": "Gold",
         "marker": {
          "color": "gold",
          "pattern": {
           "shape": ""
          }
         },
         "name": "Gold",
         "offsetgroup": "Gold",
         "orientation": "v",
         "showlegend": true,
         "textposition": "auto",
         "type": "bar",
         "x": [
          "ARG",
          "BEL",
          "BRA",
          "CAN",
          "CMR",
          "DEN",
          "ESP",
          "FRA",
          "GBR",
          "GDR",
          "GER",
          "HUN",
          "ITA",
          "MEX",
          "NGR",
          "NOR",
          "POL",
          "SWE",
          "TCH",
          "URS",
          "URU",
          "USA",
          "YUG"
         ],
         "xaxis": "x",
         "y": [
          34,
          14,
          17,
          13,
          18,
          12,
          17,
          16,
          36,
          17,
          18,
          46,
          14,
          16,
          16,
          17,
          17,
          12,
          16,
          36,
          31,
          66,
          16
         ],
         "yaxis": "y"
        },
        {
         "alignmentgroup": "True",
         "hovertemplate": "Medal=Silver<br>Country=%{x}<br>Number of Medals=%{y}<extra></extra>",
         "legendgroup": "Silver",
         "marker": {
          "color": "silver",
          "pattern": {
           "shape": ""
          }
         },
         "name": "Silver",
         "offsetgroup": "Silver",
         "orientation": "v",
         "showlegend": true,
         "textposition": "auto",
         "type": "bar",
         "x": [
          "ARG",
          "AUT",
          "BRA",
          "BUL",
          "CHN",
          "DEN",
          "ESP",
          "FRA",
          "GBR",
          "GDR",
          "GER",
          "HUN",
          "JPN",
          "NGR",
          "PAR",
          "POL",
          "SUI",
          "SWE",
          "TCH",
          "USA",
          "YUG"
         ],
         "xaxis": "x",
         "y": [
          34,
          13,
          85,
          18,
          15,
          40,
          35,
          16,
          8,
          17,
          17,
          17,
          18,
          16,
          17,
          33,
          15,
          18,
          17,
          24,
          40
         ],
         "yaxis": "y"
        },
        {
         "alignmentgroup": "True",
         "hovertemplate": "Medal=Bronze<br>Country=%{x}<br>Number of Medals=%{y}<extra></extra>",
         "legendgroup": "Bronze",
         "marker": {
          "color": "tan",
          "pattern": {
           "shape": ""
          }
         },
         "name": "Bronze",
         "offsetgroup": "Bronze",
         "orientation": "v",
         "showlegend": true,
         "textposition": "auto",
         "type": "bar",
         "x": [
          "BEL",
          "BRA",
          "BUL",
          "CAN",
          "CHI",
          "DEN",
          "FRG",
          "GBR",
          "GDR",
          "GER",
          "GHA",
          "GRE",
          "HUN",
          "ITA",
          "JPN",
          "KOR",
          "NED",
          "NGR",
          "NOR",
          "SWE",
          "URS",
          "USA",
          "YUG"
         ],
         "xaxis": "x",
         "y": [
          9,
          34,
          14,
          36,
          17,
          13,
          18,
          1,
          17,
          69,
          20,
          11,
          16,
          34,
          16,
          18,
          42,
          18,
          30,
          30,
          51,
          12,
          17
         ],
         "yaxis": "y"
        }
       ],
       "layout": {
        "barmode": "relative",
        "legend": {
         "title": {
          "text": "Medal"
         },
         "tracegroupgap": 0
        },
        "template": {
         "data": {
          "bar": [
           {
            "error_x": {
             "color": "#2a3f5f"
            },
            "error_y": {
             "color": "#2a3f5f"
            },
            "marker": {
             "line": {
              "color": "#E5ECF6",
              "width": 0.5
             },
             "pattern": {
              "fillmode": "overlay",
              "size": 10,
              "solidity": 0.2
             }
            },
            "type": "bar"
           }
          ],
          "barpolar": [
           {
            "marker": {
             "line": {
              "color": "#E5ECF6",
              "width": 0.5
             },
             "pattern": {
              "fillmode": "overlay",
              "size": 10,
              "solidity": 0.2
             }
            },
            "type": "barpolar"
           }
          ],
          "carpet": [
           {
            "aaxis": {
             "endlinecolor": "#2a3f5f",
             "gridcolor": "white",
             "linecolor": "white",
             "minorgridcolor": "white",
             "startlinecolor": "#2a3f5f"
            },
            "baxis": {
             "endlinecolor": "#2a3f5f",
             "gridcolor": "white",
             "linecolor": "white",
             "minorgridcolor": "white",
             "startlinecolor": "#2a3f5f"
            },
            "type": "carpet"
           }
          ],
          "choropleth": [
           {
            "colorbar": {
             "outlinewidth": 0,
             "ticks": ""
            },
            "type": "choropleth"
           }
          ],
          "contour": [
           {
            "colorbar": {
             "outlinewidth": 0,
             "ticks": ""
            },
            "colorscale": [
             [
              0,
              "#0d0887"
             ],
             [
              0.1111111111111111,
              "#46039f"
             ],
             [
              0.2222222222222222,
              "#7201a8"
             ],
             [
              0.3333333333333333,
              "#9c179e"
             ],
             [
              0.4444444444444444,
              "#bd3786"
             ],
             [
              0.5555555555555556,
              "#d8576b"
             ],
             [
              0.6666666666666666,
              "#ed7953"
             ],
             [
              0.7777777777777778,
              "#fb9f3a"
             ],
             [
              0.8888888888888888,
              "#fdca26"
             ],
             [
              1,
              "#f0f921"
             ]
            ],
            "type": "contour"
           }
          ],
          "contourcarpet": [
           {
            "colorbar": {
             "outlinewidth": 0,
             "ticks": ""
            },
            "type": "contourcarpet"
           }
          ],
          "heatmap": [
           {
            "colorbar": {
             "outlinewidth": 0,
             "ticks": ""
            },
            "colorscale": [
             [
              0,
              "#0d0887"
             ],
             [
              0.1111111111111111,
              "#46039f"
             ],
             [
              0.2222222222222222,
              "#7201a8"
             ],
             [
              0.3333333333333333,
              "#9c179e"
             ],
             [
              0.4444444444444444,
              "#bd3786"
             ],
             [
              0.5555555555555556,
              "#d8576b"
             ],
             [
              0.6666666666666666,
              "#ed7953"
             ],
             [
              0.7777777777777778,
              "#fb9f3a"
             ],
             [
              0.8888888888888888,
              "#fdca26"
             ],
             [
              1,
              "#f0f921"
             ]
            ],
            "type": "heatmap"
           }
          ],
          "heatmapgl": [
           {
            "colorbar": {
             "outlinewidth": 0,
             "ticks": ""
            },
            "colorscale": [
             [
              0,
              "#0d0887"
             ],
             [
              0.1111111111111111,
              "#46039f"
             ],
             [
              0.2222222222222222,
              "#7201a8"
             ],
             [
              0.3333333333333333,
              "#9c179e"
             ],
             [
              0.4444444444444444,
              "#bd3786"
             ],
             [
              0.5555555555555556,
              "#d8576b"
             ],
             [
              0.6666666666666666,
              "#ed7953"
             ],
             [
              0.7777777777777778,
              "#fb9f3a"
             ],
             [
              0.8888888888888888,
              "#fdca26"
             ],
             [
              1,
              "#f0f921"
             ]
            ],
            "type": "heatmapgl"
           }
          ],
          "histogram": [
           {
            "marker": {
             "pattern": {
              "fillmode": "overlay",
              "size": 10,
              "solidity": 0.2
             }
            },
            "type": "histogram"
           }
          ],
          "histogram2d": [
           {
            "colorbar": {
             "outlinewidth": 0,
             "ticks": ""
            },
            "colorscale": [
             [
              0,
              "#0d0887"
             ],
             [
              0.1111111111111111,
              "#46039f"
             ],
             [
              0.2222222222222222,
              "#7201a8"
             ],
             [
              0.3333333333333333,
              "#9c179e"
             ],
             [
              0.4444444444444444,
              "#bd3786"
             ],
             [
              0.5555555555555556,
              "#d8576b"
             ],
             [
              0.6666666666666666,
              "#ed7953"
             ],
             [
              0.7777777777777778,
              "#fb9f3a"
             ],
             [
              0.8888888888888888,
              "#fdca26"
             ],
             [
              1,
              "#f0f921"
             ]
            ],
            "type": "histogram2d"
           }
          ],
          "histogram2dcontour": [
           {
            "colorbar": {
             "outlinewidth": 0,
             "ticks": ""
            },
            "colorscale": [
             [
              0,
              "#0d0887"
             ],
             [
              0.1111111111111111,
              "#46039f"
             ],
             [
              0.2222222222222222,
              "#7201a8"
             ],
             [
              0.3333333333333333,
              "#9c179e"
             ],
             [
              0.4444444444444444,
              "#bd3786"
             ],
             [
              0.5555555555555556,
              "#d8576b"
             ],
             [
              0.6666666666666666,
              "#ed7953"
             ],
             [
              0.7777777777777778,
              "#fb9f3a"
             ],
             [
              0.8888888888888888,
              "#fdca26"
             ],
             [
              1,
              "#f0f921"
             ]
            ],
            "type": "histogram2dcontour"
           }
          ],
          "mesh3d": [
           {
            "colorbar": {
             "outlinewidth": 0,
             "ticks": ""
            },
            "type": "mesh3d"
           }
          ],
          "parcoords": [
           {
            "line": {
             "colorbar": {
              "outlinewidth": 0,
              "ticks": ""
             }
            },
            "type": "parcoords"
           }
          ],
          "pie": [
           {
            "automargin": true,
            "type": "pie"
           }
          ],
          "scatter": [
           {
            "fillpattern": {
             "fillmode": "overlay",
             "size": 10,
             "solidity": 0.2
            },
            "type": "scatter"
           }
          ],
          "scatter3d": [
           {
            "line": {
             "colorbar": {
              "outlinewidth": 0,
              "ticks": ""
             }
            },
            "marker": {
             "colorbar": {
              "outlinewidth": 0,
              "ticks": ""
             }
            },
            "type": "scatter3d"
           }
          ],
          "scattercarpet": [
           {
            "marker": {
             "colorbar": {
              "outlinewidth": 0,
              "ticks": ""
             }
            },
            "type": "scattercarpet"
           }
          ],
          "scattergeo": [
           {
            "marker": {
             "colorbar": {
              "outlinewidth": 0,
              "ticks": ""
             }
            },
            "type": "scattergeo"
           }
          ],
          "scattergl": [
           {
            "marker": {
             "colorbar": {
              "outlinewidth": 0,
              "ticks": ""
             }
            },
            "type": "scattergl"
           }
          ],
          "scattermapbox": [
           {
            "marker": {
             "colorbar": {
              "outlinewidth": 0,
              "ticks": ""
             }
            },
            "type": "scattermapbox"
           }
          ],
          "scatterpolar": [
           {
            "marker": {
             "colorbar": {
              "outlinewidth": 0,
              "ticks": ""
             }
            },
            "type": "scatterpolar"
           }
          ],
          "scatterpolargl": [
           {
            "marker": {
             "colorbar": {
              "outlinewidth": 0,
              "ticks": ""
             }
            },
            "type": "scatterpolargl"
           }
          ],
          "scatterternary": [
           {
            "marker": {
             "colorbar": {
              "outlinewidth": 0,
              "ticks": ""
             }
            },
            "type": "scatterternary"
           }
          ],
          "surface": [
           {
            "colorbar": {
             "outlinewidth": 0,
             "ticks": ""
            },
            "colorscale": [
             [
              0,
              "#0d0887"
             ],
             [
              0.1111111111111111,
              "#46039f"
             ],
             [
              0.2222222222222222,
              "#7201a8"
             ],
             [
              0.3333333333333333,
              "#9c179e"
             ],
             [
              0.4444444444444444,
              "#bd3786"
             ],
             [
              0.5555555555555556,
              "#d8576b"
             ],
             [
              0.6666666666666666,
              "#ed7953"
             ],
             [
              0.7777777777777778,
              "#fb9f3a"
             ],
             [
              0.8888888888888888,
              "#fdca26"
             ],
             [
              1,
              "#f0f921"
             ]
            ],
            "type": "surface"
           }
          ],
          "table": [
           {
            "cells": {
             "fill": {
              "color": "#EBF0F8"
             },
             "line": {
              "color": "white"
             }
            },
            "header": {
             "fill": {
              "color": "#C8D4E3"
             },
             "line": {
              "color": "white"
             }
            },
            "type": "table"
           }
          ]
         },
         "layout": {
          "annotationdefaults": {
           "arrowcolor": "#2a3f5f",
           "arrowhead": 0,
           "arrowwidth": 1
          },
          "autotypenumbers": "strict",
          "coloraxis": {
           "colorbar": {
            "outlinewidth": 0,
            "ticks": ""
           }
          },
          "colorscale": {
           "diverging": [
            [
             0,
             "#8e0152"
            ],
            [
             0.1,
             "#c51b7d"
            ],
            [
             0.2,
             "#de77ae"
            ],
            [
             0.3,
             "#f1b6da"
            ],
            [
             0.4,
             "#fde0ef"
            ],
            [
             0.5,
             "#f7f7f7"
            ],
            [
             0.6,
             "#e6f5d0"
            ],
            [
             0.7,
             "#b8e186"
            ],
            [
             0.8,
             "#7fbc41"
            ],
            [
             0.9,
             "#4d9221"
            ],
            [
             1,
             "#276419"
            ]
           ],
           "sequential": [
            [
             0,
             "#0d0887"
            ],
            [
             0.1111111111111111,
             "#46039f"
            ],
            [
             0.2222222222222222,
             "#7201a8"
            ],
            [
             0.3333333333333333,
             "#9c179e"
            ],
            [
             0.4444444444444444,
             "#bd3786"
            ],
            [
             0.5555555555555556,
             "#d8576b"
            ],
            [
             0.6666666666666666,
             "#ed7953"
            ],
            [
             0.7777777777777778,
             "#fb9f3a"
            ],
            [
             0.8888888888888888,
             "#fdca26"
            ],
            [
             1,
             "#f0f921"
            ]
           ],
           "sequentialminus": [
            [
             0,
             "#0d0887"
            ],
            [
             0.1111111111111111,
             "#46039f"
            ],
            [
             0.2222222222222222,
             "#7201a8"
            ],
            [
             0.3333333333333333,
             "#9c179e"
            ],
            [
             0.4444444444444444,
             "#bd3786"
            ],
            [
             0.5555555555555556,
             "#d8576b"
            ],
            [
             0.6666666666666666,
             "#ed7953"
            ],
            [
             0.7777777777777778,
             "#fb9f3a"
            ],
            [
             0.8888888888888888,
             "#fdca26"
            ],
            [
             1,
             "#f0f921"
            ]
           ]
          },
          "colorway": [
           "#636efa",
           "#EF553B",
           "#00cc96",
           "#ab63fa",
           "#FFA15A",
           "#19d3f3",
           "#FF6692",
           "#B6E880",
           "#FF97FF",
           "#FECB52"
          ],
          "font": {
           "color": "#2a3f5f"
          },
          "geo": {
           "bgcolor": "white",
           "lakecolor": "white",
           "landcolor": "#E5ECF6",
           "showlakes": true,
           "showland": true,
           "subunitcolor": "white"
          },
          "hoverlabel": {
           "align": "left"
          },
          "hovermode": "closest",
          "mapbox": {
           "style": "light"
          },
          "paper_bgcolor": "white",
          "plot_bgcolor": "#E5ECF6",
          "polar": {
           "angularaxis": {
            "gridcolor": "white",
            "linecolor": "white",
            "ticks": ""
           },
           "bgcolor": "#E5ECF6",
           "radialaxis": {
            "gridcolor": "white",
            "linecolor": "white",
            "ticks": ""
           }
          },
          "scene": {
           "xaxis": {
            "backgroundcolor": "#E5ECF6",
            "gridcolor": "white",
            "gridwidth": 2,
            "linecolor": "white",
            "showbackground": true,
            "ticks": "",
            "zerolinecolor": "white"
           },
           "yaxis": {
            "backgroundcolor": "#E5ECF6",
            "gridcolor": "white",
            "gridwidth": 2,
            "linecolor": "white",
            "showbackground": true,
            "ticks": "",
            "zerolinecolor": "white"
           },
           "zaxis": {
            "backgroundcolor": "#E5ECF6",
            "gridcolor": "white",
            "gridwidth": 2,
            "linecolor": "white",
            "showbackground": true,
            "ticks": "",
            "zerolinecolor": "white"
           }
          },
          "shapedefaults": {
           "line": {
            "color": "#2a3f5f"
           }
          },
          "ternary": {
           "aaxis": {
            "gridcolor": "white",
            "linecolor": "white",
            "ticks": ""
           },
           "baxis": {
            "gridcolor": "white",
            "linecolor": "white",
            "ticks": ""
           },
           "bgcolor": "#E5ECF6",
           "caxis": {
            "gridcolor": "white",
            "linecolor": "white",
            "ticks": ""
           }
          },
          "title": {
           "x": 0.05
          },
          "xaxis": {
           "automargin": true,
           "gridcolor": "white",
           "linecolor": "white",
           "ticks": "",
           "title": {
            "standoff": 15
           },
           "zerolinecolor": "white",
           "zerolinewidth": 2
          },
          "yaxis": {
           "automargin": true,
           "gridcolor": "white",
           "linecolor": "white",
           "ticks": "",
           "title": {
            "standoff": 15
           },
           "zerolinecolor": "white",
           "zerolinewidth": 2
          }
         }
        },
        "title": {
         "text": "Countries with number of medals for Football"
        },
        "xaxis": {
         "anchor": "y",
         "domain": [
          0,
          1
         ],
         "title": {
          "text": "Country"
         }
        },
        "yaxis": {
         "anchor": "x",
         "domain": [
          0,
          1
         ],
         "title": {
          "text": "Number of Medals"
         }
        }
       }
      }
     },
     "metadata": {},
     "output_type": "display_data"
    },
    {
     "data": {
      "application/vnd.plotly.v1+json": {
       "config": {
        "plotlyServerURL": "https://plot.ly"
       },
       "data": [
        {
         "alignmentgroup": "True",
         "hovertemplate": "Medal=Bronze<br>Country=%{x}<br>Number of Medals=%{y}<extra></extra>",
         "legendgroup": "Bronze",
         "marker": {
          "color": "tan",
          "pattern": {
           "shape": ""
          }
         },
         "name": "Bronze",
         "offsetgroup": "Bronze",
         "orientation": "v",
         "showlegend": true,
         "textposition": "auto",
         "type": "bar",
         "x": [
          "ANZ",
          "ARG",
          "AUS",
          "AUT",
          "BEL",
          "BLR",
          "BRA",
          "BUL",
          "CAN",
          "CHN",
          "CRC",
          "CUB",
          "DEN",
          "ESP",
          "EUN",
          "FIN",
          "FRA",
          "FRG",
          "GBR",
          "GDR",
          "GER",
          "GRE",
          "HUN",
          "IRL",
          "ITA",
          "JPN",
          "MEX",
          "NED",
          "NOR",
          "NZL",
          "PHI",
          "POL",
          "ROU",
          "RSA",
          "RUS",
          "SUI",
          "SUR",
          "SWE",
          "TTO",
          "TUN",
          "UKR",
          "URS",
          "USA",
          "VEN",
          "ZIM"
         ],
         "xaxis": "x",
         "y": [
          3,
          1,
          121,
          9,
          2,
          1,
          15,
          1,
          65,
          23,
          2,
          1,
          9,
          4,
          5,
          3,
          34,
          39,
          55,
          29,
          80,
          2,
          26,
          1,
          17,
          56,
          1,
          36,
          1,
          3,
          2,
          2,
          4,
          12,
          14,
          1,
          1,
          35,
          1,
          1,
          1,
          60,
          175,
          1,
          1
         ],
         "yaxis": "y"
        },
        {
         "alignmentgroup": "True",
         "hovertemplate": "Medal=Gold<br>Country=%{x}<br>Number of Medals=%{y}<extra></extra>",
         "legendgroup": "Gold",
         "marker": {
          "color": "gold",
          "pattern": {
           "shape": ""
          }
         },
         "name": "Gold",
         "offsetgroup": "Gold",
         "orientation": "v",
         "showlegend": true,
         "textposition": "auto",
         "type": "bar",
         "x": [
          "ANZ",
          "ARG",
          "AUS",
          "AUT",
          "BEL",
          "BRA",
          "BUL",
          "CAN",
          "CHN",
          "CRC",
          "DEN",
          "ESP",
          "EUN",
          "FRA",
          "FRG",
          "GBR",
          "GDR",
          "GER",
          "GRE",
          "HUN",
          "IRL",
          "ITA",
          "JPN",
          "KAZ",
          "KOR",
          "LTU",
          "MEX",
          "NED",
          "NZL",
          "POL",
          "ROU",
          "RSA",
          "RUS",
          "SGP",
          "SUR",
          "SWE",
          "TUN",
          "UKR",
          "URS",
          "USA",
          "YUG",
          "ZIM"
         ],
         "xaxis": "x",
         "y": [
          5,
          1,
          118,
          2,
          1,
          1,
          1,
          8,
          13,
          1,
          3,
          2,
          11,
          13,
          3,
          23,
          62,
          17,
          1,
          36,
          3,
          5,
          28,
          1,
          1,
          1,
          1,
          30,
          2,
          1,
          3,
          9,
          5,
          1,
          1,
          9,
          2,
          4,
          18,
          649,
          1,
          2
         ],
         "yaxis": "y"
        },
        {
         "alignmentgroup": "True",
         "hovertemplate": "Medal=Silver<br>Country=%{x}<br>Number of Medals=%{y}<extra></extra>",
         "legendgroup": "Silver",
         "marker": {
          "color": "silver",
          "pattern": {
           "shape": ""
          }
         },
         "name": "Silver",
         "offsetgroup": "Silver",
         "orientation": "v",
         "showlegend": true,
         "textposition": "auto",
         "type": "bar",
         "x": [
          "ANZ",
          "ARG",
          "AUS",
          "AUT",
          "BEL",
          "BLR",
          "BRA",
          "BUL",
          "CAN",
          "CHN",
          "CRC",
          "CRO",
          "CUB",
          "DEN",
          "ESP",
          "EUN",
          "FIN",
          "FRA",
          "FRG",
          "GBR",
          "GDR",
          "GER",
          "GRE",
          "HUN",
          "ITA",
          "JPN",
          "KOR",
          "NED",
          "NOR",
          "NZL",
          "POL",
          "ROU",
          "RSA",
          "RUS",
          "SLO",
          "SRB",
          "SVK",
          "SWE",
          "UKR",
          "URS",
          "USA",
          "YUG",
          "ZIM"
         ],
         "xaxis": "x",
         "y": [
          3,
          1,
          162,
          6,
          2,
          2,
          4,
          1,
          25,
          34,
          1,
          1,
          1,
          9,
          2,
          14,
          1,
          33,
          17,
          49,
          61,
          59,
          4,
          32,
          5,
          39,
          3,
          48,
          1,
          1,
          3,
          2,
          6,
          24,
          1,
          1,
          2,
          26,
          2,
          46,
          254,
          1,
          4
         ],
         "yaxis": "y"
        }
       ],
       "layout": {
        "barmode": "relative",
        "legend": {
         "title": {
          "text": "Medal"
         },
         "tracegroupgap": 0
        },
        "template": {
         "data": {
          "bar": [
           {
            "error_x": {
             "color": "#2a3f5f"
            },
            "error_y": {
             "color": "#2a3f5f"
            },
            "marker": {
             "line": {
              "color": "#E5ECF6",
              "width": 0.5
             },
             "pattern": {
              "fillmode": "overlay",
              "size": 10,
              "solidity": 0.2
             }
            },
            "type": "bar"
           }
          ],
          "barpolar": [
           {
            "marker": {
             "line": {
              "color": "#E5ECF6",
              "width": 0.5
             },
             "pattern": {
              "fillmode": "overlay",
              "size": 10,
              "solidity": 0.2
             }
            },
            "type": "barpolar"
           }
          ],
          "carpet": [
           {
            "aaxis": {
             "endlinecolor": "#2a3f5f",
             "gridcolor": "white",
             "linecolor": "white",
             "minorgridcolor": "white",
             "startlinecolor": "#2a3f5f"
            },
            "baxis": {
             "endlinecolor": "#2a3f5f",
             "gridcolor": "white",
             "linecolor": "white",
             "minorgridcolor": "white",
             "startlinecolor": "#2a3f5f"
            },
            "type": "carpet"
           }
          ],
          "choropleth": [
           {
            "colorbar": {
             "outlinewidth": 0,
             "ticks": ""
            },
            "type": "choropleth"
           }
          ],
          "contour": [
           {
            "colorbar": {
             "outlinewidth": 0,
             "ticks": ""
            },
            "colorscale": [
             [
              0,
              "#0d0887"
             ],
             [
              0.1111111111111111,
              "#46039f"
             ],
             [
              0.2222222222222222,
              "#7201a8"
             ],
             [
              0.3333333333333333,
              "#9c179e"
             ],
             [
              0.4444444444444444,
              "#bd3786"
             ],
             [
              0.5555555555555556,
              "#d8576b"
             ],
             [
              0.6666666666666666,
              "#ed7953"
             ],
             [
              0.7777777777777778,
              "#fb9f3a"
             ],
             [
              0.8888888888888888,
              "#fdca26"
             ],
             [
              1,
              "#f0f921"
             ]
            ],
            "type": "contour"
           }
          ],
          "contourcarpet": [
           {
            "colorbar": {
             "outlinewidth": 0,
             "ticks": ""
            },
            "type": "contourcarpet"
           }
          ],
          "heatmap": [
           {
            "colorbar": {
             "outlinewidth": 0,
             "ticks": ""
            },
            "colorscale": [
             [
              0,
              "#0d0887"
             ],
             [
              0.1111111111111111,
              "#46039f"
             ],
             [
              0.2222222222222222,
              "#7201a8"
             ],
             [
              0.3333333333333333,
              "#9c179e"
             ],
             [
              0.4444444444444444,
              "#bd3786"
             ],
             [
              0.5555555555555556,
              "#d8576b"
             ],
             [
              0.6666666666666666,
              "#ed7953"
             ],
             [
              0.7777777777777778,
              "#fb9f3a"
             ],
             [
              0.8888888888888888,
              "#fdca26"
             ],
             [
              1,
              "#f0f921"
             ]
            ],
            "type": "heatmap"
           }
          ],
          "heatmapgl": [
           {
            "colorbar": {
             "outlinewidth": 0,
             "ticks": ""
            },
            "colorscale": [
             [
              0,
              "#0d0887"
             ],
             [
              0.1111111111111111,
              "#46039f"
             ],
             [
              0.2222222222222222,
              "#7201a8"
             ],
             [
              0.3333333333333333,
              "#9c179e"
             ],
             [
              0.4444444444444444,
              "#bd3786"
             ],
             [
              0.5555555555555556,
              "#d8576b"
             ],
             [
              0.6666666666666666,
              "#ed7953"
             ],
             [
              0.7777777777777778,
              "#fb9f3a"
             ],
             [
              0.8888888888888888,
              "#fdca26"
             ],
             [
              1,
              "#f0f921"
             ]
            ],
            "type": "heatmapgl"
           }
          ],
          "histogram": [
           {
            "marker": {
             "pattern": {
              "fillmode": "overlay",
              "size": 10,
              "solidity": 0.2
             }
            },
            "type": "histogram"
           }
          ],
          "histogram2d": [
           {
            "colorbar": {
             "outlinewidth": 0,
             "ticks": ""
            },
            "colorscale": [
             [
              0,
              "#0d0887"
             ],
             [
              0.1111111111111111,
              "#46039f"
             ],
             [
              0.2222222222222222,
              "#7201a8"
             ],
             [
              0.3333333333333333,
              "#9c179e"
             ],
             [
              0.4444444444444444,
              "#bd3786"
             ],
             [
              0.5555555555555556,
              "#d8576b"
             ],
             [
              0.6666666666666666,
              "#ed7953"
             ],
             [
              0.7777777777777778,
              "#fb9f3a"
             ],
             [
              0.8888888888888888,
              "#fdca26"
             ],
             [
              1,
              "#f0f921"
             ]
            ],
            "type": "histogram2d"
           }
          ],
          "histogram2dcontour": [
           {
            "colorbar": {
             "outlinewidth": 0,
             "ticks": ""
            },
            "colorscale": [
             [
              0,
              "#0d0887"
             ],
             [
              0.1111111111111111,
              "#46039f"
             ],
             [
              0.2222222222222222,
              "#7201a8"
             ],
             [
              0.3333333333333333,
              "#9c179e"
             ],
             [
              0.4444444444444444,
              "#bd3786"
             ],
             [
              0.5555555555555556,
              "#d8576b"
             ],
             [
              0.6666666666666666,
              "#ed7953"
             ],
             [
              0.7777777777777778,
              "#fb9f3a"
             ],
             [
              0.8888888888888888,
              "#fdca26"
             ],
             [
              1,
              "#f0f921"
             ]
            ],
            "type": "histogram2dcontour"
           }
          ],
          "mesh3d": [
           {
            "colorbar": {
             "outlinewidth": 0,
             "ticks": ""
            },
            "type": "mesh3d"
           }
          ],
          "parcoords": [
           {
            "line": {
             "colorbar": {
              "outlinewidth": 0,
              "ticks": ""
             }
            },
            "type": "parcoords"
           }
          ],
          "pie": [
           {
            "automargin": true,
            "type": "pie"
           }
          ],
          "scatter": [
           {
            "fillpattern": {
             "fillmode": "overlay",
             "size": 10,
             "solidity": 0.2
            },
            "type": "scatter"
           }
          ],
          "scatter3d": [
           {
            "line": {
             "colorbar": {
              "outlinewidth": 0,
              "ticks": ""
             }
            },
            "marker": {
             "colorbar": {
              "outlinewidth": 0,
              "ticks": ""
             }
            },
            "type": "scatter3d"
           }
          ],
          "scattercarpet": [
           {
            "marker": {
             "colorbar": {
              "outlinewidth": 0,
              "ticks": ""
             }
            },
            "type": "scattercarpet"
           }
          ],
          "scattergeo": [
           {
            "marker": {
             "colorbar": {
              "outlinewidth": 0,
              "ticks": ""
             }
            },
            "type": "scattergeo"
           }
          ],
          "scattergl": [
           {
            "marker": {
             "colorbar": {
              "outlinewidth": 0,
              "ticks": ""
             }
            },
            "type": "scattergl"
           }
          ],
          "scattermapbox": [
           {
            "marker": {
             "colorbar": {
              "outlinewidth": 0,
              "ticks": ""
             }
            },
            "type": "scattermapbox"
           }
          ],
          "scatterpolar": [
           {
            "marker": {
             "colorbar": {
              "outlinewidth": 0,
              "ticks": ""
             }
            },
            "type": "scatterpolar"
           }
          ],
          "scatterpolargl": [
           {
            "marker": {
             "colorbar": {
              "outlinewidth": 0,
              "ticks": ""
             }
            },
            "type": "scatterpolargl"
           }
          ],
          "scatterternary": [
           {
            "marker": {
             "colorbar": {
              "outlinewidth": 0,
              "ticks": ""
             }
            },
            "type": "scatterternary"
           }
          ],
          "surface": [
           {
            "colorbar": {
             "outlinewidth": 0,
             "ticks": ""
            },
            "colorscale": [
             [
              0,
              "#0d0887"
             ],
             [
              0.1111111111111111,
              "#46039f"
             ],
             [
              0.2222222222222222,
              "#7201a8"
             ],
             [
              0.3333333333333333,
              "#9c179e"
             ],
             [
              0.4444444444444444,
              "#bd3786"
             ],
             [
              0.5555555555555556,
              "#d8576b"
             ],
             [
              0.6666666666666666,
              "#ed7953"
             ],
             [
              0.7777777777777778,
              "#fb9f3a"
             ],
             [
              0.8888888888888888,
              "#fdca26"
             ],
             [
              1,
              "#f0f921"
             ]
            ],
            "type": "surface"
           }
          ],
          "table": [
           {
            "cells": {
             "fill": {
              "color": "#EBF0F8"
             },
             "line": {
              "color": "white"
             }
            },
            "header": {
             "fill": {
              "color": "#C8D4E3"
             },
             "line": {
              "color": "white"
             }
            },
            "type": "table"
           }
          ]
         },
         "layout": {
          "annotationdefaults": {
           "arrowcolor": "#2a3f5f",
           "arrowhead": 0,
           "arrowwidth": 1
          },
          "autotypenumbers": "strict",
          "coloraxis": {
           "colorbar": {
            "outlinewidth": 0,
            "ticks": ""
           }
          },
          "colorscale": {
           "diverging": [
            [
             0,
             "#8e0152"
            ],
            [
             0.1,
             "#c51b7d"
            ],
            [
             0.2,
             "#de77ae"
            ],
            [
             0.3,
             "#f1b6da"
            ],
            [
             0.4,
             "#fde0ef"
            ],
            [
             0.5,
             "#f7f7f7"
            ],
            [
             0.6,
             "#e6f5d0"
            ],
            [
             0.7,
             "#b8e186"
            ],
            [
             0.8,
             "#7fbc41"
            ],
            [
             0.9,
             "#4d9221"
            ],
            [
             1,
             "#276419"
            ]
           ],
           "sequential": [
            [
             0,
             "#0d0887"
            ],
            [
             0.1111111111111111,
             "#46039f"
            ],
            [
             0.2222222222222222,
             "#7201a8"
            ],
            [
             0.3333333333333333,
             "#9c179e"
            ],
            [
             0.4444444444444444,
             "#bd3786"
            ],
            [
             0.5555555555555556,
             "#d8576b"
            ],
            [
             0.6666666666666666,
             "#ed7953"
            ],
            [
             0.7777777777777778,
             "#fb9f3a"
            ],
            [
             0.8888888888888888,
             "#fdca26"
            ],
            [
             1,
             "#f0f921"
            ]
           ],
           "sequentialminus": [
            [
             0,
             "#0d0887"
            ],
            [
             0.1111111111111111,
             "#46039f"
            ],
            [
             0.2222222222222222,
             "#7201a8"
            ],
            [
             0.3333333333333333,
             "#9c179e"
            ],
            [
             0.4444444444444444,
             "#bd3786"
            ],
            [
             0.5555555555555556,
             "#d8576b"
            ],
            [
             0.6666666666666666,
             "#ed7953"
            ],
            [
             0.7777777777777778,
             "#fb9f3a"
            ],
            [
             0.8888888888888888,
             "#fdca26"
            ],
            [
             1,
             "#f0f921"
            ]
           ]
          },
          "colorway": [
           "#636efa",
           "#EF553B",
           "#00cc96",
           "#ab63fa",
           "#FFA15A",
           "#19d3f3",
           "#FF6692",
           "#B6E880",
           "#FF97FF",
           "#FECB52"
          ],
          "font": {
           "color": "#2a3f5f"
          },
          "geo": {
           "bgcolor": "white",
           "lakecolor": "white",
           "landcolor": "#E5ECF6",
           "showlakes": true,
           "showland": true,
           "subunitcolor": "white"
          },
          "hoverlabel": {
           "align": "left"
          },
          "hovermode": "closest",
          "mapbox": {
           "style": "light"
          },
          "paper_bgcolor": "white",
          "plot_bgcolor": "#E5ECF6",
          "polar": {
           "angularaxis": {
            "gridcolor": "white",
            "linecolor": "white",
            "ticks": ""
           },
           "bgcolor": "#E5ECF6",
           "radialaxis": {
            "gridcolor": "white",
            "linecolor": "white",
            "ticks": ""
           }
          },
          "scene": {
           "xaxis": {
            "backgroundcolor": "#E5ECF6",
            "gridcolor": "white",
            "gridwidth": 2,
            "linecolor": "white",
            "showbackground": true,
            "ticks": "",
            "zerolinecolor": "white"
           },
           "yaxis": {
            "backgroundcolor": "#E5ECF6",
            "gridcolor": "white",
            "gridwidth": 2,
            "linecolor": "white",
            "showbackground": true,
            "ticks": "",
            "zerolinecolor": "white"
           },
           "zaxis": {
            "backgroundcolor": "#E5ECF6",
            "gridcolor": "white",
            "gridwidth": 2,
            "linecolor": "white",
            "showbackground": true,
            "ticks": "",
            "zerolinecolor": "white"
           }
          },
          "shapedefaults": {
           "line": {
            "color": "#2a3f5f"
           }
          },
          "ternary": {
           "aaxis": {
            "gridcolor": "white",
            "linecolor": "white",
            "ticks": ""
           },
           "baxis": {
            "gridcolor": "white",
            "linecolor": "white",
            "ticks": ""
           },
           "bgcolor": "#E5ECF6",
           "caxis": {
            "gridcolor": "white",
            "linecolor": "white",
            "ticks": ""
           }
          },
          "title": {
           "x": 0.05
          },
          "xaxis": {
           "automargin": true,
           "gridcolor": "white",
           "linecolor": "white",
           "ticks": "",
           "title": {
            "standoff": 15
           },
           "zerolinecolor": "white",
           "zerolinewidth": 2
          },
          "yaxis": {
           "automargin": true,
           "gridcolor": "white",
           "linecolor": "white",
           "ticks": "",
           "title": {
            "standoff": 15
           },
           "zerolinecolor": "white",
           "zerolinewidth": 2
          }
         }
        },
        "title": {
         "text": "Countries with number of medals for Swimming"
        },
        "xaxis": {
         "anchor": "y",
         "domain": [
          0,
          1
         ],
         "title": {
          "text": "Country"
         }
        },
        "yaxis": {
         "anchor": "x",
         "domain": [
          0,
          1
         ],
         "title": {
          "text": "Number of Medals"
         }
        }
       }
      }
     },
     "metadata": {},
     "output_type": "display_data"
    },
    {
     "data": {
      "application/vnd.plotly.v1+json": {
       "config": {
        "plotlyServerURL": "https://plot.ly"
       },
       "data": [
        {
         "alignmentgroup": "True",
         "hovertemplate": "Medal=Bronze<br>Country=%{x}<br>Number of Medals=%{y}<extra></extra>",
         "legendgroup": "Bronze",
         "marker": {
          "color": "tan",
          "pattern": {
           "shape": ""
          }
         },
         "name": "Bronze",
         "offsetgroup": "Bronze",
         "orientation": "v",
         "showlegend": true,
         "textposition": "auto",
         "type": "bar",
         "x": [
          "ALG",
          "ARG",
          "ARM",
          "AUS",
          "AZE",
          "BEL",
          "BER",
          "BRA",
          "BUL",
          "CAN",
          "CHI",
          "CHN",
          "CMR",
          "COL",
          "CRO",
          "CUB",
          "DEN",
          "DOM",
          "EGY",
          "ESP",
          "EUN",
          "FIN",
          "FRA",
          "FRG",
          "GBR",
          "GDR",
          "GEO",
          "GER",
          "GHA",
          "GUY",
          "HUN",
          "IND",
          "IRL",
          "ITA",
          "JPN",
          "KAZ",
          "KEN",
          "KOR",
          "LTU",
          "MAR",
          "MDA",
          "MEX",
          "MGL",
          "MRI",
          "NED",
          "NGR",
          "NIG",
          "NOR",
          "NZL",
          "PAK",
          "PHI",
          "POL",
          "PRK",
          "PUR",
          "ROU",
          "RSA",
          "RUS",
          "SWE",
          "SYR",
          "TCH",
          "THA",
          "TJK",
          "TUN",
          "TUR",
          "UAR",
          "UGA",
          "UKR",
          "URS",
          "URU",
          "USA",
          "UZB",
          "VEN",
          "YUG",
          "ZAM"
         ],
         "xaxis": "x",
         "y": [
          5,
          10,
          1,
          3,
          7,
          2,
          1,
          3,
          9,
          7,
          2,
          6,
          1,
          4,
          1,
          17,
          6,
          1,
          2,
          2,
          1,
          12,
          10,
          5,
          25,
          6,
          1,
          12,
          2,
          1,
          8,
          2,
          9,
          17,
          3,
          8,
          5,
          10,
          1,
          4,
          2,
          8,
          4,
          1,
          4,
          3,
          1,
          2,
          1,
          1,
          3,
          26,
          3,
          5,
          15,
          9,
          15,
          6,
          1,
          2,
          6,
          1,
          2,
          3,
          1,
          1,
          7,
          18,
          1,
          39,
          8,
          3,
          6,
          1
         ],
         "yaxis": "y"
        },
        {
         "alignmentgroup": "True",
         "hovertemplate": "Medal=Gold<br>Country=%{x}<br>Number of Medals=%{y}<extra></extra>",
         "legendgroup": "Gold",
         "marker": {
          "color": "gold",
          "pattern": {
           "shape": ""
          }
         },
         "name": "Gold",
         "offsetgroup": "Gold",
         "orientation": "v",
         "showlegend": true,
         "textposition": "auto",
         "type": "bar",
         "x": [
          "ALG",
          "ARG",
          "BEL",
          "BRA",
          "BUL",
          "CAN",
          "CHN",
          "CUB",
          "DEN",
          "DOM",
          "FIN",
          "FRA",
          "FRG",
          "GBR",
          "GDR",
          "GER",
          "HUN",
          "IRL",
          "ITA",
          "JPN",
          "KAZ",
          "KEN",
          "KOR",
          "MEX",
          "MGL",
          "NED",
          "NOR",
          "NZL",
          "POL",
          "PRK",
          "ROU",
          "RSA",
          "RUS",
          "TCH",
          "THA",
          "UKR",
          "URS",
          "USA",
          "UZB",
          "VEN",
          "YUG"
         ],
         "xaxis": "x",
         "y": [
          1,
          7,
          1,
          1,
          4,
          3,
          3,
          37,
          1,
          1,
          2,
          6,
          1,
          18,
          5,
          5,
          10,
          2,
          15,
          2,
          7,
          1,
          3,
          2,
          1,
          1,
          1,
          1,
          8,
          2,
          1,
          6,
          10,
          3,
          4,
          4,
          14,
          50,
          4,
          1,
          3
         ],
         "yaxis": "y"
        },
        {
         "alignmentgroup": "True",
         "hovertemplate": "Medal=Silver<br>Country=%{x}<br>Number of Medals=%{y}<extra></extra>",
         "legendgroup": "Silver",
         "marker": {
          "color": "silver",
          "pattern": {
           "shape": ""
          }
         },
         "name": "Silver",
         "offsetgroup": "Silver",
         "orientation": "v",
         "showlegend": true,
         "textposition": "auto",
         "type": "bar",
         "x": [
          "ANZ",
          "ARG",
          "AUS",
          "AZE",
          "BEL",
          "BLR",
          "BRA",
          "BUL",
          "CAN",
          "CHI",
          "CHN",
          "CMR",
          "COL",
          "CUB",
          "CZE",
          "DEN",
          "EGY",
          "ESP",
          "EST",
          "EUN",
          "FIN",
          "FRA",
          "GBR",
          "GDR",
          "GER",
          "GHA",
          "HUN",
          "IRL",
          "ITA",
          "KAZ",
          "KEN",
          "KOR",
          "MEX",
          "MGL",
          "NED",
          "NGR",
          "NOR",
          "NZL",
          "PHI",
          "POL",
          "PRK",
          "PUR",
          "ROU",
          "RSA",
          "RUS",
          "SWE",
          "TCH",
          "TGA",
          "THA",
          "TUR",
          "UGA",
          "UKR",
          "URS",
          "USA",
          "UZB",
          "VEN",
          "YUG"
         ],
         "xaxis": "x",
         "y": [
          1,
          7,
          1,
          1,
          1,
          2,
          1,
          5,
          7,
          1,
          3,
          1,
          1,
          19,
          1,
          5,
          1,
          2,
          1,
          1,
          1,
          9,
          13,
          2,
          12,
          1,
          2,
          5,
          15,
          7,
          1,
          7,
          3,
          2,
          2,
          3,
          2,
          1,
          2,
          9,
          3,
          1,
          9,
          4,
          5,
          5,
          1,
          1,
          4,
          2,
          3,
          3,
          19,
          24,
          2,
          2,
          2
         ],
         "yaxis": "y"
        }
       ],
       "layout": {
        "barmode": "relative",
        "legend": {
         "title": {
          "text": "Medal"
         },
         "tracegroupgap": 0
        },
        "template": {
         "data": {
          "bar": [
           {
            "error_x": {
             "color": "#2a3f5f"
            },
            "error_y": {
             "color": "#2a3f5f"
            },
            "marker": {
             "line": {
              "color": "#E5ECF6",
              "width": 0.5
             },
             "pattern": {
              "fillmode": "overlay",
              "size": 10,
              "solidity": 0.2
             }
            },
            "type": "bar"
           }
          ],
          "barpolar": [
           {
            "marker": {
             "line": {
              "color": "#E5ECF6",
              "width": 0.5
             },
             "pattern": {
              "fillmode": "overlay",
              "size": 10,
              "solidity": 0.2
             }
            },
            "type": "barpolar"
           }
          ],
          "carpet": [
           {
            "aaxis": {
             "endlinecolor": "#2a3f5f",
             "gridcolor": "white",
             "linecolor": "white",
             "minorgridcolor": "white",
             "startlinecolor": "#2a3f5f"
            },
            "baxis": {
             "endlinecolor": "#2a3f5f",
             "gridcolor": "white",
             "linecolor": "white",
             "minorgridcolor": "white",
             "startlinecolor": "#2a3f5f"
            },
            "type": "carpet"
           }
          ],
          "choropleth": [
           {
            "colorbar": {
             "outlinewidth": 0,
             "ticks": ""
            },
            "type": "choropleth"
           }
          ],
          "contour": [
           {
            "colorbar": {
             "outlinewidth": 0,
             "ticks": ""
            },
            "colorscale": [
             [
              0,
              "#0d0887"
             ],
             [
              0.1111111111111111,
              "#46039f"
             ],
             [
              0.2222222222222222,
              "#7201a8"
             ],
             [
              0.3333333333333333,
              "#9c179e"
             ],
             [
              0.4444444444444444,
              "#bd3786"
             ],
             [
              0.5555555555555556,
              "#d8576b"
             ],
             [
              0.6666666666666666,
              "#ed7953"
             ],
             [
              0.7777777777777778,
              "#fb9f3a"
             ],
             [
              0.8888888888888888,
              "#fdca26"
             ],
             [
              1,
              "#f0f921"
             ]
            ],
            "type": "contour"
           }
          ],
          "contourcarpet": [
           {
            "colorbar": {
             "outlinewidth": 0,
             "ticks": ""
            },
            "type": "contourcarpet"
           }
          ],
          "heatmap": [
           {
            "colorbar": {
             "outlinewidth": 0,
             "ticks": ""
            },
            "colorscale": [
             [
              0,
              "#0d0887"
             ],
             [
              0.1111111111111111,
              "#46039f"
             ],
             [
              0.2222222222222222,
              "#7201a8"
             ],
             [
              0.3333333333333333,
              "#9c179e"
             ],
             [
              0.4444444444444444,
              "#bd3786"
             ],
             [
              0.5555555555555556,
              "#d8576b"
             ],
             [
              0.6666666666666666,
              "#ed7953"
             ],
             [
              0.7777777777777778,
              "#fb9f3a"
             ],
             [
              0.8888888888888888,
              "#fdca26"
             ],
             [
              1,
              "#f0f921"
             ]
            ],
            "type": "heatmap"
           }
          ],
          "heatmapgl": [
           {
            "colorbar": {
             "outlinewidth": 0,
             "ticks": ""
            },
            "colorscale": [
             [
              0,
              "#0d0887"
             ],
             [
              0.1111111111111111,
              "#46039f"
             ],
             [
              0.2222222222222222,
              "#7201a8"
             ],
             [
              0.3333333333333333,
              "#9c179e"
             ],
             [
              0.4444444444444444,
              "#bd3786"
             ],
             [
              0.5555555555555556,
              "#d8576b"
             ],
             [
              0.6666666666666666,
              "#ed7953"
             ],
             [
              0.7777777777777778,
              "#fb9f3a"
             ],
             [
              0.8888888888888888,
              "#fdca26"
             ],
             [
              1,
              "#f0f921"
             ]
            ],
            "type": "heatmapgl"
           }
          ],
          "histogram": [
           {
            "marker": {
             "pattern": {
              "fillmode": "overlay",
              "size": 10,
              "solidity": 0.2
             }
            },
            "type": "histogram"
           }
          ],
          "histogram2d": [
           {
            "colorbar": {
             "outlinewidth": 0,
             "ticks": ""
            },
            "colorscale": [
             [
              0,
              "#0d0887"
             ],
             [
              0.1111111111111111,
              "#46039f"
             ],
             [
              0.2222222222222222,
              "#7201a8"
             ],
             [
              0.3333333333333333,
              "#9c179e"
             ],
             [
              0.4444444444444444,
              "#bd3786"
             ],
             [
              0.5555555555555556,
              "#d8576b"
             ],
             [
              0.6666666666666666,
              "#ed7953"
             ],
             [
              0.7777777777777778,
              "#fb9f3a"
             ],
             [
              0.8888888888888888,
              "#fdca26"
             ],
             [
              1,
              "#f0f921"
             ]
            ],
            "type": "histogram2d"
           }
          ],
          "histogram2dcontour": [
           {
            "colorbar": {
             "outlinewidth": 0,
             "ticks": ""
            },
            "colorscale": [
             [
              0,
              "#0d0887"
             ],
             [
              0.1111111111111111,
              "#46039f"
             ],
             [
              0.2222222222222222,
              "#7201a8"
             ],
             [
              0.3333333333333333,
              "#9c179e"
             ],
             [
              0.4444444444444444,
              "#bd3786"
             ],
             [
              0.5555555555555556,
              "#d8576b"
             ],
             [
              0.6666666666666666,
              "#ed7953"
             ],
             [
              0.7777777777777778,
              "#fb9f3a"
             ],
             [
              0.8888888888888888,
              "#fdca26"
             ],
             [
              1,
              "#f0f921"
             ]
            ],
            "type": "histogram2dcontour"
           }
          ],
          "mesh3d": [
           {
            "colorbar": {
             "outlinewidth": 0,
             "ticks": ""
            },
            "type": "mesh3d"
           }
          ],
          "parcoords": [
           {
            "line": {
             "colorbar": {
              "outlinewidth": 0,
              "ticks": ""
             }
            },
            "type": "parcoords"
           }
          ],
          "pie": [
           {
            "automargin": true,
            "type": "pie"
           }
          ],
          "scatter": [
           {
            "fillpattern": {
             "fillmode": "overlay",
             "size": 10,
             "solidity": 0.2
            },
            "type": "scatter"
           }
          ],
          "scatter3d": [
           {
            "line": {
             "colorbar": {
              "outlinewidth": 0,
              "ticks": ""
             }
            },
            "marker": {
             "colorbar": {
              "outlinewidth": 0,
              "ticks": ""
             }
            },
            "type": "scatter3d"
           }
          ],
          "scattercarpet": [
           {
            "marker": {
             "colorbar": {
              "outlinewidth": 0,
              "ticks": ""
             }
            },
            "type": "scattercarpet"
           }
          ],
          "scattergeo": [
           {
            "marker": {
             "colorbar": {
              "outlinewidth": 0,
              "ticks": ""
             }
            },
            "type": "scattergeo"
           }
          ],
          "scattergl": [
           {
            "marker": {
             "colorbar": {
              "outlinewidth": 0,
              "ticks": ""
             }
            },
            "type": "scattergl"
           }
          ],
          "scattermapbox": [
           {
            "marker": {
             "colorbar": {
              "outlinewidth": 0,
              "ticks": ""
             }
            },
            "type": "scattermapbox"
           }
          ],
          "scatterpolar": [
           {
            "marker": {
             "colorbar": {
              "outlinewidth": 0,
              "ticks": ""
             }
            },
            "type": "scatterpolar"
           }
          ],
          "scatterpolargl": [
           {
            "marker": {
             "colorbar": {
              "outlinewidth": 0,
              "ticks": ""
             }
            },
            "type": "scatterpolargl"
           }
          ],
          "scatterternary": [
           {
            "marker": {
             "colorbar": {
              "outlinewidth": 0,
              "ticks": ""
             }
            },
            "type": "scatterternary"
           }
          ],
          "surface": [
           {
            "colorbar": {
             "outlinewidth": 0,
             "ticks": ""
            },
            "colorscale": [
             [
              0,
              "#0d0887"
             ],
             [
              0.1111111111111111,
              "#46039f"
             ],
             [
              0.2222222222222222,
              "#7201a8"
             ],
             [
              0.3333333333333333,
              "#9c179e"
             ],
             [
              0.4444444444444444,
              "#bd3786"
             ],
             [
              0.5555555555555556,
              "#d8576b"
             ],
             [
              0.6666666666666666,
              "#ed7953"
             ],
             [
              0.7777777777777778,
              "#fb9f3a"
             ],
             [
              0.8888888888888888,
              "#fdca26"
             ],
             [
              1,
              "#f0f921"
             ]
            ],
            "type": "surface"
           }
          ],
          "table": [
           {
            "cells": {
             "fill": {
              "color": "#EBF0F8"
             },
             "line": {
              "color": "white"
             }
            },
            "header": {
             "fill": {
              "color": "#C8D4E3"
             },
             "line": {
              "color": "white"
             }
            },
            "type": "table"
           }
          ]
         },
         "layout": {
          "annotationdefaults": {
           "arrowcolor": "#2a3f5f",
           "arrowhead": 0,
           "arrowwidth": 1
          },
          "autotypenumbers": "strict",
          "coloraxis": {
           "colorbar": {
            "outlinewidth": 0,
            "ticks": ""
           }
          },
          "colorscale": {
           "diverging": [
            [
             0,
             "#8e0152"
            ],
            [
             0.1,
             "#c51b7d"
            ],
            [
             0.2,
             "#de77ae"
            ],
            [
             0.3,
             "#f1b6da"
            ],
            [
             0.4,
             "#fde0ef"
            ],
            [
             0.5,
             "#f7f7f7"
            ],
            [
             0.6,
             "#e6f5d0"
            ],
            [
             0.7,
             "#b8e186"
            ],
            [
             0.8,
             "#7fbc41"
            ],
            [
             0.9,
             "#4d9221"
            ],
            [
             1,
             "#276419"
            ]
           ],
           "sequential": [
            [
             0,
             "#0d0887"
            ],
            [
             0.1111111111111111,
             "#46039f"
            ],
            [
             0.2222222222222222,
             "#7201a8"
            ],
            [
             0.3333333333333333,
             "#9c179e"
            ],
            [
             0.4444444444444444,
             "#bd3786"
            ],
            [
             0.5555555555555556,
             "#d8576b"
            ],
            [
             0.6666666666666666,
             "#ed7953"
            ],
            [
             0.7777777777777778,
             "#fb9f3a"
            ],
            [
             0.8888888888888888,
             "#fdca26"
            ],
            [
             1,
             "#f0f921"
            ]
           ],
           "sequentialminus": [
            [
             0,
             "#0d0887"
            ],
            [
             0.1111111111111111,
             "#46039f"
            ],
            [
             0.2222222222222222,
             "#7201a8"
            ],
            [
             0.3333333333333333,
             "#9c179e"
            ],
            [
             0.4444444444444444,
             "#bd3786"
            ],
            [
             0.5555555555555556,
             "#d8576b"
            ],
            [
             0.6666666666666666,
             "#ed7953"
            ],
            [
             0.7777777777777778,
             "#fb9f3a"
            ],
            [
             0.8888888888888888,
             "#fdca26"
            ],
            [
             1,
             "#f0f921"
            ]
           ]
          },
          "colorway": [
           "#636efa",
           "#EF553B",
           "#00cc96",
           "#ab63fa",
           "#FFA15A",
           "#19d3f3",
           "#FF6692",
           "#B6E880",
           "#FF97FF",
           "#FECB52"
          ],
          "font": {
           "color": "#2a3f5f"
          },
          "geo": {
           "bgcolor": "white",
           "lakecolor": "white",
           "landcolor": "#E5ECF6",
           "showlakes": true,
           "showland": true,
           "subunitcolor": "white"
          },
          "hoverlabel": {
           "align": "left"
          },
          "hovermode": "closest",
          "mapbox": {
           "style": "light"
          },
          "paper_bgcolor": "white",
          "plot_bgcolor": "#E5ECF6",
          "polar": {
           "angularaxis": {
            "gridcolor": "white",
            "linecolor": "white",
            "ticks": ""
           },
           "bgcolor": "#E5ECF6",
           "radialaxis": {
            "gridcolor": "white",
            "linecolor": "white",
            "ticks": ""
           }
          },
          "scene": {
           "xaxis": {
            "backgroundcolor": "#E5ECF6",
            "gridcolor": "white",
            "gridwidth": 2,
            "linecolor": "white",
            "showbackground": true,
            "ticks": "",
            "zerolinecolor": "white"
           },
           "yaxis": {
            "backgroundcolor": "#E5ECF6",
            "gridcolor": "white",
            "gridwidth": 2,
            "linecolor": "white",
            "showbackground": true,
            "ticks": "",
            "zerolinecolor": "white"
           },
           "zaxis": {
            "backgroundcolor": "#E5ECF6",
            "gridcolor": "white",
            "gridwidth": 2,
            "linecolor": "white",
            "showbackground": true,
            "ticks": "",
            "zerolinecolor": "white"
           }
          },
          "shapedefaults": {
           "line": {
            "color": "#2a3f5f"
           }
          },
          "ternary": {
           "aaxis": {
            "gridcolor": "white",
            "linecolor": "white",
            "ticks": ""
           },
           "baxis": {
            "gridcolor": "white",
            "linecolor": "white",
            "ticks": ""
           },
           "bgcolor": "#E5ECF6",
           "caxis": {
            "gridcolor": "white",
            "linecolor": "white",
            "ticks": ""
           }
          },
          "title": {
           "x": 0.05
          },
          "xaxis": {
           "automargin": true,
           "gridcolor": "white",
           "linecolor": "white",
           "ticks": "",
           "title": {
            "standoff": 15
           },
           "zerolinecolor": "white",
           "zerolinewidth": 2
          },
          "yaxis": {
           "automargin": true,
           "gridcolor": "white",
           "linecolor": "white",
           "ticks": "",
           "title": {
            "standoff": 15
           },
           "zerolinecolor": "white",
           "zerolinewidth": 2
          }
         }
        },
        "title": {
         "text": "Countries with number of medals for Boxing"
        },
        "xaxis": {
         "anchor": "y",
         "domain": [
          0,
          1
         ],
         "title": {
          "text": "Country"
         }
        },
        "yaxis": {
         "anchor": "x",
         "domain": [
          0,
          1
         ],
         "title": {
          "text": "Number of Medals"
         }
        }
       }
      }
     },
     "metadata": {},
     "output_type": "display_data"
    },
    {
     "data": {
      "application/vnd.plotly.v1+json": {
       "config": {
        "plotlyServerURL": "https://plot.ly"
       },
       "data": [
        {
         "alignmentgroup": "True",
         "hovertemplate": "Medal=Gold<br>Country=%{x}<br>Number of Medals=%{y}<extra></extra>",
         "legendgroup": "Gold",
         "marker": {
          "color": "gold",
          "pattern": {
           "shape": ""
          }
         },
         "name": "Gold",
         "offsetgroup": "Gold",
         "orientation": "v",
         "showlegend": true,
         "textposition": "auto",
         "type": "bar",
         "x": [
          "ANZ",
          "FRA",
          "HAI",
          "USA"
         ],
         "xaxis": "x",
         "y": [
          15,
          15,
          1,
          36
         ],
         "yaxis": "y"
        },
        {
         "alignmentgroup": "True",
         "hovertemplate": "Medal=Silver<br>Country=%{x}<br>Number of Medals=%{y}<extra></extra>",
         "legendgroup": "Silver",
         "marker": {
          "color": "silver",
          "pattern": {
           "shape": ""
          }
         },
         "name": "Silver",
         "offsetgroup": "Silver",
         "orientation": "v",
         "showlegend": true,
         "textposition": "auto",
         "type": "bar",
         "x": [
          "FRA",
          "GBR",
          "GER"
         ],
         "xaxis": "x",
         "y": [
          34,
          30,
          15
         ],
         "yaxis": "y"
        },
        {
         "alignmentgroup": "True",
         "hovertemplate": "Medal=Bronze<br>Country=%{x}<br>Number of Medals=%{y}<extra></extra>",
         "legendgroup": "Bronze",
         "marker": {
          "color": "tan",
          "pattern": {
           "shape": ""
          }
         },
         "name": "Bronze",
         "offsetgroup": "Bronze",
         "orientation": "v",
         "showlegend": true,
         "textposition": "auto",
         "type": "bar",
         "x": [
          "ROU"
         ],
         "xaxis": "x",
         "y": [
          16
         ],
         "yaxis": "y"
        }
       ],
       "layout": {
        "barmode": "relative",
        "legend": {
         "title": {
          "text": "Medal"
         },
         "tracegroupgap": 0
        },
        "template": {
         "data": {
          "bar": [
           {
            "error_x": {
             "color": "#2a3f5f"
            },
            "error_y": {
             "color": "#2a3f5f"
            },
            "marker": {
             "line": {
              "color": "#E5ECF6",
              "width": 0.5
             },
             "pattern": {
              "fillmode": "overlay",
              "size": 10,
              "solidity": 0.2
             }
            },
            "type": "bar"
           }
          ],
          "barpolar": [
           {
            "marker": {
             "line": {
              "color": "#E5ECF6",
              "width": 0.5
             },
             "pattern": {
              "fillmode": "overlay",
              "size": 10,
              "solidity": 0.2
             }
            },
            "type": "barpolar"
           }
          ],
          "carpet": [
           {
            "aaxis": {
             "endlinecolor": "#2a3f5f",
             "gridcolor": "white",
             "linecolor": "white",
             "minorgridcolor": "white",
             "startlinecolor": "#2a3f5f"
            },
            "baxis": {
             "endlinecolor": "#2a3f5f",
             "gridcolor": "white",
             "linecolor": "white",
             "minorgridcolor": "white",
             "startlinecolor": "#2a3f5f"
            },
            "type": "carpet"
           }
          ],
          "choropleth": [
           {
            "colorbar": {
             "outlinewidth": 0,
             "ticks": ""
            },
            "type": "choropleth"
           }
          ],
          "contour": [
           {
            "colorbar": {
             "outlinewidth": 0,
             "ticks": ""
            },
            "colorscale": [
             [
              0,
              "#0d0887"
             ],
             [
              0.1111111111111111,
              "#46039f"
             ],
             [
              0.2222222222222222,
              "#7201a8"
             ],
             [
              0.3333333333333333,
              "#9c179e"
             ],
             [
              0.4444444444444444,
              "#bd3786"
             ],
             [
              0.5555555555555556,
              "#d8576b"
             ],
             [
              0.6666666666666666,
              "#ed7953"
             ],
             [
              0.7777777777777778,
              "#fb9f3a"
             ],
             [
              0.8888888888888888,
              "#fdca26"
             ],
             [
              1,
              "#f0f921"
             ]
            ],
            "type": "contour"
           }
          ],
          "contourcarpet": [
           {
            "colorbar": {
             "outlinewidth": 0,
             "ticks": ""
            },
            "type": "contourcarpet"
           }
          ],
          "heatmap": [
           {
            "colorbar": {
             "outlinewidth": 0,
             "ticks": ""
            },
            "colorscale": [
             [
              0,
              "#0d0887"
             ],
             [
              0.1111111111111111,
              "#46039f"
             ],
             [
              0.2222222222222222,
              "#7201a8"
             ],
             [
              0.3333333333333333,
              "#9c179e"
             ],
             [
              0.4444444444444444,
              "#bd3786"
             ],
             [
              0.5555555555555556,
              "#d8576b"
             ],
             [
              0.6666666666666666,
              "#ed7953"
             ],
             [
              0.7777777777777778,
              "#fb9f3a"
             ],
             [
              0.8888888888888888,
              "#fdca26"
             ],
             [
              1,
              "#f0f921"
             ]
            ],
            "type": "heatmap"
           }
          ],
          "heatmapgl": [
           {
            "colorbar": {
             "outlinewidth": 0,
             "ticks": ""
            },
            "colorscale": [
             [
              0,
              "#0d0887"
             ],
             [
              0.1111111111111111,
              "#46039f"
             ],
             [
              0.2222222222222222,
              "#7201a8"
             ],
             [
              0.3333333333333333,
              "#9c179e"
             ],
             [
              0.4444444444444444,
              "#bd3786"
             ],
             [
              0.5555555555555556,
              "#d8576b"
             ],
             [
              0.6666666666666666,
              "#ed7953"
             ],
             [
              0.7777777777777778,
              "#fb9f3a"
             ],
             [
              0.8888888888888888,
              "#fdca26"
             ],
             [
              1,
              "#f0f921"
             ]
            ],
            "type": "heatmapgl"
           }
          ],
          "histogram": [
           {
            "marker": {
             "pattern": {
              "fillmode": "overlay",
              "size": 10,
              "solidity": 0.2
             }
            },
            "type": "histogram"
           }
          ],
          "histogram2d": [
           {
            "colorbar": {
             "outlinewidth": 0,
             "ticks": ""
            },
            "colorscale": [
             [
              0,
              "#0d0887"
             ],
             [
              0.1111111111111111,
              "#46039f"
             ],
             [
              0.2222222222222222,
              "#7201a8"
             ],
             [
              0.3333333333333333,
              "#9c179e"
             ],
             [
              0.4444444444444444,
              "#bd3786"
             ],
             [
              0.5555555555555556,
              "#d8576b"
             ],
             [
              0.6666666666666666,
              "#ed7953"
             ],
             [
              0.7777777777777778,
              "#fb9f3a"
             ],
             [
              0.8888888888888888,
              "#fdca26"
             ],
             [
              1,
              "#f0f921"
             ]
            ],
            "type": "histogram2d"
           }
          ],
          "histogram2dcontour": [
           {
            "colorbar": {
             "outlinewidth": 0,
             "ticks": ""
            },
            "colorscale": [
             [
              0,
              "#0d0887"
             ],
             [
              0.1111111111111111,
              "#46039f"
             ],
             [
              0.2222222222222222,
              "#7201a8"
             ],
             [
              0.3333333333333333,
              "#9c179e"
             ],
             [
              0.4444444444444444,
              "#bd3786"
             ],
             [
              0.5555555555555556,
              "#d8576b"
             ],
             [
              0.6666666666666666,
              "#ed7953"
             ],
             [
              0.7777777777777778,
              "#fb9f3a"
             ],
             [
              0.8888888888888888,
              "#fdca26"
             ],
             [
              1,
              "#f0f921"
             ]
            ],
            "type": "histogram2dcontour"
           }
          ],
          "mesh3d": [
           {
            "colorbar": {
             "outlinewidth": 0,
             "ticks": ""
            },
            "type": "mesh3d"
           }
          ],
          "parcoords": [
           {
            "line": {
             "colorbar": {
              "outlinewidth": 0,
              "ticks": ""
             }
            },
            "type": "parcoords"
           }
          ],
          "pie": [
           {
            "automargin": true,
            "type": "pie"
           }
          ],
          "scatter": [
           {
            "fillpattern": {
             "fillmode": "overlay",
             "size": 10,
             "solidity": 0.2
            },
            "type": "scatter"
           }
          ],
          "scatter3d": [
           {
            "line": {
             "colorbar": {
              "outlinewidth": 0,
              "ticks": ""
             }
            },
            "marker": {
             "colorbar": {
              "outlinewidth": 0,
              "ticks": ""
             }
            },
            "type": "scatter3d"
           }
          ],
          "scattercarpet": [
           {
            "marker": {
             "colorbar": {
              "outlinewidth": 0,
              "ticks": ""
             }
            },
            "type": "scattercarpet"
           }
          ],
          "scattergeo": [
           {
            "marker": {
             "colorbar": {
              "outlinewidth": 0,
              "ticks": ""
             }
            },
            "type": "scattergeo"
           }
          ],
          "scattergl": [
           {
            "marker": {
             "colorbar": {
              "outlinewidth": 0,
              "ticks": ""
             }
            },
            "type": "scattergl"
           }
          ],
          "scattermapbox": [
           {
            "marker": {
             "colorbar": {
              "outlinewidth": 0,
              "ticks": ""
             }
            },
            "type": "scattermapbox"
           }
          ],
          "scatterpolar": [
           {
            "marker": {
             "colorbar": {
              "outlinewidth": 0,
              "ticks": ""
             }
            },
            "type": "scatterpolar"
           }
          ],
          "scatterpolargl": [
           {
            "marker": {
             "colorbar": {
              "outlinewidth": 0,
              "ticks": ""
             }
            },
            "type": "scatterpolargl"
           }
          ],
          "scatterternary": [
           {
            "marker": {
             "colorbar": {
              "outlinewidth": 0,
              "ticks": ""
             }
            },
            "type": "scatterternary"
           }
          ],
          "surface": [
           {
            "colorbar": {
             "outlinewidth": 0,
             "ticks": ""
            },
            "colorscale": [
             [
              0,
              "#0d0887"
             ],
             [
              0.1111111111111111,
              "#46039f"
             ],
             [
              0.2222222222222222,
              "#7201a8"
             ],
             [
              0.3333333333333333,
              "#9c179e"
             ],
             [
              0.4444444444444444,
              "#bd3786"
             ],
             [
              0.5555555555555556,
              "#d8576b"
             ],
             [
              0.6666666666666666,
              "#ed7953"
             ],
             [
              0.7777777777777778,
              "#fb9f3a"
             ],
             [
              0.8888888888888888,
              "#fdca26"
             ],
             [
              1,
              "#f0f921"
             ]
            ],
            "type": "surface"
           }
          ],
          "table": [
           {
            "cells": {
             "fill": {
              "color": "#EBF0F8"
             },
             "line": {
              "color": "white"
             }
            },
            "header": {
             "fill": {
              "color": "#C8D4E3"
             },
             "line": {
              "color": "white"
             }
            },
            "type": "table"
           }
          ]
         },
         "layout": {
          "annotationdefaults": {
           "arrowcolor": "#2a3f5f",
           "arrowhead": 0,
           "arrowwidth": 1
          },
          "autotypenumbers": "strict",
          "coloraxis": {
           "colorbar": {
            "outlinewidth": 0,
            "ticks": ""
           }
          },
          "colorscale": {
           "diverging": [
            [
             0,
             "#8e0152"
            ],
            [
             0.1,
             "#c51b7d"
            ],
            [
             0.2,
             "#de77ae"
            ],
            [
             0.3,
             "#f1b6da"
            ],
            [
             0.4,
             "#fde0ef"
            ],
            [
             0.5,
             "#f7f7f7"
            ],
            [
             0.6,
             "#e6f5d0"
            ],
            [
             0.7,
             "#b8e186"
            ],
            [
             0.8,
             "#7fbc41"
            ],
            [
             0.9,
             "#4d9221"
            ],
            [
             1,
             "#276419"
            ]
           ],
           "sequential": [
            [
             0,
             "#0d0887"
            ],
            [
             0.1111111111111111,
             "#46039f"
            ],
            [
             0.2222222222222222,
             "#7201a8"
            ],
            [
             0.3333333333333333,
             "#9c179e"
            ],
            [
             0.4444444444444444,
             "#bd3786"
            ],
            [
             0.5555555555555556,
             "#d8576b"
            ],
            [
             0.6666666666666666,
             "#ed7953"
            ],
            [
             0.7777777777777778,
             "#fb9f3a"
            ],
            [
             0.8888888888888888,
             "#fdca26"
            ],
            [
             1,
             "#f0f921"
            ]
           ],
           "sequentialminus": [
            [
             0,
             "#0d0887"
            ],
            [
             0.1111111111111111,
             "#46039f"
            ],
            [
             0.2222222222222222,
             "#7201a8"
            ],
            [
             0.3333333333333333,
             "#9c179e"
            ],
            [
             0.4444444444444444,
             "#bd3786"
            ],
            [
             0.5555555555555556,
             "#d8576b"
            ],
            [
             0.6666666666666666,
             "#ed7953"
            ],
            [
             0.7777777777777778,
             "#fb9f3a"
            ],
            [
             0.8888888888888888,
             "#fdca26"
            ],
            [
             1,
             "#f0f921"
            ]
           ]
          },
          "colorway": [
           "#636efa",
           "#EF553B",
           "#00cc96",
           "#ab63fa",
           "#FFA15A",
           "#19d3f3",
           "#FF6692",
           "#B6E880",
           "#FF97FF",
           "#FECB52"
          ],
          "font": {
           "color": "#2a3f5f"
          },
          "geo": {
           "bgcolor": "white",
           "lakecolor": "white",
           "landcolor": "#E5ECF6",
           "showlakes": true,
           "showland": true,
           "subunitcolor": "white"
          },
          "hoverlabel": {
           "align": "left"
          },
          "hovermode": "closest",
          "mapbox": {
           "style": "light"
          },
          "paper_bgcolor": "white",
          "plot_bgcolor": "#E5ECF6",
          "polar": {
           "angularaxis": {
            "gridcolor": "white",
            "linecolor": "white",
            "ticks": ""
           },
           "bgcolor": "#E5ECF6",
           "radialaxis": {
            "gridcolor": "white",
            "linecolor": "white",
            "ticks": ""
           }
          },
          "scene": {
           "xaxis": {
            "backgroundcolor": "#E5ECF6",
            "gridcolor": "white",
            "gridwidth": 2,
            "linecolor": "white",
            "showbackground": true,
            "ticks": "",
            "zerolinecolor": "white"
           },
           "yaxis": {
            "backgroundcolor": "#E5ECF6",
            "gridcolor": "white",
            "gridwidth": 2,
            "linecolor": "white",
            "showbackground": true,
            "ticks": "",
            "zerolinecolor": "white"
           },
           "zaxis": {
            "backgroundcolor": "#E5ECF6",
            "gridcolor": "white",
            "gridwidth": 2,
            "linecolor": "white",
            "showbackground": true,
            "ticks": "",
            "zerolinecolor": "white"
           }
          },
          "shapedefaults": {
           "line": {
            "color": "#2a3f5f"
           }
          },
          "ternary": {
           "aaxis": {
            "gridcolor": "white",
            "linecolor": "white",
            "ticks": ""
           },
           "baxis": {
            "gridcolor": "white",
            "linecolor": "white",
            "ticks": ""
           },
           "bgcolor": "#E5ECF6",
           "caxis": {
            "gridcolor": "white",
            "linecolor": "white",
            "ticks": ""
           }
          },
          "title": {
           "x": 0.05
          },
          "xaxis": {
           "automargin": true,
           "gridcolor": "white",
           "linecolor": "white",
           "ticks": "",
           "title": {
            "standoff": 15
           },
           "zerolinecolor": "white",
           "zerolinewidth": 2
          },
          "yaxis": {
           "automargin": true,
           "gridcolor": "white",
           "linecolor": "white",
           "ticks": "",
           "title": {
            "standoff": 15
           },
           "zerolinecolor": "white",
           "zerolinewidth": 2
          }
         }
        },
        "title": {
         "text": "Countries with number of medals for Rugby"
        },
        "xaxis": {
         "anchor": "y",
         "domain": [
          0,
          1
         ],
         "title": {
          "text": "Country"
         }
        },
        "yaxis": {
         "anchor": "x",
         "domain": [
          0,
          1
         ],
         "title": {
          "text": "Number of Medals"
         }
        }
       }
      }
     },
     "metadata": {},
     "output_type": "display_data"
    }
   ],
   "source": [
    "medals = anon_df[anon_df[\"Medal\"].notna()].reset_index(drop=True)\n",
    "\n",
    "# https://plotly.com/python/bar-charts/\n",
    "def sport_medals(sports):\n",
    "    \n",
    "    sport = medals[medals[\"Sport\"] == sports].reset_index(drop=True)\n",
    "    sport = sport.groupby([\"NOC\", \"Medal\"]).size().reset_index(name=\"Medal Count\")\n",
    "\n",
    "    fig = px.bar(sport, x=\"NOC\", y=\"Medal Count\", color=\"Medal\", color_discrete_map = {\"Bronze\": \"tan\", \"Silver\": \"silver\", \"Gold\": \"gold\"}, title=\"Countries with number of medals for \" + sports, labels={\"NOC\": \"Country\", \"Medal Count\": \"Number of Medals\"})\n",
    "\n",
    "    return fig.show()\n",
    "\n",
    "sport_medals_football = sport_medals(\"Football\")\n",
    "sport_medals_swimming = sport_medals(\"Swimming\")\n",
    "sport_medals_boxing = sport_medals(\"Boxing\")\n",
    "sport_medals_rugby = sport_medals(\"Rugby\")"
   ]
  },
  {
   "cell_type": "markdown",
   "metadata": {},
   "source": [
    "- åldersfördelning i sporterna"
   ]
  },
  {
   "cell_type": "code",
   "execution_count": null,
   "metadata": {},
   "outputs": [
    {
     "data": {
      "application/vnd.plotly.v1+json": {
       "config": {
        "plotlyServerURL": "https://plot.ly"
       },
       "data": [
        {
         "alignmentgroup": "True",
         "hovertemplate": "Age=%{marker.color}<br>Number of athletes=%{y}<extra></extra>",
         "legendgroup": "",
         "marker": {
          "color": [
           15,
           16,
           17,
           18,
           19,
           20,
           21,
           22,
           23,
           24,
           25,
           26,
           27,
           28,
           29,
           30,
           31,
           32,
           33,
           34,
           35,
           36,
           37,
           38,
           39,
           40
          ],
          "coloraxis": "coloraxis",
          "pattern": {
           "shape": ""
          }
         },
         "name": "",
         "offsetgroup": "",
         "orientation": "v",
         "showlegend": false,
         "textposition": "auto",
         "type": "bar",
         "x": [
          15,
          16,
          17,
          18,
          19,
          20,
          21,
          22,
          23,
          24,
          25,
          26,
          27,
          28,
          29,
          30,
          31,
          32,
          33,
          34,
          35,
          36,
          37,
          38,
          39,
          40
         ],
         "xaxis": "x",
         "y": [
          5,
          9,
          54,
          123,
          319,
          537,
          774,
          1023,
          841,
          496,
          432,
          418,
          327,
          305,
          220,
          176,
          123,
          83,
          45,
          30,
          10,
          9,
          2,
          5,
          2,
          2
         ],
         "yaxis": "y"
        }
       ],
       "layout": {
        "barmode": "relative",
        "coloraxis": {
         "colorbar": {
          "title": {
           "text": "Age"
          }
         },
         "colorscale": [
          [
           0,
           "#0d0887"
          ],
          [
           0.1111111111111111,
           "#46039f"
          ],
          [
           0.2222222222222222,
           "#7201a8"
          ],
          [
           0.3333333333333333,
           "#9c179e"
          ],
          [
           0.4444444444444444,
           "#bd3786"
          ],
          [
           0.5555555555555556,
           "#d8576b"
          ],
          [
           0.6666666666666666,
           "#ed7953"
          ],
          [
           0.7777777777777778,
           "#fb9f3a"
          ],
          [
           0.8888888888888888,
           "#fdca26"
          ],
          [
           1,
           "#f0f921"
          ]
         ]
        },
        "legend": {
         "tracegroupgap": 0
        },
        "template": {
         "data": {
          "bar": [
           {
            "error_x": {
             "color": "#2a3f5f"
            },
            "error_y": {
             "color": "#2a3f5f"
            },
            "marker": {
             "line": {
              "color": "#E5ECF6",
              "width": 0.5
             },
             "pattern": {
              "fillmode": "overlay",
              "size": 10,
              "solidity": 0.2
             }
            },
            "type": "bar"
           }
          ],
          "barpolar": [
           {
            "marker": {
             "line": {
              "color": "#E5ECF6",
              "width": 0.5
             },
             "pattern": {
              "fillmode": "overlay",
              "size": 10,
              "solidity": 0.2
             }
            },
            "type": "barpolar"
           }
          ],
          "carpet": [
           {
            "aaxis": {
             "endlinecolor": "#2a3f5f",
             "gridcolor": "white",
             "linecolor": "white",
             "minorgridcolor": "white",
             "startlinecolor": "#2a3f5f"
            },
            "baxis": {
             "endlinecolor": "#2a3f5f",
             "gridcolor": "white",
             "linecolor": "white",
             "minorgridcolor": "white",
             "startlinecolor": "#2a3f5f"
            },
            "type": "carpet"
           }
          ],
          "choropleth": [
           {
            "colorbar": {
             "outlinewidth": 0,
             "ticks": ""
            },
            "type": "choropleth"
           }
          ],
          "contour": [
           {
            "colorbar": {
             "outlinewidth": 0,
             "ticks": ""
            },
            "colorscale": [
             [
              0,
              "#0d0887"
             ],
             [
              0.1111111111111111,
              "#46039f"
             ],
             [
              0.2222222222222222,
              "#7201a8"
             ],
             [
              0.3333333333333333,
              "#9c179e"
             ],
             [
              0.4444444444444444,
              "#bd3786"
             ],
             [
              0.5555555555555556,
              "#d8576b"
             ],
             [
              0.6666666666666666,
              "#ed7953"
             ],
             [
              0.7777777777777778,
              "#fb9f3a"
             ],
             [
              0.8888888888888888,
              "#fdca26"
             ],
             [
              1,
              "#f0f921"
             ]
            ],
            "type": "contour"
           }
          ],
          "contourcarpet": [
           {
            "colorbar": {
             "outlinewidth": 0,
             "ticks": ""
            },
            "type": "contourcarpet"
           }
          ],
          "heatmap": [
           {
            "colorbar": {
             "outlinewidth": 0,
             "ticks": ""
            },
            "colorscale": [
             [
              0,
              "#0d0887"
             ],
             [
              0.1111111111111111,
              "#46039f"
             ],
             [
              0.2222222222222222,
              "#7201a8"
             ],
             [
              0.3333333333333333,
              "#9c179e"
             ],
             [
              0.4444444444444444,
              "#bd3786"
             ],
             [
              0.5555555555555556,
              "#d8576b"
             ],
             [
              0.6666666666666666,
              "#ed7953"
             ],
             [
              0.7777777777777778,
              "#fb9f3a"
             ],
             [
              0.8888888888888888,
              "#fdca26"
             ],
             [
              1,
              "#f0f921"
             ]
            ],
            "type": "heatmap"
           }
          ],
          "heatmapgl": [
           {
            "colorbar": {
             "outlinewidth": 0,
             "ticks": ""
            },
            "colorscale": [
             [
              0,
              "#0d0887"
             ],
             [
              0.1111111111111111,
              "#46039f"
             ],
             [
              0.2222222222222222,
              "#7201a8"
             ],
             [
              0.3333333333333333,
              "#9c179e"
             ],
             [
              0.4444444444444444,
              "#bd3786"
             ],
             [
              0.5555555555555556,
              "#d8576b"
             ],
             [
              0.6666666666666666,
              "#ed7953"
             ],
             [
              0.7777777777777778,
              "#fb9f3a"
             ],
             [
              0.8888888888888888,
              "#fdca26"
             ],
             [
              1,
              "#f0f921"
             ]
            ],
            "type": "heatmapgl"
           }
          ],
          "histogram": [
           {
            "marker": {
             "pattern": {
              "fillmode": "overlay",
              "size": 10,
              "solidity": 0.2
             }
            },
            "type": "histogram"
           }
          ],
          "histogram2d": [
           {
            "colorbar": {
             "outlinewidth": 0,
             "ticks": ""
            },
            "colorscale": [
             [
              0,
              "#0d0887"
             ],
             [
              0.1111111111111111,
              "#46039f"
             ],
             [
              0.2222222222222222,
              "#7201a8"
             ],
             [
              0.3333333333333333,
              "#9c179e"
             ],
             [
              0.4444444444444444,
              "#bd3786"
             ],
             [
              0.5555555555555556,
              "#d8576b"
             ],
             [
              0.6666666666666666,
              "#ed7953"
             ],
             [
              0.7777777777777778,
              "#fb9f3a"
             ],
             [
              0.8888888888888888,
              "#fdca26"
             ],
             [
              1,
              "#f0f921"
             ]
            ],
            "type": "histogram2d"
           }
          ],
          "histogram2dcontour": [
           {
            "colorbar": {
             "outlinewidth": 0,
             "ticks": ""
            },
            "colorscale": [
             [
              0,
              "#0d0887"
             ],
             [
              0.1111111111111111,
              "#46039f"
             ],
             [
              0.2222222222222222,
              "#7201a8"
             ],
             [
              0.3333333333333333,
              "#9c179e"
             ],
             [
              0.4444444444444444,
              "#bd3786"
             ],
             [
              0.5555555555555556,
              "#d8576b"
             ],
             [
              0.6666666666666666,
              "#ed7953"
             ],
             [
              0.7777777777777778,
              "#fb9f3a"
             ],
             [
              0.8888888888888888,
              "#fdca26"
             ],
             [
              1,
              "#f0f921"
             ]
            ],
            "type": "histogram2dcontour"
           }
          ],
          "mesh3d": [
           {
            "colorbar": {
             "outlinewidth": 0,
             "ticks": ""
            },
            "type": "mesh3d"
           }
          ],
          "parcoords": [
           {
            "line": {
             "colorbar": {
              "outlinewidth": 0,
              "ticks": ""
             }
            },
            "type": "parcoords"
           }
          ],
          "pie": [
           {
            "automargin": true,
            "type": "pie"
           }
          ],
          "scatter": [
           {
            "fillpattern": {
             "fillmode": "overlay",
             "size": 10,
             "solidity": 0.2
            },
            "type": "scatter"
           }
          ],
          "scatter3d": [
           {
            "line": {
             "colorbar": {
              "outlinewidth": 0,
              "ticks": ""
             }
            },
            "marker": {
             "colorbar": {
              "outlinewidth": 0,
              "ticks": ""
             }
            },
            "type": "scatter3d"
           }
          ],
          "scattercarpet": [
           {
            "marker": {
             "colorbar": {
              "outlinewidth": 0,
              "ticks": ""
             }
            },
            "type": "scattercarpet"
           }
          ],
          "scattergeo": [
           {
            "marker": {
             "colorbar": {
              "outlinewidth": 0,
              "ticks": ""
             }
            },
            "type": "scattergeo"
           }
          ],
          "scattergl": [
           {
            "marker": {
             "colorbar": {
              "outlinewidth": 0,
              "ticks": ""
             }
            },
            "type": "scattergl"
           }
          ],
          "scattermapbox": [
           {
            "marker": {
             "colorbar": {
              "outlinewidth": 0,
              "ticks": ""
             }
            },
            "type": "scattermapbox"
           }
          ],
          "scatterpolar": [
           {
            "marker": {
             "colorbar": {
              "outlinewidth": 0,
              "ticks": ""
             }
            },
            "type": "scatterpolar"
           }
          ],
          "scatterpolargl": [
           {
            "marker": {
             "colorbar": {
              "outlinewidth": 0,
              "ticks": ""
             }
            },
            "type": "scatterpolargl"
           }
          ],
          "scatterternary": [
           {
            "marker": {
             "colorbar": {
              "outlinewidth": 0,
              "ticks": ""
             }
            },
            "type": "scatterternary"
           }
          ],
          "surface": [
           {
            "colorbar": {
             "outlinewidth": 0,
             "ticks": ""
            },
            "colorscale": [
             [
              0,
              "#0d0887"
             ],
             [
              0.1111111111111111,
              "#46039f"
             ],
             [
              0.2222222222222222,
              "#7201a8"
             ],
             [
              0.3333333333333333,
              "#9c179e"
             ],
             [
              0.4444444444444444,
              "#bd3786"
             ],
             [
              0.5555555555555556,
              "#d8576b"
             ],
             [
              0.6666666666666666,
              "#ed7953"
             ],
             [
              0.7777777777777778,
              "#fb9f3a"
             ],
             [
              0.8888888888888888,
              "#fdca26"
             ],
             [
              1,
              "#f0f921"
             ]
            ],
            "type": "surface"
           }
          ],
          "table": [
           {
            "cells": {
             "fill": {
              "color": "#EBF0F8"
             },
             "line": {
              "color": "white"
             }
            },
            "header": {
             "fill": {
              "color": "#C8D4E3"
             },
             "line": {
              "color": "white"
             }
            },
            "type": "table"
           }
          ]
         },
         "layout": {
          "annotationdefaults": {
           "arrowcolor": "#2a3f5f",
           "arrowhead": 0,
           "arrowwidth": 1
          },
          "autotypenumbers": "strict",
          "coloraxis": {
           "colorbar": {
            "outlinewidth": 0,
            "ticks": ""
           }
          },
          "colorscale": {
           "diverging": [
            [
             0,
             "#8e0152"
            ],
            [
             0.1,
             "#c51b7d"
            ],
            [
             0.2,
             "#de77ae"
            ],
            [
             0.3,
             "#f1b6da"
            ],
            [
             0.4,
             "#fde0ef"
            ],
            [
             0.5,
             "#f7f7f7"
            ],
            [
             0.6,
             "#e6f5d0"
            ],
            [
             0.7,
             "#b8e186"
            ],
            [
             0.8,
             "#7fbc41"
            ],
            [
             0.9,
             "#4d9221"
            ],
            [
             1,
             "#276419"
            ]
           ],
           "sequential": [
            [
             0,
             "#0d0887"
            ],
            [
             0.1111111111111111,
             "#46039f"
            ],
            [
             0.2222222222222222,
             "#7201a8"
            ],
            [
             0.3333333333333333,
             "#9c179e"
            ],
            [
             0.4444444444444444,
             "#bd3786"
            ],
            [
             0.5555555555555556,
             "#d8576b"
            ],
            [
             0.6666666666666666,
             "#ed7953"
            ],
            [
             0.7777777777777778,
             "#fb9f3a"
            ],
            [
             0.8888888888888888,
             "#fdca26"
            ],
            [
             1,
             "#f0f921"
            ]
           ],
           "sequentialminus": [
            [
             0,
             "#0d0887"
            ],
            [
             0.1111111111111111,
             "#46039f"
            ],
            [
             0.2222222222222222,
             "#7201a8"
            ],
            [
             0.3333333333333333,
             "#9c179e"
            ],
            [
             0.4444444444444444,
             "#bd3786"
            ],
            [
             0.5555555555555556,
             "#d8576b"
            ],
            [
             0.6666666666666666,
             "#ed7953"
            ],
            [
             0.7777777777777778,
             "#fb9f3a"
            ],
            [
             0.8888888888888888,
             "#fdca26"
            ],
            [
             1,
             "#f0f921"
            ]
           ]
          },
          "colorway": [
           "#636efa",
           "#EF553B",
           "#00cc96",
           "#ab63fa",
           "#FFA15A",
           "#19d3f3",
           "#FF6692",
           "#B6E880",
           "#FF97FF",
           "#FECB52"
          ],
          "font": {
           "color": "#2a3f5f"
          },
          "geo": {
           "bgcolor": "white",
           "lakecolor": "white",
           "landcolor": "#E5ECF6",
           "showlakes": true,
           "showland": true,
           "subunitcolor": "white"
          },
          "hoverlabel": {
           "align": "left"
          },
          "hovermode": "closest",
          "mapbox": {
           "style": "light"
          },
          "paper_bgcolor": "white",
          "plot_bgcolor": "#E5ECF6",
          "polar": {
           "angularaxis": {
            "gridcolor": "white",
            "linecolor": "white",
            "ticks": ""
           },
           "bgcolor": "#E5ECF6",
           "radialaxis": {
            "gridcolor": "white",
            "linecolor": "white",
            "ticks": ""
           }
          },
          "scene": {
           "xaxis": {
            "backgroundcolor": "#E5ECF6",
            "gridcolor": "white",
            "gridwidth": 2,
            "linecolor": "white",
            "showbackground": true,
            "ticks": "",
            "zerolinecolor": "white"
           },
           "yaxis": {
            "backgroundcolor": "#E5ECF6",
            "gridcolor": "white",
            "gridwidth": 2,
            "linecolor": "white",
            "showbackground": true,
            "ticks": "",
            "zerolinecolor": "white"
           },
           "zaxis": {
            "backgroundcolor": "#E5ECF6",
            "gridcolor": "white",
            "gridwidth": 2,
            "linecolor": "white",
            "showbackground": true,
            "ticks": "",
            "zerolinecolor": "white"
           }
          },
          "shapedefaults": {
           "line": {
            "color": "#2a3f5f"
           }
          },
          "ternary": {
           "aaxis": {
            "gridcolor": "white",
            "linecolor": "white",
            "ticks": ""
           },
           "baxis": {
            "gridcolor": "white",
            "linecolor": "white",
            "ticks": ""
           },
           "bgcolor": "#E5ECF6",
           "caxis": {
            "gridcolor": "white",
            "linecolor": "white",
            "ticks": ""
           }
          },
          "title": {
           "x": 0.05
          },
          "xaxis": {
           "automargin": true,
           "gridcolor": "white",
           "linecolor": "white",
           "ticks": "",
           "title": {
            "standoff": 15
           },
           "zerolinecolor": "white",
           "zerolinewidth": 2
          },
          "yaxis": {
           "automargin": true,
           "gridcolor": "white",
           "linecolor": "white",
           "ticks": "",
           "title": {
            "standoff": 15
           },
           "zerolinecolor": "white",
           "zerolinewidth": 2
          }
         }
        },
        "title": {
         "text": "Number of individiuals with specific age for Football"
        },
        "xaxis": {
         "anchor": "y",
         "domain": [
          0,
          1
         ],
         "title": {
          "text": "Age"
         }
        },
        "yaxis": {
         "anchor": "x",
         "domain": [
          0,
          1
         ],
         "title": {
          "text": "Number of athletes"
         }
        }
       }
      }
     },
     "metadata": {},
     "output_type": "display_data"
    },
    {
     "data": {
      "application/vnd.plotly.v1+json": {
       "config": {
        "plotlyServerURL": "https://plot.ly"
       },
       "data": [
        {
         "alignmentgroup": "True",
         "hovertemplate": "Age=%{marker.color}<br>Number of athletes=%{y}<extra></extra>",
         "legendgroup": "",
         "marker": {
          "color": [
           11,
           12,
           13,
           14,
           15,
           16,
           17,
           18,
           19,
           20,
           21,
           22,
           23,
           24,
           25,
           26,
           27,
           28,
           29,
           30,
           31,
           32,
           33,
           34,
           35,
           36,
           37,
           38,
           39,
           40,
           41,
           46
          ],
          "coloraxis": "coloraxis",
          "pattern": {
           "shape": ""
          }
         },
         "name": "",
         "offsetgroup": "",
         "orientation": "v",
         "showlegend": false,
         "textposition": "auto",
         "type": "bar",
         "x": [
          11,
          12,
          13,
          14,
          15,
          16,
          17,
          18,
          19,
          20,
          21,
          22,
          23,
          24,
          25,
          26,
          27,
          28,
          29,
          30,
          31,
          32,
          33,
          34,
          35,
          36,
          37,
          38,
          39,
          40,
          41,
          46
         ],
         "xaxis": "x",
         "y": [
          4,
          21,
          110,
          384,
          882,
          1497,
          1965,
          2377,
          2546,
          2261,
          2345,
          2015,
          1698,
          1326,
          965,
          691,
          561,
          361,
          239,
          151,
          91,
          66,
          40,
          27,
          16,
          14,
          5,
          4,
          1,
          3,
          4,
          1
         ],
         "yaxis": "y"
        }
       ],
       "layout": {
        "barmode": "relative",
        "coloraxis": {
         "colorbar": {
          "title": {
           "text": "Age"
          }
         },
         "colorscale": [
          [
           0,
           "#0d0887"
          ],
          [
           0.1111111111111111,
           "#46039f"
          ],
          [
           0.2222222222222222,
           "#7201a8"
          ],
          [
           0.3333333333333333,
           "#9c179e"
          ],
          [
           0.4444444444444444,
           "#bd3786"
          ],
          [
           0.5555555555555556,
           "#d8576b"
          ],
          [
           0.6666666666666666,
           "#ed7953"
          ],
          [
           0.7777777777777778,
           "#fb9f3a"
          ],
          [
           0.8888888888888888,
           "#fdca26"
          ],
          [
           1,
           "#f0f921"
          ]
         ]
        },
        "legend": {
         "tracegroupgap": 0
        },
        "template": {
         "data": {
          "bar": [
           {
            "error_x": {
             "color": "#2a3f5f"
            },
            "error_y": {
             "color": "#2a3f5f"
            },
            "marker": {
             "line": {
              "color": "#E5ECF6",
              "width": 0.5
             },
             "pattern": {
              "fillmode": "overlay",
              "size": 10,
              "solidity": 0.2
             }
            },
            "type": "bar"
           }
          ],
          "barpolar": [
           {
            "marker": {
             "line": {
              "color": "#E5ECF6",
              "width": 0.5
             },
             "pattern": {
              "fillmode": "overlay",
              "size": 10,
              "solidity": 0.2
             }
            },
            "type": "barpolar"
           }
          ],
          "carpet": [
           {
            "aaxis": {
             "endlinecolor": "#2a3f5f",
             "gridcolor": "white",
             "linecolor": "white",
             "minorgridcolor": "white",
             "startlinecolor": "#2a3f5f"
            },
            "baxis": {
             "endlinecolor": "#2a3f5f",
             "gridcolor": "white",
             "linecolor": "white",
             "minorgridcolor": "white",
             "startlinecolor": "#2a3f5f"
            },
            "type": "carpet"
           }
          ],
          "choropleth": [
           {
            "colorbar": {
             "outlinewidth": 0,
             "ticks": ""
            },
            "type": "choropleth"
           }
          ],
          "contour": [
           {
            "colorbar": {
             "outlinewidth": 0,
             "ticks": ""
            },
            "colorscale": [
             [
              0,
              "#0d0887"
             ],
             [
              0.1111111111111111,
              "#46039f"
             ],
             [
              0.2222222222222222,
              "#7201a8"
             ],
             [
              0.3333333333333333,
              "#9c179e"
             ],
             [
              0.4444444444444444,
              "#bd3786"
             ],
             [
              0.5555555555555556,
              "#d8576b"
             ],
             [
              0.6666666666666666,
              "#ed7953"
             ],
             [
              0.7777777777777778,
              "#fb9f3a"
             ],
             [
              0.8888888888888888,
              "#fdca26"
             ],
             [
              1,
              "#f0f921"
             ]
            ],
            "type": "contour"
           }
          ],
          "contourcarpet": [
           {
            "colorbar": {
             "outlinewidth": 0,
             "ticks": ""
            },
            "type": "contourcarpet"
           }
          ],
          "heatmap": [
           {
            "colorbar": {
             "outlinewidth": 0,
             "ticks": ""
            },
            "colorscale": [
             [
              0,
              "#0d0887"
             ],
             [
              0.1111111111111111,
              "#46039f"
             ],
             [
              0.2222222222222222,
              "#7201a8"
             ],
             [
              0.3333333333333333,
              "#9c179e"
             ],
             [
              0.4444444444444444,
              "#bd3786"
             ],
             [
              0.5555555555555556,
              "#d8576b"
             ],
             [
              0.6666666666666666,
              "#ed7953"
             ],
             [
              0.7777777777777778,
              "#fb9f3a"
             ],
             [
              0.8888888888888888,
              "#fdca26"
             ],
             [
              1,
              "#f0f921"
             ]
            ],
            "type": "heatmap"
           }
          ],
          "heatmapgl": [
           {
            "colorbar": {
             "outlinewidth": 0,
             "ticks": ""
            },
            "colorscale": [
             [
              0,
              "#0d0887"
             ],
             [
              0.1111111111111111,
              "#46039f"
             ],
             [
              0.2222222222222222,
              "#7201a8"
             ],
             [
              0.3333333333333333,
              "#9c179e"
             ],
             [
              0.4444444444444444,
              "#bd3786"
             ],
             [
              0.5555555555555556,
              "#d8576b"
             ],
             [
              0.6666666666666666,
              "#ed7953"
             ],
             [
              0.7777777777777778,
              "#fb9f3a"
             ],
             [
              0.8888888888888888,
              "#fdca26"
             ],
             [
              1,
              "#f0f921"
             ]
            ],
            "type": "heatmapgl"
           }
          ],
          "histogram": [
           {
            "marker": {
             "pattern": {
              "fillmode": "overlay",
              "size": 10,
              "solidity": 0.2
             }
            },
            "type": "histogram"
           }
          ],
          "histogram2d": [
           {
            "colorbar": {
             "outlinewidth": 0,
             "ticks": ""
            },
            "colorscale": [
             [
              0,
              "#0d0887"
             ],
             [
              0.1111111111111111,
              "#46039f"
             ],
             [
              0.2222222222222222,
              "#7201a8"
             ],
             [
              0.3333333333333333,
              "#9c179e"
             ],
             [
              0.4444444444444444,
              "#bd3786"
             ],
             [
              0.5555555555555556,
              "#d8576b"
             ],
             [
              0.6666666666666666,
              "#ed7953"
             ],
             [
              0.7777777777777778,
              "#fb9f3a"
             ],
             [
              0.8888888888888888,
              "#fdca26"
             ],
             [
              1,
              "#f0f921"
             ]
            ],
            "type": "histogram2d"
           }
          ],
          "histogram2dcontour": [
           {
            "colorbar": {
             "outlinewidth": 0,
             "ticks": ""
            },
            "colorscale": [
             [
              0,
              "#0d0887"
             ],
             [
              0.1111111111111111,
              "#46039f"
             ],
             [
              0.2222222222222222,
              "#7201a8"
             ],
             [
              0.3333333333333333,
              "#9c179e"
             ],
             [
              0.4444444444444444,
              "#bd3786"
             ],
             [
              0.5555555555555556,
              "#d8576b"
             ],
             [
              0.6666666666666666,
              "#ed7953"
             ],
             [
              0.7777777777777778,
              "#fb9f3a"
             ],
             [
              0.8888888888888888,
              "#fdca26"
             ],
             [
              1,
              "#f0f921"
             ]
            ],
            "type": "histogram2dcontour"
           }
          ],
          "mesh3d": [
           {
            "colorbar": {
             "outlinewidth": 0,
             "ticks": ""
            },
            "type": "mesh3d"
           }
          ],
          "parcoords": [
           {
            "line": {
             "colorbar": {
              "outlinewidth": 0,
              "ticks": ""
             }
            },
            "type": "parcoords"
           }
          ],
          "pie": [
           {
            "automargin": true,
            "type": "pie"
           }
          ],
          "scatter": [
           {
            "fillpattern": {
             "fillmode": "overlay",
             "size": 10,
             "solidity": 0.2
            },
            "type": "scatter"
           }
          ],
          "scatter3d": [
           {
            "line": {
             "colorbar": {
              "outlinewidth": 0,
              "ticks": ""
             }
            },
            "marker": {
             "colorbar": {
              "outlinewidth": 0,
              "ticks": ""
             }
            },
            "type": "scatter3d"
           }
          ],
          "scattercarpet": [
           {
            "marker": {
             "colorbar": {
              "outlinewidth": 0,
              "ticks": ""
             }
            },
            "type": "scattercarpet"
           }
          ],
          "scattergeo": [
           {
            "marker": {
             "colorbar": {
              "outlinewidth": 0,
              "ticks": ""
             }
            },
            "type": "scattergeo"
           }
          ],
          "scattergl": [
           {
            "marker": {
             "colorbar": {
              "outlinewidth": 0,
              "ticks": ""
             }
            },
            "type": "scattergl"
           }
          ],
          "scattermapbox": [
           {
            "marker": {
             "colorbar": {
              "outlinewidth": 0,
              "ticks": ""
             }
            },
            "type": "scattermapbox"
           }
          ],
          "scatterpolar": [
           {
            "marker": {
             "colorbar": {
              "outlinewidth": 0,
              "ticks": ""
             }
            },
            "type": "scatterpolar"
           }
          ],
          "scatterpolargl": [
           {
            "marker": {
             "colorbar": {
              "outlinewidth": 0,
              "ticks": ""
             }
            },
            "type": "scatterpolargl"
           }
          ],
          "scatterternary": [
           {
            "marker": {
             "colorbar": {
              "outlinewidth": 0,
              "ticks": ""
             }
            },
            "type": "scatterternary"
           }
          ],
          "surface": [
           {
            "colorbar": {
             "outlinewidth": 0,
             "ticks": ""
            },
            "colorscale": [
             [
              0,
              "#0d0887"
             ],
             [
              0.1111111111111111,
              "#46039f"
             ],
             [
              0.2222222222222222,
              "#7201a8"
             ],
             [
              0.3333333333333333,
              "#9c179e"
             ],
             [
              0.4444444444444444,
              "#bd3786"
             ],
             [
              0.5555555555555556,
              "#d8576b"
             ],
             [
              0.6666666666666666,
              "#ed7953"
             ],
             [
              0.7777777777777778,
              "#fb9f3a"
             ],
             [
              0.8888888888888888,
              "#fdca26"
             ],
             [
              1,
              "#f0f921"
             ]
            ],
            "type": "surface"
           }
          ],
          "table": [
           {
            "cells": {
             "fill": {
              "color": "#EBF0F8"
             },
             "line": {
              "color": "white"
             }
            },
            "header": {
             "fill": {
              "color": "#C8D4E3"
             },
             "line": {
              "color": "white"
             }
            },
            "type": "table"
           }
          ]
         },
         "layout": {
          "annotationdefaults": {
           "arrowcolor": "#2a3f5f",
           "arrowhead": 0,
           "arrowwidth": 1
          },
          "autotypenumbers": "strict",
          "coloraxis": {
           "colorbar": {
            "outlinewidth": 0,
            "ticks": ""
           }
          },
          "colorscale": {
           "diverging": [
            [
             0,
             "#8e0152"
            ],
            [
             0.1,
             "#c51b7d"
            ],
            [
             0.2,
             "#de77ae"
            ],
            [
             0.3,
             "#f1b6da"
            ],
            [
             0.4,
             "#fde0ef"
            ],
            [
             0.5,
             "#f7f7f7"
            ],
            [
             0.6,
             "#e6f5d0"
            ],
            [
             0.7,
             "#b8e186"
            ],
            [
             0.8,
             "#7fbc41"
            ],
            [
             0.9,
             "#4d9221"
            ],
            [
             1,
             "#276419"
            ]
           ],
           "sequential": [
            [
             0,
             "#0d0887"
            ],
            [
             0.1111111111111111,
             "#46039f"
            ],
            [
             0.2222222222222222,
             "#7201a8"
            ],
            [
             0.3333333333333333,
             "#9c179e"
            ],
            [
             0.4444444444444444,
             "#bd3786"
            ],
            [
             0.5555555555555556,
             "#d8576b"
            ],
            [
             0.6666666666666666,
             "#ed7953"
            ],
            [
             0.7777777777777778,
             "#fb9f3a"
            ],
            [
             0.8888888888888888,
             "#fdca26"
            ],
            [
             1,
             "#f0f921"
            ]
           ],
           "sequentialminus": [
            [
             0,
             "#0d0887"
            ],
            [
             0.1111111111111111,
             "#46039f"
            ],
            [
             0.2222222222222222,
             "#7201a8"
            ],
            [
             0.3333333333333333,
             "#9c179e"
            ],
            [
             0.4444444444444444,
             "#bd3786"
            ],
            [
             0.5555555555555556,
             "#d8576b"
            ],
            [
             0.6666666666666666,
             "#ed7953"
            ],
            [
             0.7777777777777778,
             "#fb9f3a"
            ],
            [
             0.8888888888888888,
             "#fdca26"
            ],
            [
             1,
             "#f0f921"
            ]
           ]
          },
          "colorway": [
           "#636efa",
           "#EF553B",
           "#00cc96",
           "#ab63fa",
           "#FFA15A",
           "#19d3f3",
           "#FF6692",
           "#B6E880",
           "#FF97FF",
           "#FECB52"
          ],
          "font": {
           "color": "#2a3f5f"
          },
          "geo": {
           "bgcolor": "white",
           "lakecolor": "white",
           "landcolor": "#E5ECF6",
           "showlakes": true,
           "showland": true,
           "subunitcolor": "white"
          },
          "hoverlabel": {
           "align": "left"
          },
          "hovermode": "closest",
          "mapbox": {
           "style": "light"
          },
          "paper_bgcolor": "white",
          "plot_bgcolor": "#E5ECF6",
          "polar": {
           "angularaxis": {
            "gridcolor": "white",
            "linecolor": "white",
            "ticks": ""
           },
           "bgcolor": "#E5ECF6",
           "radialaxis": {
            "gridcolor": "white",
            "linecolor": "white",
            "ticks": ""
           }
          },
          "scene": {
           "xaxis": {
            "backgroundcolor": "#E5ECF6",
            "gridcolor": "white",
            "gridwidth": 2,
            "linecolor": "white",
            "showbackground": true,
            "ticks": "",
            "zerolinecolor": "white"
           },
           "yaxis": {
            "backgroundcolor": "#E5ECF6",
            "gridcolor": "white",
            "gridwidth": 2,
            "linecolor": "white",
            "showbackground": true,
            "ticks": "",
            "zerolinecolor": "white"
           },
           "zaxis": {
            "backgroundcolor": "#E5ECF6",
            "gridcolor": "white",
            "gridwidth": 2,
            "linecolor": "white",
            "showbackground": true,
            "ticks": "",
            "zerolinecolor": "white"
           }
          },
          "shapedefaults": {
           "line": {
            "color": "#2a3f5f"
           }
          },
          "ternary": {
           "aaxis": {
            "gridcolor": "white",
            "linecolor": "white",
            "ticks": ""
           },
           "baxis": {
            "gridcolor": "white",
            "linecolor": "white",
            "ticks": ""
           },
           "bgcolor": "#E5ECF6",
           "caxis": {
            "gridcolor": "white",
            "linecolor": "white",
            "ticks": ""
           }
          },
          "title": {
           "x": 0.05
          },
          "xaxis": {
           "automargin": true,
           "gridcolor": "white",
           "linecolor": "white",
           "ticks": "",
           "title": {
            "standoff": 15
           },
           "zerolinecolor": "white",
           "zerolinewidth": 2
          },
          "yaxis": {
           "automargin": true,
           "gridcolor": "white",
           "linecolor": "white",
           "ticks": "",
           "title": {
            "standoff": 15
           },
           "zerolinecolor": "white",
           "zerolinewidth": 2
          }
         }
        },
        "title": {
         "text": "Number of individiuals with specific age for Swimming"
        },
        "xaxis": {
         "anchor": "y",
         "domain": [
          0,
          1
         ],
         "title": {
          "text": "Age"
         }
        },
        "yaxis": {
         "anchor": "x",
         "domain": [
          0,
          1
         ],
         "title": {
          "text": "Number of athletes"
         }
        }
       }
      }
     },
     "metadata": {},
     "output_type": "display_data"
    },
    {
     "data": {
      "application/vnd.plotly.v1+json": {
       "config": {
        "plotlyServerURL": "https://plot.ly"
       },
       "data": [
        {
         "alignmentgroup": "True",
         "hovertemplate": "Age=%{marker.color}<br>Number of athletes=%{y}<extra></extra>",
         "legendgroup": "",
         "marker": {
          "color": [
           15,
           16,
           17,
           18,
           19,
           20,
           21,
           22,
           23,
           24,
           25,
           26,
           27,
           28,
           29,
           30,
           31,
           32,
           33,
           34,
           35,
           36,
           37,
           38,
           41
          ],
          "coloraxis": "coloraxis",
          "pattern": {
           "shape": ""
          }
         },
         "name": "",
         "offsetgroup": "",
         "orientation": "v",
         "showlegend": false,
         "textposition": "auto",
         "type": "bar",
         "x": [
          15,
          16,
          17,
          18,
          19,
          20,
          21,
          22,
          23,
          24,
          25,
          26,
          27,
          28,
          29,
          30,
          31,
          32,
          33,
          34,
          35,
          36,
          37,
          38,
          41
         ],
         "xaxis": "x",
         "y": [
          5,
          16,
          108,
          229,
          435,
          650,
          646,
          728,
          620,
          527,
          478,
          368,
          288,
          215,
          150,
          101,
          57,
          54,
          26,
          12,
          5,
          6,
          2,
          2,
          1
         ],
         "yaxis": "y"
        }
       ],
       "layout": {
        "barmode": "relative",
        "coloraxis": {
         "colorbar": {
          "title": {
           "text": "Age"
          }
         },
         "colorscale": [
          [
           0,
           "#0d0887"
          ],
          [
           0.1111111111111111,
           "#46039f"
          ],
          [
           0.2222222222222222,
           "#7201a8"
          ],
          [
           0.3333333333333333,
           "#9c179e"
          ],
          [
           0.4444444444444444,
           "#bd3786"
          ],
          [
           0.5555555555555556,
           "#d8576b"
          ],
          [
           0.6666666666666666,
           "#ed7953"
          ],
          [
           0.7777777777777778,
           "#fb9f3a"
          ],
          [
           0.8888888888888888,
           "#fdca26"
          ],
          [
           1,
           "#f0f921"
          ]
         ]
        },
        "legend": {
         "tracegroupgap": 0
        },
        "template": {
         "data": {
          "bar": [
           {
            "error_x": {
             "color": "#2a3f5f"
            },
            "error_y": {
             "color": "#2a3f5f"
            },
            "marker": {
             "line": {
              "color": "#E5ECF6",
              "width": 0.5
             },
             "pattern": {
              "fillmode": "overlay",
              "size": 10,
              "solidity": 0.2
             }
            },
            "type": "bar"
           }
          ],
          "barpolar": [
           {
            "marker": {
             "line": {
              "color": "#E5ECF6",
              "width": 0.5
             },
             "pattern": {
              "fillmode": "overlay",
              "size": 10,
              "solidity": 0.2
             }
            },
            "type": "barpolar"
           }
          ],
          "carpet": [
           {
            "aaxis": {
             "endlinecolor": "#2a3f5f",
             "gridcolor": "white",
             "linecolor": "white",
             "minorgridcolor": "white",
             "startlinecolor": "#2a3f5f"
            },
            "baxis": {
             "endlinecolor": "#2a3f5f",
             "gridcolor": "white",
             "linecolor": "white",
             "minorgridcolor": "white",
             "startlinecolor": "#2a3f5f"
            },
            "type": "carpet"
           }
          ],
          "choropleth": [
           {
            "colorbar": {
             "outlinewidth": 0,
             "ticks": ""
            },
            "type": "choropleth"
           }
          ],
          "contour": [
           {
            "colorbar": {
             "outlinewidth": 0,
             "ticks": ""
            },
            "colorscale": [
             [
              0,
              "#0d0887"
             ],
             [
              0.1111111111111111,
              "#46039f"
             ],
             [
              0.2222222222222222,
              "#7201a8"
             ],
             [
              0.3333333333333333,
              "#9c179e"
             ],
             [
              0.4444444444444444,
              "#bd3786"
             ],
             [
              0.5555555555555556,
              "#d8576b"
             ],
             [
              0.6666666666666666,
              "#ed7953"
             ],
             [
              0.7777777777777778,
              "#fb9f3a"
             ],
             [
              0.8888888888888888,
              "#fdca26"
             ],
             [
              1,
              "#f0f921"
             ]
            ],
            "type": "contour"
           }
          ],
          "contourcarpet": [
           {
            "colorbar": {
             "outlinewidth": 0,
             "ticks": ""
            },
            "type": "contourcarpet"
           }
          ],
          "heatmap": [
           {
            "colorbar": {
             "outlinewidth": 0,
             "ticks": ""
            },
            "colorscale": [
             [
              0,
              "#0d0887"
             ],
             [
              0.1111111111111111,
              "#46039f"
             ],
             [
              0.2222222222222222,
              "#7201a8"
             ],
             [
              0.3333333333333333,
              "#9c179e"
             ],
             [
              0.4444444444444444,
              "#bd3786"
             ],
             [
              0.5555555555555556,
              "#d8576b"
             ],
             [
              0.6666666666666666,
              "#ed7953"
             ],
             [
              0.7777777777777778,
              "#fb9f3a"
             ],
             [
              0.8888888888888888,
              "#fdca26"
             ],
             [
              1,
              "#f0f921"
             ]
            ],
            "type": "heatmap"
           }
          ],
          "heatmapgl": [
           {
            "colorbar": {
             "outlinewidth": 0,
             "ticks": ""
            },
            "colorscale": [
             [
              0,
              "#0d0887"
             ],
             [
              0.1111111111111111,
              "#46039f"
             ],
             [
              0.2222222222222222,
              "#7201a8"
             ],
             [
              0.3333333333333333,
              "#9c179e"
             ],
             [
              0.4444444444444444,
              "#bd3786"
             ],
             [
              0.5555555555555556,
              "#d8576b"
             ],
             [
              0.6666666666666666,
              "#ed7953"
             ],
             [
              0.7777777777777778,
              "#fb9f3a"
             ],
             [
              0.8888888888888888,
              "#fdca26"
             ],
             [
              1,
              "#f0f921"
             ]
            ],
            "type": "heatmapgl"
           }
          ],
          "histogram": [
           {
            "marker": {
             "pattern": {
              "fillmode": "overlay",
              "size": 10,
              "solidity": 0.2
             }
            },
            "type": "histogram"
           }
          ],
          "histogram2d": [
           {
            "colorbar": {
             "outlinewidth": 0,
             "ticks": ""
            },
            "colorscale": [
             [
              0,
              "#0d0887"
             ],
             [
              0.1111111111111111,
              "#46039f"
             ],
             [
              0.2222222222222222,
              "#7201a8"
             ],
             [
              0.3333333333333333,
              "#9c179e"
             ],
             [
              0.4444444444444444,
              "#bd3786"
             ],
             [
              0.5555555555555556,
              "#d8576b"
             ],
             [
              0.6666666666666666,
              "#ed7953"
             ],
             [
              0.7777777777777778,
              "#fb9f3a"
             ],
             [
              0.8888888888888888,
              "#fdca26"
             ],
             [
              1,
              "#f0f921"
             ]
            ],
            "type": "histogram2d"
           }
          ],
          "histogram2dcontour": [
           {
            "colorbar": {
             "outlinewidth": 0,
             "ticks": ""
            },
            "colorscale": [
             [
              0,
              "#0d0887"
             ],
             [
              0.1111111111111111,
              "#46039f"
             ],
             [
              0.2222222222222222,
              "#7201a8"
             ],
             [
              0.3333333333333333,
              "#9c179e"
             ],
             [
              0.4444444444444444,
              "#bd3786"
             ],
             [
              0.5555555555555556,
              "#d8576b"
             ],
             [
              0.6666666666666666,
              "#ed7953"
             ],
             [
              0.7777777777777778,
              "#fb9f3a"
             ],
             [
              0.8888888888888888,
              "#fdca26"
             ],
             [
              1,
              "#f0f921"
             ]
            ],
            "type": "histogram2dcontour"
           }
          ],
          "mesh3d": [
           {
            "colorbar": {
             "outlinewidth": 0,
             "ticks": ""
            },
            "type": "mesh3d"
           }
          ],
          "parcoords": [
           {
            "line": {
             "colorbar": {
              "outlinewidth": 0,
              "ticks": ""
             }
            },
            "type": "parcoords"
           }
          ],
          "pie": [
           {
            "automargin": true,
            "type": "pie"
           }
          ],
          "scatter": [
           {
            "fillpattern": {
             "fillmode": "overlay",
             "size": 10,
             "solidity": 0.2
            },
            "type": "scatter"
           }
          ],
          "scatter3d": [
           {
            "line": {
             "colorbar": {
              "outlinewidth": 0,
              "ticks": ""
             }
            },
            "marker": {
             "colorbar": {
              "outlinewidth": 0,
              "ticks": ""
             }
            },
            "type": "scatter3d"
           }
          ],
          "scattercarpet": [
           {
            "marker": {
             "colorbar": {
              "outlinewidth": 0,
              "ticks": ""
             }
            },
            "type": "scattercarpet"
           }
          ],
          "scattergeo": [
           {
            "marker": {
             "colorbar": {
              "outlinewidth": 0,
              "ticks": ""
             }
            },
            "type": "scattergeo"
           }
          ],
          "scattergl": [
           {
            "marker": {
             "colorbar": {
              "outlinewidth": 0,
              "ticks": ""
             }
            },
            "type": "scattergl"
           }
          ],
          "scattermapbox": [
           {
            "marker": {
             "colorbar": {
              "outlinewidth": 0,
              "ticks": ""
             }
            },
            "type": "scattermapbox"
           }
          ],
          "scatterpolar": [
           {
            "marker": {
             "colorbar": {
              "outlinewidth": 0,
              "ticks": ""
             }
            },
            "type": "scatterpolar"
           }
          ],
          "scatterpolargl": [
           {
            "marker": {
             "colorbar": {
              "outlinewidth": 0,
              "ticks": ""
             }
            },
            "type": "scatterpolargl"
           }
          ],
          "scatterternary": [
           {
            "marker": {
             "colorbar": {
              "outlinewidth": 0,
              "ticks": ""
             }
            },
            "type": "scatterternary"
           }
          ],
          "surface": [
           {
            "colorbar": {
             "outlinewidth": 0,
             "ticks": ""
            },
            "colorscale": [
             [
              0,
              "#0d0887"
             ],
             [
              0.1111111111111111,
              "#46039f"
             ],
             [
              0.2222222222222222,
              "#7201a8"
             ],
             [
              0.3333333333333333,
              "#9c179e"
             ],
             [
              0.4444444444444444,
              "#bd3786"
             ],
             [
              0.5555555555555556,
              "#d8576b"
             ],
             [
              0.6666666666666666,
              "#ed7953"
             ],
             [
              0.7777777777777778,
              "#fb9f3a"
             ],
             [
              0.8888888888888888,
              "#fdca26"
             ],
             [
              1,
              "#f0f921"
             ]
            ],
            "type": "surface"
           }
          ],
          "table": [
           {
            "cells": {
             "fill": {
              "color": "#EBF0F8"
             },
             "line": {
              "color": "white"
             }
            },
            "header": {
             "fill": {
              "color": "#C8D4E3"
             },
             "line": {
              "color": "white"
             }
            },
            "type": "table"
           }
          ]
         },
         "layout": {
          "annotationdefaults": {
           "arrowcolor": "#2a3f5f",
           "arrowhead": 0,
           "arrowwidth": 1
          },
          "autotypenumbers": "strict",
          "coloraxis": {
           "colorbar": {
            "outlinewidth": 0,
            "ticks": ""
           }
          },
          "colorscale": {
           "diverging": [
            [
             0,
             "#8e0152"
            ],
            [
             0.1,
             "#c51b7d"
            ],
            [
             0.2,
             "#de77ae"
            ],
            [
             0.3,
             "#f1b6da"
            ],
            [
             0.4,
             "#fde0ef"
            ],
            [
             0.5,
             "#f7f7f7"
            ],
            [
             0.6,
             "#e6f5d0"
            ],
            [
             0.7,
             "#b8e186"
            ],
            [
             0.8,
             "#7fbc41"
            ],
            [
             0.9,
             "#4d9221"
            ],
            [
             1,
             "#276419"
            ]
           ],
           "sequential": [
            [
             0,
             "#0d0887"
            ],
            [
             0.1111111111111111,
             "#46039f"
            ],
            [
             0.2222222222222222,
             "#7201a8"
            ],
            [
             0.3333333333333333,
             "#9c179e"
            ],
            [
             0.4444444444444444,
             "#bd3786"
            ],
            [
             0.5555555555555556,
             "#d8576b"
            ],
            [
             0.6666666666666666,
             "#ed7953"
            ],
            [
             0.7777777777777778,
             "#fb9f3a"
            ],
            [
             0.8888888888888888,
             "#fdca26"
            ],
            [
             1,
             "#f0f921"
            ]
           ],
           "sequentialminus": [
            [
             0,
             "#0d0887"
            ],
            [
             0.1111111111111111,
             "#46039f"
            ],
            [
             0.2222222222222222,
             "#7201a8"
            ],
            [
             0.3333333333333333,
             "#9c179e"
            ],
            [
             0.4444444444444444,
             "#bd3786"
            ],
            [
             0.5555555555555556,
             "#d8576b"
            ],
            [
             0.6666666666666666,
             "#ed7953"
            ],
            [
             0.7777777777777778,
             "#fb9f3a"
            ],
            [
             0.8888888888888888,
             "#fdca26"
            ],
            [
             1,
             "#f0f921"
            ]
           ]
          },
          "colorway": [
           "#636efa",
           "#EF553B",
           "#00cc96",
           "#ab63fa",
           "#FFA15A",
           "#19d3f3",
           "#FF6692",
           "#B6E880",
           "#FF97FF",
           "#FECB52"
          ],
          "font": {
           "color": "#2a3f5f"
          },
          "geo": {
           "bgcolor": "white",
           "lakecolor": "white",
           "landcolor": "#E5ECF6",
           "showlakes": true,
           "showland": true,
           "subunitcolor": "white"
          },
          "hoverlabel": {
           "align": "left"
          },
          "hovermode": "closest",
          "mapbox": {
           "style": "light"
          },
          "paper_bgcolor": "white",
          "plot_bgcolor": "#E5ECF6",
          "polar": {
           "angularaxis": {
            "gridcolor": "white",
            "linecolor": "white",
            "ticks": ""
           },
           "bgcolor": "#E5ECF6",
           "radialaxis": {
            "gridcolor": "white",
            "linecolor": "white",
            "ticks": ""
           }
          },
          "scene": {
           "xaxis": {
            "backgroundcolor": "#E5ECF6",
            "gridcolor": "white",
            "gridwidth": 2,
            "linecolor": "white",
            "showbackground": true,
            "ticks": "",
            "zerolinecolor": "white"
           },
           "yaxis": {
            "backgroundcolor": "#E5ECF6",
            "gridcolor": "white",
            "gridwidth": 2,
            "linecolor": "white",
            "showbackground": true,
            "ticks": "",
            "zerolinecolor": "white"
           },
           "zaxis": {
            "backgroundcolor": "#E5ECF6",
            "gridcolor": "white",
            "gridwidth": 2,
            "linecolor": "white",
            "showbackground": true,
            "ticks": "",
            "zerolinecolor": "white"
           }
          },
          "shapedefaults": {
           "line": {
            "color": "#2a3f5f"
           }
          },
          "ternary": {
           "aaxis": {
            "gridcolor": "white",
            "linecolor": "white",
            "ticks": ""
           },
           "baxis": {
            "gridcolor": "white",
            "linecolor": "white",
            "ticks": ""
           },
           "bgcolor": "#E5ECF6",
           "caxis": {
            "gridcolor": "white",
            "linecolor": "white",
            "ticks": ""
           }
          },
          "title": {
           "x": 0.05
          },
          "xaxis": {
           "automargin": true,
           "gridcolor": "white",
           "linecolor": "white",
           "ticks": "",
           "title": {
            "standoff": 15
           },
           "zerolinecolor": "white",
           "zerolinewidth": 2
          },
          "yaxis": {
           "automargin": true,
           "gridcolor": "white",
           "linecolor": "white",
           "ticks": "",
           "title": {
            "standoff": 15
           },
           "zerolinecolor": "white",
           "zerolinewidth": 2
          }
         }
        },
        "title": {
         "text": "Number of individiuals with specific age for Boxing"
        },
        "xaxis": {
         "anchor": "y",
         "domain": [
          0,
          1
         ],
         "title": {
          "text": "Age"
         }
        },
        "yaxis": {
         "anchor": "x",
         "domain": [
          0,
          1
         ],
         "title": {
          "text": "Number of athletes"
         }
        }
       }
      }
     },
     "metadata": {},
     "output_type": "display_data"
    },
    {
     "data": {
      "application/vnd.plotly.v1+json": {
       "config": {
        "plotlyServerURL": "https://plot.ly"
       },
       "data": [
        {
         "alignmentgroup": "True",
         "hovertemplate": "Age=%{marker.color}<br>Number of athletes=%{y}<extra></extra>",
         "legendgroup": "",
         "marker": {
          "color": [
           18,
           19,
           20,
           21,
           22,
           23,
           24,
           25,
           26,
           27,
           28,
           29,
           30,
           31,
           32,
           33,
           36,
           39
          ],
          "coloraxis": "coloraxis",
          "pattern": {
           "shape": ""
          }
         },
         "name": "",
         "offsetgroup": "",
         "orientation": "v",
         "showlegend": false,
         "textposition": "auto",
         "type": "bar",
         "x": [
          18,
          19,
          20,
          21,
          22,
          23,
          24,
          25,
          26,
          27,
          28,
          29,
          30,
          31,
          32,
          33,
          36,
          39
         ],
         "xaxis": "x",
         "y": [
          1,
          1,
          9,
          15,
          9,
          17,
          13,
          14,
          11,
          5,
          4,
          7,
          3,
          1,
          1,
          1,
          1,
          1
         ],
         "yaxis": "y"
        }
       ],
       "layout": {
        "barmode": "relative",
        "coloraxis": {
         "colorbar": {
          "title": {
           "text": "Age"
          }
         },
         "colorscale": [
          [
           0,
           "#0d0887"
          ],
          [
           0.1111111111111111,
           "#46039f"
          ],
          [
           0.2222222222222222,
           "#7201a8"
          ],
          [
           0.3333333333333333,
           "#9c179e"
          ],
          [
           0.4444444444444444,
           "#bd3786"
          ],
          [
           0.5555555555555556,
           "#d8576b"
          ],
          [
           0.6666666666666666,
           "#ed7953"
          ],
          [
           0.7777777777777778,
           "#fb9f3a"
          ],
          [
           0.8888888888888888,
           "#fdca26"
          ],
          [
           1,
           "#f0f921"
          ]
         ]
        },
        "legend": {
         "tracegroupgap": 0
        },
        "template": {
         "data": {
          "bar": [
           {
            "error_x": {
             "color": "#2a3f5f"
            },
            "error_y": {
             "color": "#2a3f5f"
            },
            "marker": {
             "line": {
              "color": "#E5ECF6",
              "width": 0.5
             },
             "pattern": {
              "fillmode": "overlay",
              "size": 10,
              "solidity": 0.2
             }
            },
            "type": "bar"
           }
          ],
          "barpolar": [
           {
            "marker": {
             "line": {
              "color": "#E5ECF6",
              "width": 0.5
             },
             "pattern": {
              "fillmode": "overlay",
              "size": 10,
              "solidity": 0.2
             }
            },
            "type": "barpolar"
           }
          ],
          "carpet": [
           {
            "aaxis": {
             "endlinecolor": "#2a3f5f",
             "gridcolor": "white",
             "linecolor": "white",
             "minorgridcolor": "white",
             "startlinecolor": "#2a3f5f"
            },
            "baxis": {
             "endlinecolor": "#2a3f5f",
             "gridcolor": "white",
             "linecolor": "white",
             "minorgridcolor": "white",
             "startlinecolor": "#2a3f5f"
            },
            "type": "carpet"
           }
          ],
          "choropleth": [
           {
            "colorbar": {
             "outlinewidth": 0,
             "ticks": ""
            },
            "type": "choropleth"
           }
          ],
          "contour": [
           {
            "colorbar": {
             "outlinewidth": 0,
             "ticks": ""
            },
            "colorscale": [
             [
              0,
              "#0d0887"
             ],
             [
              0.1111111111111111,
              "#46039f"
             ],
             [
              0.2222222222222222,
              "#7201a8"
             ],
             [
              0.3333333333333333,
              "#9c179e"
             ],
             [
              0.4444444444444444,
              "#bd3786"
             ],
             [
              0.5555555555555556,
              "#d8576b"
             ],
             [
              0.6666666666666666,
              "#ed7953"
             ],
             [
              0.7777777777777778,
              "#fb9f3a"
             ],
             [
              0.8888888888888888,
              "#fdca26"
             ],
             [
              1,
              "#f0f921"
             ]
            ],
            "type": "contour"
           }
          ],
          "contourcarpet": [
           {
            "colorbar": {
             "outlinewidth": 0,
             "ticks": ""
            },
            "type": "contourcarpet"
           }
          ],
          "heatmap": [
           {
            "colorbar": {
             "outlinewidth": 0,
             "ticks": ""
            },
            "colorscale": [
             [
              0,
              "#0d0887"
             ],
             [
              0.1111111111111111,
              "#46039f"
             ],
             [
              0.2222222222222222,
              "#7201a8"
             ],
             [
              0.3333333333333333,
              "#9c179e"
             ],
             [
              0.4444444444444444,
              "#bd3786"
             ],
             [
              0.5555555555555556,
              "#d8576b"
             ],
             [
              0.6666666666666666,
              "#ed7953"
             ],
             [
              0.7777777777777778,
              "#fb9f3a"
             ],
             [
              0.8888888888888888,
              "#fdca26"
             ],
             [
              1,
              "#f0f921"
             ]
            ],
            "type": "heatmap"
           }
          ],
          "heatmapgl": [
           {
            "colorbar": {
             "outlinewidth": 0,
             "ticks": ""
            },
            "colorscale": [
             [
              0,
              "#0d0887"
             ],
             [
              0.1111111111111111,
              "#46039f"
             ],
             [
              0.2222222222222222,
              "#7201a8"
             ],
             [
              0.3333333333333333,
              "#9c179e"
             ],
             [
              0.4444444444444444,
              "#bd3786"
             ],
             [
              0.5555555555555556,
              "#d8576b"
             ],
             [
              0.6666666666666666,
              "#ed7953"
             ],
             [
              0.7777777777777778,
              "#fb9f3a"
             ],
             [
              0.8888888888888888,
              "#fdca26"
             ],
             [
              1,
              "#f0f921"
             ]
            ],
            "type": "heatmapgl"
           }
          ],
          "histogram": [
           {
            "marker": {
             "pattern": {
              "fillmode": "overlay",
              "size": 10,
              "solidity": 0.2
             }
            },
            "type": "histogram"
           }
          ],
          "histogram2d": [
           {
            "colorbar": {
             "outlinewidth": 0,
             "ticks": ""
            },
            "colorscale": [
             [
              0,
              "#0d0887"
             ],
             [
              0.1111111111111111,
              "#46039f"
             ],
             [
              0.2222222222222222,
              "#7201a8"
             ],
             [
              0.3333333333333333,
              "#9c179e"
             ],
             [
              0.4444444444444444,
              "#bd3786"
             ],
             [
              0.5555555555555556,
              "#d8576b"
             ],
             [
              0.6666666666666666,
              "#ed7953"
             ],
             [
              0.7777777777777778,
              "#fb9f3a"
             ],
             [
              0.8888888888888888,
              "#fdca26"
             ],
             [
              1,
              "#f0f921"
             ]
            ],
            "type": "histogram2d"
           }
          ],
          "histogram2dcontour": [
           {
            "colorbar": {
             "outlinewidth": 0,
             "ticks": ""
            },
            "colorscale": [
             [
              0,
              "#0d0887"
             ],
             [
              0.1111111111111111,
              "#46039f"
             ],
             [
              0.2222222222222222,
              "#7201a8"
             ],
             [
              0.3333333333333333,
              "#9c179e"
             ],
             [
              0.4444444444444444,
              "#bd3786"
             ],
             [
              0.5555555555555556,
              "#d8576b"
             ],
             [
              0.6666666666666666,
              "#ed7953"
             ],
             [
              0.7777777777777778,
              "#fb9f3a"
             ],
             [
              0.8888888888888888,
              "#fdca26"
             ],
             [
              1,
              "#f0f921"
             ]
            ],
            "type": "histogram2dcontour"
           }
          ],
          "mesh3d": [
           {
            "colorbar": {
             "outlinewidth": 0,
             "ticks": ""
            },
            "type": "mesh3d"
           }
          ],
          "parcoords": [
           {
            "line": {
             "colorbar": {
              "outlinewidth": 0,
              "ticks": ""
             }
            },
            "type": "parcoords"
           }
          ],
          "pie": [
           {
            "automargin": true,
            "type": "pie"
           }
          ],
          "scatter": [
           {
            "fillpattern": {
             "fillmode": "overlay",
             "size": 10,
             "solidity": 0.2
            },
            "type": "scatter"
           }
          ],
          "scatter3d": [
           {
            "line": {
             "colorbar": {
              "outlinewidth": 0,
              "ticks": ""
             }
            },
            "marker": {
             "colorbar": {
              "outlinewidth": 0,
              "ticks": ""
             }
            },
            "type": "scatter3d"
           }
          ],
          "scattercarpet": [
           {
            "marker": {
             "colorbar": {
              "outlinewidth": 0,
              "ticks": ""
             }
            },
            "type": "scattercarpet"
           }
          ],
          "scattergeo": [
           {
            "marker": {
             "colorbar": {
              "outlinewidth": 0,
              "ticks": ""
             }
            },
            "type": "scattergeo"
           }
          ],
          "scattergl": [
           {
            "marker": {
             "colorbar": {
              "outlinewidth": 0,
              "ticks": ""
             }
            },
            "type": "scattergl"
           }
          ],
          "scattermapbox": [
           {
            "marker": {
             "colorbar": {
              "outlinewidth": 0,
              "ticks": ""
             }
            },
            "type": "scattermapbox"
           }
          ],
          "scatterpolar": [
           {
            "marker": {
             "colorbar": {
              "outlinewidth": 0,
              "ticks": ""
             }
            },
            "type": "scatterpolar"
           }
          ],
          "scatterpolargl": [
           {
            "marker": {
             "colorbar": {
              "outlinewidth": 0,
              "ticks": ""
             }
            },
            "type": "scatterpolargl"
           }
          ],
          "scatterternary": [
           {
            "marker": {
             "colorbar": {
              "outlinewidth": 0,
              "ticks": ""
             }
            },
            "type": "scatterternary"
           }
          ],
          "surface": [
           {
            "colorbar": {
             "outlinewidth": 0,
             "ticks": ""
            },
            "colorscale": [
             [
              0,
              "#0d0887"
             ],
             [
              0.1111111111111111,
              "#46039f"
             ],
             [
              0.2222222222222222,
              "#7201a8"
             ],
             [
              0.3333333333333333,
              "#9c179e"
             ],
             [
              0.4444444444444444,
              "#bd3786"
             ],
             [
              0.5555555555555556,
              "#d8576b"
             ],
             [
              0.6666666666666666,
              "#ed7953"
             ],
             [
              0.7777777777777778,
              "#fb9f3a"
             ],
             [
              0.8888888888888888,
              "#fdca26"
             ],
             [
              1,
              "#f0f921"
             ]
            ],
            "type": "surface"
           }
          ],
          "table": [
           {
            "cells": {
             "fill": {
              "color": "#EBF0F8"
             },
             "line": {
              "color": "white"
             }
            },
            "header": {
             "fill": {
              "color": "#C8D4E3"
             },
             "line": {
              "color": "white"
             }
            },
            "type": "table"
           }
          ]
         },
         "layout": {
          "annotationdefaults": {
           "arrowcolor": "#2a3f5f",
           "arrowhead": 0,
           "arrowwidth": 1
          },
          "autotypenumbers": "strict",
          "coloraxis": {
           "colorbar": {
            "outlinewidth": 0,
            "ticks": ""
           }
          },
          "colorscale": {
           "diverging": [
            [
             0,
             "#8e0152"
            ],
            [
             0.1,
             "#c51b7d"
            ],
            [
             0.2,
             "#de77ae"
            ],
            [
             0.3,
             "#f1b6da"
            ],
            [
             0.4,
             "#fde0ef"
            ],
            [
             0.5,
             "#f7f7f7"
            ],
            [
             0.6,
             "#e6f5d0"
            ],
            [
             0.7,
             "#b8e186"
            ],
            [
             0.8,
             "#7fbc41"
            ],
            [
             0.9,
             "#4d9221"
            ],
            [
             1,
             "#276419"
            ]
           ],
           "sequential": [
            [
             0,
             "#0d0887"
            ],
            [
             0.1111111111111111,
             "#46039f"
            ],
            [
             0.2222222222222222,
             "#7201a8"
            ],
            [
             0.3333333333333333,
             "#9c179e"
            ],
            [
             0.4444444444444444,
             "#bd3786"
            ],
            [
             0.5555555555555556,
             "#d8576b"
            ],
            [
             0.6666666666666666,
             "#ed7953"
            ],
            [
             0.7777777777777778,
             "#fb9f3a"
            ],
            [
             0.8888888888888888,
             "#fdca26"
            ],
            [
             1,
             "#f0f921"
            ]
           ],
           "sequentialminus": [
            [
             0,
             "#0d0887"
            ],
            [
             0.1111111111111111,
             "#46039f"
            ],
            [
             0.2222222222222222,
             "#7201a8"
            ],
            [
             0.3333333333333333,
             "#9c179e"
            ],
            [
             0.4444444444444444,
             "#bd3786"
            ],
            [
             0.5555555555555556,
             "#d8576b"
            ],
            [
             0.6666666666666666,
             "#ed7953"
            ],
            [
             0.7777777777777778,
             "#fb9f3a"
            ],
            [
             0.8888888888888888,
             "#fdca26"
            ],
            [
             1,
             "#f0f921"
            ]
           ]
          },
          "colorway": [
           "#636efa",
           "#EF553B",
           "#00cc96",
           "#ab63fa",
           "#FFA15A",
           "#19d3f3",
           "#FF6692",
           "#B6E880",
           "#FF97FF",
           "#FECB52"
          ],
          "font": {
           "color": "#2a3f5f"
          },
          "geo": {
           "bgcolor": "white",
           "lakecolor": "white",
           "landcolor": "#E5ECF6",
           "showlakes": true,
           "showland": true,
           "subunitcolor": "white"
          },
          "hoverlabel": {
           "align": "left"
          },
          "hovermode": "closest",
          "mapbox": {
           "style": "light"
          },
          "paper_bgcolor": "white",
          "plot_bgcolor": "#E5ECF6",
          "polar": {
           "angularaxis": {
            "gridcolor": "white",
            "linecolor": "white",
            "ticks": ""
           },
           "bgcolor": "#E5ECF6",
           "radialaxis": {
            "gridcolor": "white",
            "linecolor": "white",
            "ticks": ""
           }
          },
          "scene": {
           "xaxis": {
            "backgroundcolor": "#E5ECF6",
            "gridcolor": "white",
            "gridwidth": 2,
            "linecolor": "white",
            "showbackground": true,
            "ticks": "",
            "zerolinecolor": "white"
           },
           "yaxis": {
            "backgroundcolor": "#E5ECF6",
            "gridcolor": "white",
            "gridwidth": 2,
            "linecolor": "white",
            "showbackground": true,
            "ticks": "",
            "zerolinecolor": "white"
           },
           "zaxis": {
            "backgroundcolor": "#E5ECF6",
            "gridcolor": "white",
            "gridwidth": 2,
            "linecolor": "white",
            "showbackground": true,
            "ticks": "",
            "zerolinecolor": "white"
           }
          },
          "shapedefaults": {
           "line": {
            "color": "#2a3f5f"
           }
          },
          "ternary": {
           "aaxis": {
            "gridcolor": "white",
            "linecolor": "white",
            "ticks": ""
           },
           "baxis": {
            "gridcolor": "white",
            "linecolor": "white",
            "ticks": ""
           },
           "bgcolor": "#E5ECF6",
           "caxis": {
            "gridcolor": "white",
            "linecolor": "white",
            "ticks": ""
           }
          },
          "title": {
           "x": 0.05
          },
          "xaxis": {
           "automargin": true,
           "gridcolor": "white",
           "linecolor": "white",
           "ticks": "",
           "title": {
            "standoff": 15
           },
           "zerolinecolor": "white",
           "zerolinewidth": 2
          },
          "yaxis": {
           "automargin": true,
           "gridcolor": "white",
           "linecolor": "white",
           "ticks": "",
           "title": {
            "standoff": 15
           },
           "zerolinecolor": "white",
           "zerolinewidth": 2
          }
         }
        },
        "title": {
         "text": "Number of individiuals with specific age for Rugby"
        },
        "xaxis": {
         "anchor": "y",
         "domain": [
          0,
          1
         ],
         "title": {
          "text": "Age"
         }
        },
        "yaxis": {
         "anchor": "x",
         "domain": [
          0,
          1
         ],
         "title": {
          "text": "Number of athletes"
         }
        }
       }
      }
     },
     "metadata": {},
     "output_type": "display_data"
    }
   ],
   "source": [
    "def sport_age_people(sports):\n",
    "    sport = anon_df[anon_df[\"Sport\"] == sports].reset_index(drop=True)\n",
    "    sport = sport.groupby([\"Age\"]).size().reset_index(name=\"Age Count\")\n",
    "    fig = px.bar(sport, x=\"Age\", y=\"Age Count\", color=\"Age\", title=\"Number of individiuals with specific age for \" + sports, labels={\"Age Count\": \"Number of athletes\"})\n",
    "    \n",
    "    return fig.show()\n",
    "  \n",
    "sport_age_football = sport_age_people(\"Football\")\n",
    "sport_age_swimming = sport_age_people(\"Swimming\")\n",
    "sport_age_boxing = sport_age_people(\"Boxing\")\n",
    "sport_age_rugby = sport_age_people(\"Rugby\")"
   ]
  },
  {
   "cell_type": "markdown",
   "metadata": {},
   "source": [
    "## Källa\n",
    "### Många uppgifter löstes med inspiration av koden från repo nedan\n",
    "https://github.com/pr0fez/AI24-Databehandling \n"
   ]
  }
 ],
 "metadata": {
  "kernelspec": {
   "display_name": ".venv",
   "language": "python",
   "name": "python3"
  },
  "language_info": {
   "codemirror_mode": {
    "name": "ipython",
    "version": 3
   },
   "file_extension": ".py",
   "mimetype": "text/x-python",
   "name": "python",
   "nbconvert_exporter": "python",
   "pygments_lexer": "ipython3",
   "version": "3.11.0"
  }
 },
 "nbformat": 4,
 "nbformat_minor": 2
}
